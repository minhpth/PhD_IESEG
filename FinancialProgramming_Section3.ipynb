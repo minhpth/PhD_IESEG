{
 "cells": [
  {
   "cell_type": "markdown",
   "metadata": {},
   "source": [
    "![Python Logo](./img/python-logo-master-v3-TM-flattened_small.png)\n",
    "\n",
    "# Financial Programming - IÉSEG, Lille - MBD 2017-2018\n",
    "## Section 3 - Python Functions"
   ]
  },
  {
   "cell_type": "code",
   "execution_count": 1,
   "metadata": {},
   "outputs": [],
   "source": [
    "first_name = ''\n",
    "last_name = ''"
   ]
  },
  {
   "cell_type": "markdown",
   "metadata": {},
   "source": [
    "## Part 1: Review Section 2"
   ]
  },
  {
   "cell_type": "code",
   "execution_count": 1,
   "metadata": {},
   "outputs": [],
   "source": [
    "# Import libraries\n",
    "import numpy as np\n",
    "import pandas as pd\n",
    "import matplotlib.pyplot as plt"
   ]
  },
  {
   "cell_type": "markdown",
   "metadata": {},
   "source": [
    "## Part 2: Python Functions"
   ]
  },
  {
   "cell_type": "markdown",
   "metadata": {},
   "source": [
    "### 1. Self-defined function"
   ]
  },
  {
   "cell_type": "markdown",
   "metadata": {},
   "source": [
    "**1.1. Write a first simple function**"
   ]
  },
  {
   "cell_type": "code",
   "execution_count": 24,
   "metadata": {},
   "outputs": [
    {
     "name": "stdout",
     "output_type": "stream",
     "text": [
      "It's 02:21 AM !\n"
     ]
    }
   ],
   "source": [
    "# Libraries\n",
    "from datetime import datetime\n",
    "\n",
    "# Define the function WhatTime\n",
    "def WhatTime():\n",
    "    \"\"\"\n",
    "    This function print out the current time (hour:minute).\n",
    "    \n",
    "    Input: None\n",
    "    \n",
    "    Output: It's hh:mm!\n",
    "    \"\"\"\n",
    "    \n",
    "    # Get the current datetime\n",
    "    current_datetime = datetime.now()\n",
    "\n",
    "    # Print out the current time\n",
    "    print(\"It's\", current_datetime.strftime('%H:%M %p'), \"!\")\n",
    "    \n",
    "WhatTime()"
   ]
  },
  {
   "cell_type": "code",
   "execution_count": 26,
   "metadata": {},
   "outputs": [
    {
     "name": "stdout",
     "output_type": "stream",
     "text": [
      "Help on function WhatTime in module __main__:\n",
      "\n",
      "WhatTime()\n",
      "    This function print out the current time (hour:minute).\n",
      "    \n",
      "    Input: None\n",
      "    \n",
      "    Output: It's hh:mm!\n",
      "\n"
     ]
    }
   ],
   "source": [
    "# Print out the function document\n",
    "help(WhatTime)"
   ]
  },
  {
   "cell_type": "markdown",
   "metadata": {},
   "source": [
    "**1.2. Single-parameter function**"
   ]
  },
  {
   "cell_type": "markdown",
   "metadata": {},
   "source": [
    "**Example 2.1.** Print out the prime number from 1 to 100."
   ]
  },
  {
   "cell_type": "code",
   "execution_count": 35,
   "metadata": {},
   "outputs": [
    {
     "name": "stdout",
     "output_type": "stream",
     "text": [
      "True\n",
      "False\n",
      "True\n"
     ]
    }
   ],
   "source": []
  },
  {
   "cell_type": "code",
   "execution_count": 36,
   "metadata": {},
   "outputs": [
    {
     "name": "stdout",
     "output_type": "stream",
     "text": [
      "1\n",
      "2\n",
      "3\n",
      "5\n",
      "7\n",
      "11\n",
      "13\n",
      "17\n",
      "19\n",
      "23\n",
      "29\n",
      "31\n",
      "37\n",
      "41\n",
      "43\n",
      "47\n",
      "53\n",
      "59\n",
      "61\n",
      "67\n",
      "71\n",
      "73\n",
      "79\n",
      "83\n",
      "89\n",
      "97\n"
     ]
    }
   ],
   "source": []
  },
  {
   "cell_type": "markdown",
   "metadata": {},
   "source": [
    "**Example 2.2.** Complete the prime function above with error and exception handling for (1) input is 0 or less than 0; (2) input is non-integer, e.g. character, float."
   ]
  },
  {
   "cell_type": "code",
   "execution_count": null,
   "metadata": {},
   "outputs": [],
   "source": []
  },
  {
   "cell_type": "markdown",
   "metadata": {},
   "source": [
    "**1.3. Functions with multiple parameters**"
   ]
  },
  {
   "cell_type": "code",
   "execution_count": 55,
   "metadata": {},
   "outputs": [
    {
     "name": "stdout",
     "output_type": "stream",
     "text": [
      "True\n",
      "False\n"
     ]
    }
   ],
   "source": [
    "def TriangleValid(a, b, c):\n",
    "    \"\"\"\n",
    "    This function check if the three sides of the triangle is valid or not.\n",
    "    \n",
    "    Input: lengths of three sides.\n",
    "    \n",
    "    Output: True/False\n",
    "    \"\"\"\n",
    "    \n",
    "    return (a + b > c) & (a + c > b) & (b + c > a)\n",
    "\n",
    "print(TriangleValid(3, 4, 5))\n",
    "print(TriangleValid(3, 4, 8))"
   ]
  },
  {
   "cell_type": "markdown",
   "metadata": {},
   "source": [
    "**Example 2.3.** Write a function to calculate the area of triangle knowing the lengths of three of its sides."
   ]
  },
  {
   "cell_type": "code",
   "execution_count": 57,
   "metadata": {},
   "outputs": [
    {
     "data": {
      "text/plain": [
       "6.0"
      ]
     },
     "execution_count": 57,
     "metadata": {},
     "output_type": "execute_result"
    }
   ],
   "source": []
  },
  {
   "cell_type": "markdown",
   "metadata": {},
   "source": [
    "**1.4. Function that return multiple values**"
   ]
  },
  {
   "cell_type": "code",
   "execution_count": 66,
   "metadata": {},
   "outputs": [
    {
     "name": "stdout",
     "output_type": "stream",
     "text": [
      "31.41592653589793\n",
      "78.53981633974483\n"
     ]
    }
   ],
   "source": [
    "import math  # pi value\n",
    "\n",
    "# Write a function to calculate the circular and area of a circle given the radius.\n",
    "def circle(r):\n",
    "    \"\"\"\n",
    "    This function returns the circular and area of a circle.\n",
    "    \n",
    "    Input: radius.\n",
    "    \n",
    "    Output: (circular, area)\n",
    "    \"\"\"\n",
    "    \n",
    "    circular = 2 * math.pi * r\n",
    "    area = math.pi * (r ** 2)\n",
    "    \n",
    "    return (circular, area)\n",
    "\n",
    "print(circle(5)[0])\n",
    "print(circle(5)[1])"
   ]
  },
  {
   "cell_type": "markdown",
   "metadata": {},
   "source": [
    "**1.5. Global vs. local variables**"
   ]
  },
  {
   "cell_type": "code",
   "execution_count": 71,
   "metadata": {
    "scrolled": true
   },
   "outputs": [
    {
     "name": "stdout",
     "output_type": "stream",
     "text": [
      "global\n",
      "local\n",
      "local of nested function\n",
      "global\n"
     ]
    }
   ],
   "source": [
    "# Define global variable\n",
    "m = 'global'\n",
    "\n",
    "def myFunction():\n",
    "    \n",
    "    # Access global variable inside a function\n",
    "    global m\n",
    "    print(m)\n",
    "    \n",
    "    # Define a local variable\n",
    "    n = 'local'\n",
    "    \n",
    "    def nestedFunction():\n",
    "        \n",
    "        # Access local variable inside nested function\n",
    "        nonlocal n\n",
    "        print(n)\n",
    "        \n",
    "        # Define local variable of nested function\n",
    "        p = 'local of nested function'\n",
    "        print(p)\n",
    "        \n",
    "        # Access local variable inside nested function\n",
    "        print(m)\n",
    "        \n",
    "    # Call nested function\n",
    "    nestedFunction()\n",
    "    \n",
    "myFunction()"
   ]
  },
  {
   "cell_type": "markdown",
   "metadata": {},
   "source": [
    "**1.6. Function arguments**"
   ]
  },
  {
   "cell_type": "markdown",
   "metadata": {},
   "source": [
    "**Example 2.4.** Debug the below function."
   ]
  },
  {
   "cell_type": "code",
   "execution_count": 75,
   "metadata": {},
   "outputs": [
    {
     "data": {
      "text/plain": [
       "0"
      ]
     },
     "execution_count": 75,
     "metadata": {},
     "output_type": "execute_result"
    }
   ],
   "source": []
  },
  {
   "cell_type": "code",
   "execution_count": 83,
   "metadata": {},
   "outputs": [
    {
     "name": "stdout",
     "output_type": "stream",
     "text": [
      "(1, -2, 9, 1.23)\n",
      "{'school': 'ieseg', 'program': 'mbd', 'course': 'python', 'year': 2017}\n"
     ]
    }
   ],
   "source": [
    "# Variable-length arguments (*args) + variable-length keyword arguments (**kwargs)\n",
    "def myFunction(*args, **kwargs):\n",
    "    \n",
    "    # Print out tuple of variable-length arguments\n",
    "    print(args)\n",
    "    \n",
    "    # Print out dictionary of variable-length keyword argument\n",
    "    print(kwargs)\n",
    "\n",
    "myFunction(1, -2, 9, 1.23,\n",
    "           school='ieseg',\n",
    "           program='mbd',\n",
    "           course='python',\n",
    "           year=2017\n",
    "          )"
   ]
  },
  {
   "cell_type": "markdown",
   "metadata": {},
   "source": [
    "**1.7. Class**"
   ]
  },
  {
   "cell_type": "code",
   "execution_count": 106,
   "metadata": {
    "scrolled": true
   },
   "outputs": [
    {
     "name": "stdout",
     "output_type": "stream",
     "text": [
      "20\n",
      "10.198039027185569\n"
     ]
    }
   ],
   "source": [
    "# Define a geometry class of the shape rectangle\n",
    "class Rectangle(object):\n",
    "    def __init__(self, l, w):\n",
    "        self.length = l\n",
    "        self.width  = w\n",
    "\n",
    "    def area(self):\n",
    "        return self.length * self.width\n",
    "    \n",
    "    def diagonal(self):\n",
    "        return ((self.length ** 2) +  (self.width ** 2)) ** (1/2)\n",
    "\n",
    "rec = Rectangle(2, 10)\n",
    "print(rec.area())\n",
    "print(rec.diagonal())"
   ]
  },
  {
   "cell_type": "markdown",
   "metadata": {},
   "source": [
    "**Example 2.5.** Create a class Human with these attributes: gender, age, nationality, height, weight. Then add these following methods to Human class:\n",
    "\n",
    "- say_hello() : print out \"Hi!\"\n",
    "- BMI() : calculate the BMI score based on height (kg) and weight (m)\n",
    "- BMI_status() : print out the BMI status, e.g. Severe Thinness, Normal, Overweight, etc.\n",
    "- grow_up() : increase age by 1\n",
    "\n",
    "Refs: http://www.calculator.net/bmi-calculator.html"
   ]
  },
  {
   "cell_type": "code",
   "execution_count": 103,
   "metadata": {},
   "outputs": [],
   "source": []
  },
  {
   "cell_type": "code",
   "execution_count": 104,
   "metadata": {},
   "outputs": [
    {
     "name": "stdout",
     "output_type": "stream",
     "text": [
      "Hi!\n",
      "25.099501595611173\n",
      "Overweight\n",
      "27\n",
      "28\n"
     ]
    }
   ],
   "source": [
    "me = Human('male', 27, 'Vietnam', 1.67, 70)\n",
    "\n",
    "print(me.say_hello())\n",
    "print(me.BMI())\n",
    "print(me.BMI_status())\n",
    "\n",
    "print(me.age)\n",
    "me.grow_up()\n",
    "print(me.age)"
   ]
  },
  {
   "cell_type": "markdown",
   "metadata": {},
   "source": [
    "### 2. Lambda function\n",
    "\n",
    "Refs: Lambda, filter, reduce and map. Link: https://www.python-course.eu/lambda.php"
   ]
  },
  {
   "cell_type": "code",
   "execution_count": 109,
   "metadata": {},
   "outputs": [
    {
     "data": {
      "text/plain": [
       "30"
      ]
     },
     "execution_count": 109,
     "metadata": {},
     "output_type": "execute_result"
    }
   ],
   "source": [
    "# Quick define lambda function\n",
    "mySum = lambda a, b: a + b\n",
    "mySum(10, 20)"
   ]
  },
  {
   "cell_type": "markdown",
   "metadata": {},
   "source": [
    "**2.1. The map() function**"
   ]
  },
  {
   "cell_type": "code",
   "execution_count": 126,
   "metadata": {},
   "outputs": [
    {
     "name": "stdout",
     "output_type": "stream",
     "text": [
      "[102.56, 97.7, 99.14, 100.03999999999999]\n"
     ]
    }
   ],
   "source": [
    "Celsius = [39.2, 36.5, 37.3, 37.8]\n",
    "Fahrenheit = map(lambda x: (9 / 5) * x + 32, Celsius)\n",
    "print(list(Fahrenheit))"
   ]
  },
  {
   "cell_type": "markdown",
   "metadata": {},
   "source": [
    "**2.2. The filter() function**"
   ]
  },
  {
   "cell_type": "code",
   "execution_count": 128,
   "metadata": {},
   "outputs": [
    {
     "name": "stdout",
     "output_type": "stream",
     "text": [
      "[1, 1, 3, 5, 13, 21, 55]\n"
     ]
    }
   ],
   "source": [
    "fib = [0,1,1,2,3,5,8,13,21,34,55]\n",
    "result = filter(lambda x: x % 2, fib)\n",
    "print(list(result))"
   ]
  },
  {
   "cell_type": "markdown",
   "metadata": {},
   "source": [
    "**2.3. The reduce() function**"
   ]
  },
  {
   "cell_type": "code",
   "execution_count": 132,
   "metadata": {},
   "outputs": [
    {
     "data": {
      "text/plain": [
       "113"
      ]
     },
     "execution_count": 132,
     "metadata": {},
     "output_type": "execute_result"
    }
   ],
   "source": [
    "from functools import reduce\n",
    "reduce(lambda x, y: x+y, [47, 11, 42, 13])"
   ]
  },
  {
   "cell_type": "markdown",
   "metadata": {},
   "source": [
    "## Exercises"
   ]
  },
  {
   "cell_type": "code",
   "execution_count": 110,
   "metadata": {},
   "outputs": [],
   "source": [
    "# Import libraries\n",
    "import numpy as np\n",
    "import pandas as pd\n",
    "import matplotlib.pyplot as plt"
   ]
  },
  {
   "cell_type": "markdown",
   "metadata": {},
   "source": [
    "**Exercise 3.1:** Write a function to create a list of cards for a standard 52-card deck.\n",
    "\n",
    "![52 cards](./img/52-cards.jpg)"
   ]
  },
  {
   "cell_type": "code",
   "execution_count": 116,
   "metadata": {},
   "outputs": [
    {
     "name": "stdout",
     "output_type": "stream",
     "text": [
      "52\n",
      "[['heart', '2'], ['heart', 'A'], ['heart', 'K'], ['heart', 'Q'], ['heart', 'J'], ['heart', '10'], ['heart', '9'], ['heart', '8'], ['heart', '7'], ['heart', '6'], ['heart', '5'], ['heart', '4'], ['heart', '3'], ['diamond', '2'], ['diamond', 'A'], ['diamond', 'K'], ['diamond', 'Q'], ['diamond', 'J'], ['diamond', '10'], ['diamond', '9'], ['diamond', '8'], ['diamond', '7'], ['diamond', '6'], ['diamond', '5'], ['diamond', '4'], ['diamond', '3'], ['club', '2'], ['club', 'A'], ['club', 'K'], ['club', 'Q'], ['club', 'J'], ['club', '10'], ['club', '9'], ['club', '8'], ['club', '7'], ['club', '6'], ['club', '5'], ['club', '4'], ['club', '3'], ['spade', '2'], ['spade', 'A'], ['spade', 'K'], ['spade', 'Q'], ['spade', 'J'], ['spade', '10'], ['spade', '9'], ['spade', '8'], ['spade', '7'], ['spade', '6'], ['spade', '5'], ['spade', '4'], ['spade', '3']]\n"
     ]
    }
   ],
   "source": []
  },
  {
   "cell_type": "markdown",
   "metadata": {},
   "source": [
    "**Exercise 3.2:** Using Python function to solve this exercise. You are playing a card game with 3 of your friends. Each of you draw 13 cards from a 52-card deck. What is the probability that you get at least 1 set Four of a Kind, e.g. A heart, A diamond, A club and A spade, etc.?\n",
    "\n",
    "![4 cards set](./img/14-tien-len-mien-nam.png)"
   ]
  },
  {
   "cell_type": "code",
   "execution_count": 121,
   "metadata": {},
   "outputs": [],
   "source": []
  },
  {
   "cell_type": "code",
   "execution_count": 124,
   "metadata": {},
   "outputs": [
    {
     "name": "stdout",
     "output_type": "stream",
     "text": [
      "0.0327\n"
     ]
    }
   ],
   "source": []
  }
 ],
 "metadata": {
  "kernelspec": {
   "display_name": "Python [default]",
   "language": "python",
   "name": "python3"
  },
  "language_info": {
   "codemirror_mode": {
    "name": "ipython",
    "version": 3
   },
   "file_extension": ".py",
   "mimetype": "text/x-python",
   "name": "python",
   "nbconvert_exporter": "python",
   "pygments_lexer": "ipython3",
   "version": "3.6.3"
  }
 },
 "nbformat": 4,
 "nbformat_minor": 2
}
