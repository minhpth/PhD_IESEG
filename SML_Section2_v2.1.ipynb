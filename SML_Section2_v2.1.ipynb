{
 "cells": [
  {
   "cell_type": "markdown",
   "metadata": {},
   "source": [
    "![ieseg logo](./img/ieseg.png)\n",
    "\n",
    "#### MBD 2017-2018\n",
    "# Statistical & Machine Learning Approaches for Marketing\n",
    "\n",
    "## Section 2: Classification"
   ]
  },
  {
   "cell_type": "markdown",
   "metadata": {},
   "source": [
    "**1. Import all required libraries and datasets**"
   ]
  },
  {
   "cell_type": "code",
   "execution_count": 48,
   "metadata": {},
   "outputs": [
    {
     "name": "stderr",
     "output_type": "stream",
     "text": [
      "Loading required package: lattice\n",
      "Loading required package: ggplot2\n",
      "\n",
      "Attaching package: 'caret'\n",
      "\n",
      "The following object is masked from 'package:kknn':\n",
      "\n",
      "    contr.dummy\n",
      "\n",
      "The following object is masked from 'package:mlr':\n",
      "\n",
      "    train\n",
      "\n",
      "Type 'citation(\"pROC\")' for a citation.\n",
      "\n",
      "Attaching package: 'pROC'\n",
      "\n",
      "The following objects are masked from 'package:stats':\n",
      "\n",
      "    cov, smooth, var\n",
      "\n"
     ]
    }
   ],
   "source": [
    "# Set environment params\n",
    "Sys.setenv(LANG='en')  # English\n",
    "\n",
    "# Import libraries\n",
    "library(data.table)  # Data manipulate\n",
    "library(mlr)         # ML toolkit\n",
    "library(caret)       # ML toolkit\n",
    "library(ggplot2)     # Visualization\n",
    "library(pROC)        # AUC, ROC\n",
    "\n",
    "# Import data\n",
    "library(ISLR)      # Data from the course book\n",
    "library(MASS)      # Boston housing dataset\n",
    "library(datasets)  # US crime dataset\n",
    "\n",
    "# Resize plot\n",
    "library(repr)  # String and binary representations\n",
    "#options(repr.plot.width=4, repr.plot.height=4)"
   ]
  },
  {
   "cell_type": "markdown",
   "metadata": {},
   "source": [
    "**2. Why not Linear Regression?**"
   ]
  },
  {
   "cell_type": "code",
   "execution_count": 6,
   "metadata": {},
   "outputs": [
    {
     "name": "stdout",
     "output_type": "stream",
     "text": [
      "'data.frame':\t10000 obs. of  4 variables:\n",
      " $ default: Factor w/ 2 levels \"No\",\"Yes\": 1 1 1 1 1 1 1 1 1 1 ...\n",
      " $ student: Factor w/ 2 levels \"No\",\"Yes\": 1 2 1 1 1 2 1 2 1 1 ...\n",
      " $ balance: num  730 817 1074 529 786 ...\n",
      " $ income : num  44362 12106 31767 35704 38463 ...\n"
     ]
    },
    {
     "data": {
      "text/plain": [
       "\n",
       "    No    Yes \n",
       "0.9667 0.0333 "
      ]
     },
     "metadata": {},
     "output_type": "display_data"
    }
   ],
   "source": [
    "# Import Default data\n",
    "df <- Default\n",
    "str(df)\n",
    "\n",
    "# Print out the incident rate\n",
    "table(df$default)/nrow(df)"
   ]
  },
  {
   "cell_type": "code",
   "execution_count": 7,
   "metadata": {},
   "outputs": [],
   "source": [
    "# Train test separate with stratified\n",
    "set.seed(123)\n",
    "train_idx <- createDataPartition(df$default, p=.7, list=FALSE)\n",
    "train <- df[train_idx, ]\n",
    "test <- df[-train_idx, ]"
   ]
  },
  {
   "cell_type": "code",
   "execution_count": 8,
   "metadata": {},
   "outputs": [
    {
     "data": {
      "text/plain": [
       "\n",
       "Call:\n",
       "lm(formula = default ~ ., data = train_lr)\n",
       "\n",
       "Residuals:\n",
       "     Min       1Q   Median       3Q      Max \n",
       "-0.24806 -0.06961 -0.02651  0.02050  0.98408 \n",
       "\n",
       "Coefficients:\n",
       "              Estimate Std. Error t value Pr(>|t|)    \n",
       "(Intercept) -8.551e-02  1.004e-02  -8.521   <2e-16 ***\n",
       "studentYes  -7.722e-03  6.778e-03  -1.139    0.255    \n",
       "balance      1.328e-04  4.249e-06  31.245   <2e-16 ***\n",
       "income       3.211e-07  2.293e-07   1.401    0.161    \n",
       "---\n",
       "Signif. codes:  0 '***' 0.001 '**' 0.01 '*' 0.05 '.' 0.1 ' ' 1\n",
       "\n",
       "Residual standard error: 0.1683 on 6997 degrees of freedom\n",
       "Multiple R-squared:  0.1241,\tAdjusted R-squared:  0.1237 \n",
       "F-statistic: 330.3 on 3 and 6997 DF,  p-value: < 2.2e-16\n"
      ]
     },
     "metadata": {},
     "output_type": "display_data"
    }
   ],
   "source": [
    "# Encode the response before fiting to Linear Regression model\n",
    "train_lr <- train\n",
    "test_lr <- test\n",
    "train_lr$default <- as.numeric(train_lr$default) - 1\n",
    "test_lr$default <- as.numeric(test_lr$default) - 1\n",
    "\n",
    "# Fit Linear Regression model\n",
    "md_lr <- lm(default ~ ., data=train_lr)\n",
    "summary(md_lr)"
   ]
  },
  {
   "cell_type": "code",
   "execution_count": 9,
   "metadata": {},
   "outputs": [
    {
     "data": {
      "text/html": [
       "<dl class=dl-horizontal>\n",
       "\t<dt>2</dt>\n",
       "\t\t<dd>0.0191398729050111</dd>\n",
       "\t<dt>3</dt>\n",
       "\t\t<dd>0.0672096717580117</dd>\n",
       "\t<dt>4</dt>\n",
       "\t\t<dd>-0.00378461380040601</dd>\n",
       "\t<dt>12</dt>\n",
       "\t\t<dd>0.0730672411744348</dd>\n",
       "\t<dt>13</dt>\n",
       "\t\t<dd>-0.0449698961154388</dd>\n",
       "\t<dt>14</dt>\n",
       "\t\t<dd>0.00948621467454554</dd>\n",
       "</dl>\n"
      ],
      "text/latex": [
       "\\begin{description*}\n",
       "\\item[2] 0.0191398729050111\n",
       "\\item[3] 0.0672096717580117\n",
       "\\item[4] -0.00378461380040601\n",
       "\\item[12] 0.0730672411744348\n",
       "\\item[13] -0.0449698961154388\n",
       "\\item[14] 0.00948621467454554\n",
       "\\end{description*}\n"
      ],
      "text/markdown": [
       "2\n",
       ":   0.01913987290501113\n",
       ":   0.06720967175801174\n",
       ":   -0.0037846138004060112\n",
       ":   0.073067241174434813\n",
       ":   -0.044969896115438814\n",
       ":   0.00948621467454554\n",
       "\n"
      ],
      "text/plain": [
       "           2            3            4           12           13           14 \n",
       " 0.019139873  0.067209672 -0.003784614  0.073067241 -0.044969896  0.009486215 "
      ]
     },
     "metadata": {},
     "output_type": "display_data"
    },
    {
     "data": {
      "text/plain": [
       "    Min.  1st Qu.   Median     Mean  3rd Qu.     Max. \n",
       "-0.08993 -0.01079  0.03414  0.03494  0.07768  0.26620 "
      ]
     },
     "metadata": {},
     "output_type": "display_data"
    },
    {
     "name": "stdout",
     "output_type": "stream",
     "text": [
      "[1] \"Decision threshold=0.0333\"\n"
     ]
    },
    {
     "data": {
      "text/plain": [
       "Confusion Matrix and Statistics\n",
       "\n",
       "          Reference\n",
       "Prediction    0    1\n",
       "         0 1484    0\n",
       "         1 1416   99\n",
       "                                          \n",
       "               Accuracy : 0.5278          \n",
       "                 95% CI : (0.5098, 0.5458)\n",
       "    No Information Rate : 0.967           \n",
       "    P-Value [Acc > NIR] : 1               \n",
       "                                          \n",
       "                  Kappa : 0.0647          \n",
       " Mcnemar's Test P-Value : <2e-16          \n",
       "                                          \n",
       "            Sensitivity : 0.51172         \n",
       "            Specificity : 1.00000         \n",
       "         Pos Pred Value : 1.00000         \n",
       "         Neg Pred Value : 0.06535         \n",
       "             Prevalence : 0.96699         \n",
       "         Detection Rate : 0.49483         \n",
       "   Detection Prevalence : 0.49483         \n",
       "      Balanced Accuracy : 0.75586         \n",
       "                                          \n",
       "       'Positive' Class : 0               \n",
       "                                          "
      ]
     },
     "metadata": {},
     "output_type": "display_data"
    },
    {
     "name": "stdout",
     "output_type": "stream",
     "text": [
      "[1] \"AUC=0.532673267326733\"\n"
     ]
    }
   ],
   "source": [
    "# Predict and evaluate\n",
    "pred <- predict(md_lr, newdata=test_lr)\n",
    "head(pred)\n",
    "summary(pred)\n",
    "\n",
    "# Convert probability to class\n",
    "threshold <- (table(df$default) / nrow(df))[2]\n",
    "print(paste0('Decision threshold=', threshold))\n",
    "pred_lb <- as.numeric(pred >= threshold)\n",
    "\n",
    "# Confusion matrix\n",
    "confusionMatrix(pred_lb, test_lr$default)\n",
    "\n",
    "# AUC\n",
    "pred_roc <- roc(pred_lb, test_lr$default)\n",
    "pred_auc <- auc(pred_roc)\n",
    "print(paste0('AUC=', pred_auc))"
   ]
  },
  {
   "cell_type": "markdown",
   "metadata": {},
   "source": [
    "**3. Logistic Regression**"
   ]
  },
  {
   "cell_type": "markdown",
   "metadata": {},
   "source": [
    "**3.1. Credit Card Default Data**"
   ]
  },
  {
   "cell_type": "code",
   "execution_count": 217,
   "metadata": {},
   "outputs": [
    {
     "name": "stdout",
     "output_type": "stream",
     "text": [
      "'data.frame':\t10000 obs. of  4 variables:\n",
      " $ default: Factor w/ 2 levels \"No\",\"Yes\": 1 1 1 1 1 1 1 1 1 1 ...\n",
      " $ student: Factor w/ 2 levels \"No\",\"Yes\": 1 2 1 1 1 2 1 2 1 1 ...\n",
      " $ balance: num  730 817 1074 529 786 ...\n",
      " $ income : num  44362 12106 31767 35704 38463 ...\n"
     ]
    }
   ],
   "source": [
    "# Input data\n",
    "library(ISLR)\n",
    "df <- Default\n",
    "str(df)"
   ]
  },
  {
   "cell_type": "code",
   "execution_count": 222,
   "metadata": {},
   "outputs": [
    {
     "data": {
      "image/png": "[encoded data removed]",
      "text/plain": [
       "plot without title"
      ]
     },
     "metadata": {},
     "output_type": "display_data"
    }
   ],
   "source": [
    "# Relationship between balance and default\n",
    "options(repr.plot.width=8, repr.plot.height=4)\n",
    "par(mfrow=c(1, 2))\n",
    "plot(df$balance, df$default)\n",
    "boxplot(balance ~ default, data=df)"
   ]
  },
  {
   "cell_type": "code",
   "execution_count": 225,
   "metadata": {},
   "outputs": [
    {
     "data": {
      "text/plain": [
       "\n",
       "Call:\n",
       "glm(formula = default ~ balance, family = \"binomial\", data = df)\n",
       "\n",
       "Deviance Residuals: \n",
       "    Min       1Q   Median       3Q      Max  \n",
       "-2.2697  -0.1465  -0.0589  -0.0221   3.7589  \n",
       "\n",
       "Coefficients:\n",
       "              Estimate Std. Error z value Pr(>|z|)    \n",
       "(Intercept) -1.065e+01  3.612e-01  -29.49   <2e-16 ***\n",
       "balance      5.499e-03  2.204e-04   24.95   <2e-16 ***\n",
       "---\n",
       "Signif. codes:  0 '***' 0.001 '**' 0.01 '*' 0.05 '.' 0.1 ' ' 1\n",
       "\n",
       "(Dispersion parameter for binomial family taken to be 1)\n",
       "\n",
       "    Null deviance: 2920.6  on 9999  degrees of freedom\n",
       "Residual deviance: 1596.5  on 9998  degrees of freedom\n",
       "AIC: 1600.5\n",
       "\n",
       "Number of Fisher Scoring iterations: 8\n"
      ]
     },
     "metadata": {},
     "output_type": "display_data"
    }
   ],
   "source": [
    "# Fit Logistic Regression model between balance and default\n",
    "md_logreg <- glm(default ~ balance, data=df, family='binomial')\n",
    "summary(md_logreg)"
   ]
  },
  {
   "cell_type": "code",
   "execution_count": 226,
   "metadata": {},
   "outputs": [
    {
     "data": {
      "text/plain": [
       "\n",
       "Call:\n",
       "glm(formula = default ~ student, family = \"binomial\", data = df)\n",
       "\n",
       "Deviance Residuals: \n",
       "    Min       1Q   Median       3Q      Max  \n",
       "-0.2970  -0.2970  -0.2434  -0.2434   2.6585  \n",
       "\n",
       "Coefficients:\n",
       "            Estimate Std. Error z value Pr(>|z|)    \n",
       "(Intercept) -3.50413    0.07071  -49.55  < 2e-16 ***\n",
       "studentYes   0.40489    0.11502    3.52 0.000431 ***\n",
       "---\n",
       "Signif. codes:  0 '***' 0.001 '**' 0.01 '*' 0.05 '.' 0.1 ' ' 1\n",
       "\n",
       "(Dispersion parameter for binomial family taken to be 1)\n",
       "\n",
       "    Null deviance: 2920.6  on 9999  degrees of freedom\n",
       "Residual deviance: 2908.7  on 9998  degrees of freedom\n",
       "AIC: 2912.7\n",
       "\n",
       "Number of Fisher Scoring iterations: 6\n"
      ]
     },
     "metadata": {},
     "output_type": "display_data"
    }
   ],
   "source": [
    "# Fit Logistic Regression model between student and default\n",
    "md_logreg <- glm(default ~ student, data=df, family='binomial')\n",
    "summary(md_logreg)"
   ]
  },
  {
   "cell_type": "markdown",
   "metadata": {},
   "source": [
    "**3.2. South African Heart Disease Data**"
   ]
  },
  {
   "cell_type": "code",
   "execution_count": 18,
   "metadata": {},
   "outputs": [
    {
     "name": "stdout",
     "output_type": "stream",
     "text": [
      "'data.frame':\t462 obs. of  10 variables:\n",
      " $ sbp      : int  160 144 118 170 134 132 142 114 114 132 ...\n",
      " $ tobacco  : num  12 0.01 0.08 7.5 13.6 6.2 4.05 4.08 0 0 ...\n",
      " $ ldl      : num  5.73 4.41 3.48 6.41 3.5 6.47 3.38 4.59 3.83 5.8 ...\n",
      " $ adiposity: num  23.1 28.6 32.3 38 27.8 ...\n",
      " $ famhist  : Factor w/ 2 levels \"Absent\",\"Present\": 2 1 2 2 2 2 1 2 2 2 ...\n",
      " $ typea    : int  49 55 52 51 60 62 59 62 49 69 ...\n",
      " $ obesity  : num  25.3 28.9 29.1 32 26 ...\n",
      " $ alcohol  : num  97.2 2.06 3.81 24.26 57.34 ...\n",
      " $ age      : int  52 63 46 58 49 45 38 58 29 53 ...\n",
      " $ chd      : int  1 1 0 1 1 0 0 1 0 1 ...\n"
     ]
    }
   ],
   "source": [
    "# Input data\n",
    "# Source: https://web.stanford.edu/~hastie/ElemStatLearn/datasets/SAheart.info.txt\n",
    "heart <- read.csv('./data/SAheart.csv', row.names=1)\n",
    "str(heart)"
   ]
  },
  {
   "cell_type": "code",
   "execution_count": 232,
   "metadata": {},
   "outputs": [
    {
     "data": {
      "text/plain": [
       "\n",
       "  0   1 \n",
       "302 160 "
      ]
     },
     "metadata": {},
     "output_type": "display_data"
    }
   ],
   "source": [
    "# Cases and controls\n",
    "table(heart$chd)"
   ]
  },
  {
   "cell_type": "code",
   "execution_count": 19,
   "metadata": {},
   "outputs": [
    {
     "data": {
      "image/png": "[encoded data removed]",
      "text/plain": [
       "plot without title"
      ]
     },
     "metadata": {},
     "output_type": "display_data"
    }
   ],
   "source": [
    "# Pair plot\n",
    "options(repr.plot.width=8, repr.plot.height=8)\n",
    "cols <- rep('red', nrow(heart))\n",
    "cols[heart$chd == 0] <- 'blue'\n",
    "pairs(heart, col=cols)"
   ]
  },
  {
   "cell_type": "code",
   "execution_count": 238,
   "metadata": {},
   "outputs": [
    {
     "data": {
      "text/plain": [
       "\n",
       "Call:\n",
       "glm(formula = chd ~ ., family = \"binomial\", data = heart)\n",
       "\n",
       "Deviance Residuals: \n",
       "    Min       1Q   Median       3Q      Max  \n",
       "-1.7781  -0.8213  -0.4387   0.8889   2.5435  \n",
       "\n",
       "Coefficients:\n",
       "                 Estimate Std. Error z value Pr(>|z|)    \n",
       "(Intercept)    -6.1507209  1.3082600  -4.701 2.58e-06 ***\n",
       "sbp             0.0065040  0.0057304   1.135 0.256374    \n",
       "tobacco         0.0793764  0.0266028   2.984 0.002847 ** \n",
       "ldl             0.1739239  0.0596617   2.915 0.003555 ** \n",
       "adiposity       0.0185866  0.0292894   0.635 0.525700    \n",
       "famhistPresent  0.9253704  0.2278940   4.061 4.90e-05 ***\n",
       "typea           0.0395950  0.0123202   3.214 0.001310 ** \n",
       "obesity        -0.0629099  0.0442477  -1.422 0.155095    \n",
       "alcohol         0.0001217  0.0044832   0.027 0.978350    \n",
       "age             0.0452253  0.0121298   3.728 0.000193 ***\n",
       "---\n",
       "Signif. codes:  0 '***' 0.001 '**' 0.01 '*' 0.05 '.' 0.1 ' ' 1\n",
       "\n",
       "(Dispersion parameter for binomial family taken to be 1)\n",
       "\n",
       "    Null deviance: 596.11  on 461  degrees of freedom\n",
       "Residual deviance: 472.14  on 452  degrees of freedom\n",
       "AIC: 492.14\n",
       "\n",
       "Number of Fisher Scoring iterations: 5\n"
      ]
     },
     "metadata": {},
     "output_type": "display_data"
    }
   ],
   "source": [
    "# Fit logistic regression model\n",
    "md_logreg <- glm(chd ~ ., data=heart, family='binomial')\n",
    "summary(md_logreg)"
   ]
  },
  {
   "cell_type": "markdown",
   "metadata": {},
   "source": [
    "**4. Discriminant Analysis**"
   ]
  },
  {
   "cell_type": "markdown",
   "metadata": {},
   "source": [
    "**4.1. Linear Discriminant Analysis (LDA)**"
   ]
  },
  {
   "cell_type": "code",
   "execution_count": 14,
   "metadata": {},
   "outputs": [
    {
     "name": "stdout",
     "output_type": "stream",
     "text": [
      "'data.frame':\t150 obs. of  5 variables:\n",
      " $ Sepal.Length: num  5.1 4.9 4.7 4.6 5 5.4 4.6 5 4.4 4.9 ...\n",
      " $ Sepal.Width : num  3.5 3 3.2 3.1 3.6 3.9 3.4 3.4 2.9 3.1 ...\n",
      " $ Petal.Length: num  1.4 1.4 1.3 1.5 1.4 1.7 1.4 1.5 1.4 1.5 ...\n",
      " $ Petal.Width : num  0.2 0.2 0.2 0.2 0.2 0.4 0.3 0.2 0.2 0.1 ...\n",
      " $ Species     : Factor w/ 3 levels \"setosa\",\"versicolor\",..: 1 1 1 1 1 1 1 1 1 1 ...\n"
     ]
    }
   ],
   "source": [
    "# Load data\n",
    "data(iris)\n",
    "str(iris)"
   ]
  },
  {
   "cell_type": "code",
   "execution_count": 15,
   "metadata": {},
   "outputs": [
    {
     "data": {
      "text/plain": [
       "\n",
       "    setosa versicolor  virginica \n",
       "        50         50         50 "
      ]
     },
     "metadata": {},
     "output_type": "display_data"
    }
   ],
   "source": [
    "# Print out the class\n",
    "table(iris$Species)"
   ]
  },
  {
   "cell_type": "code",
   "execution_count": 20,
   "metadata": {},
   "outputs": [
    {
     "data": {
      "image/png": "[encoded data removed]",
      "text/plain": [
       "plot without title"
      ]
     },
     "metadata": {},
     "output_type": "display_data"
    }
   ],
   "source": [
    "# Pair plot\n",
    "options(repr.plot.width=6, repr.plot.height=6)\n",
    "cols <- character(nrow(iris))\n",
    "cols[] <- \"black\"\n",
    "cols[iris$Species == \"setosa\"] <- \"red\"\n",
    "cols[iris$Species == \"versicolor\"] <- \"green\"\n",
    "cols[iris$Species == \"virginica\"] <- \"blue\"\n",
    "pairs(iris[, -5], col=cols)"
   ]
  },
  {
   "cell_type": "code",
   "execution_count": 21,
   "metadata": {},
   "outputs": [
    {
     "data": {
      "text/plain": [
       "Call:\n",
       "lda(Species ~ ., data = iris)\n",
       "\n",
       "Prior probabilities of groups:\n",
       "    setosa versicolor  virginica \n",
       " 0.3333333  0.3333333  0.3333333 \n",
       "\n",
       "Group means:\n",
       "           Sepal.Length Sepal.Width Petal.Length Petal.Width\n",
       "setosa            5.006       3.428        1.462       0.246\n",
       "versicolor        5.936       2.770        4.260       1.326\n",
       "virginica         6.588       2.974        5.552       2.026\n",
       "\n",
       "Coefficients of linear discriminants:\n",
       "                    LD1         LD2\n",
       "Sepal.Length  0.8293776  0.02410215\n",
       "Sepal.Width   1.5344731  2.16452123\n",
       "Petal.Length -2.2012117 -0.93192121\n",
       "Petal.Width  -2.8104603  2.83918785\n",
       "\n",
       "Proportion of trace:\n",
       "   LD1    LD2 \n",
       "0.9912 0.0088 "
      ]
     },
     "metadata": {},
     "output_type": "display_data"
    }
   ],
   "source": [
    "# Fit LDA model\n",
    "library(MASS)\n",
    "md_lda <- lda(Species ~ ., data=iris)\n",
    "md_lda"
   ]
  },
  {
   "cell_type": "code",
   "execution_count": 46,
   "metadata": {},
   "outputs": [
    {
     "data": {
      "image/png": "[encoded data removed]",
      "text/plain": [
       "plot without title"
      ]
     },
     "metadata": {},
     "output_type": "display_data"
    }
   ],
   "source": [
    "options(repr.plot.width=4, repr.plot.height=4)\n",
    "plot(md_lda, col=as.integer(iris$Species), pch=20)"
   ]
  },
  {
   "cell_type": "code",
   "execution_count": 51,
   "metadata": {},
   "outputs": [
    {
     "name": "stderr",
     "output_type": "stream",
     "text": [
      "`stat_bin()` using `bins = 30`. Pick better value with `binwidth`.\n"
     ]
    },
    {
     "data": {},
     "metadata": {},
     "output_type": "display_data"
    },
    {
     "name": "stderr",
     "output_type": "stream",
     "text": [
      "`stat_bin()` using `bins = 30`. Pick better value with `binwidth`.\n"
     ]
    },
    {
     "data": {},
     "metadata": {},
     "output_type": "display_data"
    },
    {
     "data": {
      "image/png": "[encoded data removed]",
      "text/plain": [
       "plot without title"
      ]
     },
     "metadata": {},
     "output_type": "display_data"
    },
    {
     "data": {
      "image/png": "[encoded data removed]",
      "text/plain": [
       "plot without title"
      ]
     },
     "metadata": {},
     "output_type": "display_data"
    }
   ],
   "source": [
    "# Convert data points to new coordinate\n",
    "ld1 <- as.matrix(iris[, -5]) %*% md_lda$scaling[, 1]  # 1st axis\n",
    "ld2 <- as.matrix(iris[, -5]) %*% md_lda$scaling[, 2]  # 2nd axis\n",
    "\n",
    "# Plot\n",
    "iris_lda <- data.frame(LD1=ld1, LD2=ld2, Species=iris$Species)\n",
    "\n",
    "options(repr.plot.width=8, repr.plot.height=4)\n",
    "ggplot(data=iris_lda, aes(x=LD1, fill=Species)) + \n",
    "  geom_histogram(colour='white')\n",
    "\n",
    "ggplot(data=iris_lda, aes(x=LD2, fill=Species)) + \n",
    "  geom_histogram(colour='white') "
   ]
  },
  {
   "cell_type": "code",
   "execution_count": 23,
   "metadata": {},
   "outputs": [
    {
     "data": {
      "text/html": [
       "<table>\n",
       "<thead><tr><th></th><th scope=col>setosa</th><th scope=col>versicolor</th><th scope=col>virginica</th></tr></thead>\n",
       "<tbody>\n",
       "\t<tr><th scope=row>1</th><td>1           </td><td>3.896358e-22</td><td>2.611168e-42</td></tr>\n",
       "\t<tr><th scope=row>2</th><td>1           </td><td>7.217970e-18</td><td>5.042143e-37</td></tr>\n",
       "\t<tr><th scope=row>3</th><td>1           </td><td>1.463849e-19</td><td>4.675932e-39</td></tr>\n",
       "\t<tr><th scope=row>4</th><td>1           </td><td>1.268536e-16</td><td>3.566610e-35</td></tr>\n",
       "\t<tr><th scope=row>5</th><td>1           </td><td>1.637387e-22</td><td>1.082605e-42</td></tr>\n",
       "\t<tr><th scope=row>6</th><td>1           </td><td>3.883282e-21</td><td>4.566540e-40</td></tr>\n",
       "</tbody>\n",
       "</table>\n"
      ],
      "text/latex": [
       "\\begin{tabular}{r|lll}\n",
       "  & setosa & versicolor & virginica\\\\\n",
       "\\hline\n",
       "\t1 & 1            & 3.896358e-22 & 2.611168e-42\\\\\n",
       "\t2 & 1            & 7.217970e-18 & 5.042143e-37\\\\\n",
       "\t3 & 1            & 1.463849e-19 & 4.675932e-39\\\\\n",
       "\t4 & 1            & 1.268536e-16 & 3.566610e-35\\\\\n",
       "\t5 & 1            & 1.637387e-22 & 1.082605e-42\\\\\n",
       "\t6 & 1            & 3.883282e-21 & 4.566540e-40\\\\\n",
       "\\end{tabular}\n"
      ],
      "text/markdown": [
       "\n",
       "| <!--/--> | setosa | versicolor | virginica | \n",
       "|---|---|---|---|---|---|\n",
       "| 1 | 1            | 3.896358e-22 | 2.611168e-42 | \n",
       "| 2 | 1            | 7.217970e-18 | 5.042143e-37 | \n",
       "| 3 | 1            | 1.463849e-19 | 4.675932e-39 | \n",
       "| 4 | 1            | 1.268536e-16 | 3.566610e-35 | \n",
       "| 5 | 1            | 1.637387e-22 | 1.082605e-42 | \n",
       "| 6 | 1            | 3.883282e-21 | 4.566540e-40 | \n",
       "\n",
       "\n"
      ],
      "text/plain": [
       "  setosa versicolor   virginica   \n",
       "1 1      3.896358e-22 2.611168e-42\n",
       "2 1      7.217970e-18 5.042143e-37\n",
       "3 1      1.463849e-19 4.675932e-39\n",
       "4 1      1.268536e-16 3.566610e-35\n",
       "5 1      1.637387e-22 1.082605e-42\n",
       "6 1      3.883282e-21 4.566540e-40"
      ]
     },
     "metadata": {},
     "output_type": "display_data"
    }
   ],
   "source": [
    "# Make some prediction\n",
    "lda_pred <- predict(md_lda)\n",
    "head(lda_pred$posterior)"
   ]
  },
  {
   "cell_type": "markdown",
   "metadata": {},
   "source": [
    "**4.2. Quadratic Discriminant Analysis (QDA)**"
   ]
  },
  {
   "cell_type": "code",
   "execution_count": 18,
   "metadata": {},
   "outputs": [
    {
     "data": {
      "text/plain": [
       "Call:\n",
       "qda(Species ~ ., data = iris)\n",
       "\n",
       "Prior probabilities of groups:\n",
       "    setosa versicolor  virginica \n",
       " 0.3333333  0.3333333  0.3333333 \n",
       "\n",
       "Group means:\n",
       "           Sepal.Length Sepal.Width Petal.Length Petal.Width\n",
       "setosa            5.006       3.428        1.462       0.246\n",
       "versicolor        5.936       2.770        4.260       1.326\n",
       "virginica         6.588       2.974        5.552       2.026"
      ]
     },
     "metadata": {},
     "output_type": "display_data"
    }
   ],
   "source": [
    "# Fit QDA model\n",
    "library(MASS)\n",
    "md_qda <- qda(Species ~ ., data=iris)\n",
    "md_qda"
   ]
  },
  {
   "cell_type": "code",
   "execution_count": 21,
   "metadata": {},
   "outputs": [
    {
     "data": {
      "text/html": [
       "<table>\n",
       "<thead><tr><th></th><th scope=col>setosa</th><th scope=col>versicolor</th><th scope=col>virginica</th></tr></thead>\n",
       "<tbody>\n",
       "\t<tr><th scope=row>1</th><td>1           </td><td>4.918517e-26</td><td>2.981541e-41</td></tr>\n",
       "\t<tr><th scope=row>2</th><td>1           </td><td>7.655808e-19</td><td>1.311032e-34</td></tr>\n",
       "\t<tr><th scope=row>3</th><td>1           </td><td>1.552279e-21</td><td>3.380440e-36</td></tr>\n",
       "\t<tr><th scope=row>4</th><td>1           </td><td>8.300396e-19</td><td>8.541858e-32</td></tr>\n",
       "\t<tr><th scope=row>5</th><td>1           </td><td>3.365614e-27</td><td>2.010147e-41</td></tr>\n",
       "\t<tr><th scope=row>6</th><td>1           </td><td>1.472533e-26</td><td>1.271928e-40</td></tr>\n",
       "</tbody>\n",
       "</table>\n"
      ],
      "text/latex": [
       "\\begin{tabular}{r|lll}\n",
       "  & setosa & versicolor & virginica\\\\\n",
       "\\hline\n",
       "\t1 & 1            & 4.918517e-26 & 2.981541e-41\\\\\n",
       "\t2 & 1            & 7.655808e-19 & 1.311032e-34\\\\\n",
       "\t3 & 1            & 1.552279e-21 & 3.380440e-36\\\\\n",
       "\t4 & 1            & 8.300396e-19 & 8.541858e-32\\\\\n",
       "\t5 & 1            & 3.365614e-27 & 2.010147e-41\\\\\n",
       "\t6 & 1            & 1.472533e-26 & 1.271928e-40\\\\\n",
       "\\end{tabular}\n"
      ],
      "text/markdown": [
       "\n",
       "| <!--/--> | setosa | versicolor | virginica | \n",
       "|---|---|---|---|---|---|\n",
       "| 1 | 1            | 4.918517e-26 | 2.981541e-41 | \n",
       "| 2 | 1            | 7.655808e-19 | 1.311032e-34 | \n",
       "| 3 | 1            | 1.552279e-21 | 3.380440e-36 | \n",
       "| 4 | 1            | 8.300396e-19 | 8.541858e-32 | \n",
       "| 5 | 1            | 3.365614e-27 | 2.010147e-41 | \n",
       "| 6 | 1            | 1.472533e-26 | 1.271928e-40 | \n",
       "\n",
       "\n"
      ],
      "text/plain": [
       "  setosa versicolor   virginica   \n",
       "1 1      4.918517e-26 2.981541e-41\n",
       "2 1      7.655808e-19 1.311032e-34\n",
       "3 1      1.552279e-21 3.380440e-36\n",
       "4 1      8.300396e-19 8.541858e-32\n",
       "5 1      3.365614e-27 2.010147e-41\n",
       "6 1      1.472533e-26 1.271928e-40"
      ]
     },
     "metadata": {},
     "output_type": "display_data"
    }
   ],
   "source": [
    "# Make some prediction\n",
    "qda_pred <- predict(md_qda)\n",
    "head(qda_pred$posterior)"
   ]
  },
  {
   "cell_type": "markdown",
   "metadata": {},
   "source": [
    "## Lab: Logistic Regression, LDA, QDA and KNN\n",
    "\n",
    "1. The Stock Market Data 2001-2005\n",
    "2. Caravan Insurance Data\n",
    "3. Student Performance Data\n",
    "\n",
    "**Other multinomial datasets to practice:**\n",
    "1. Soybean (Large) Data Set: http://archive.ics.uci.edu/ml/datasets/Soybean+%28Large%29\n",
    "2. Glass Identification Data Set: https://archive.ics.uci.edu/ml/datasets/Glass+Identification\n",
    "3. Car Evaluation Data Set: https://archive.ics.uci.edu/ml/datasets/Car+Evaluation"
   ]
  },
  {
   "cell_type": "markdown",
   "metadata": {},
   "source": [
    "### Lab 1: The Stock Market Data 2001-2005"
   ]
  },
  {
   "cell_type": "markdown",
   "metadata": {},
   "source": [
    "**1.1. Load and explore the stock market data**"
   ]
  },
  {
   "cell_type": "code",
   "execution_count": 144,
   "metadata": {},
   "outputs": [
    {
     "name": "stdout",
     "output_type": "stream",
     "text": [
      "'data.frame':\t1250 obs. of  9 variables:\n",
      " $ Year     : num  2001 2001 2001 2001 2001 ...\n",
      " $ Lag1     : num  0.381 0.959 1.032 -0.623 0.614 ...\n",
      " $ Lag2     : num  -0.192 0.381 0.959 1.032 -0.623 ...\n",
      " $ Lag3     : num  -2.624 -0.192 0.381 0.959 1.032 ...\n",
      " $ Lag4     : num  -1.055 -2.624 -0.192 0.381 0.959 ...\n",
      " $ Lag5     : num  5.01 -1.055 -2.624 -0.192 0.381 ...\n",
      " $ Volume   : num  1.19 1.3 1.41 1.28 1.21 ...\n",
      " $ Today    : num  0.959 1.032 -0.623 0.614 0.213 ...\n",
      " $ Direction: Factor w/ 2 levels \"Down\",\"Up\": 2 2 1 2 2 2 1 2 2 2 ...\n"
     ]
    }
   ],
   "source": [
    "# Require libraries\n",
    "require(ISLR)  # Stock data sets\n",
    "require(gridExtra)  # Arrange plot\n",
    "\n",
    "# Load and explore the stock market data\n",
    "str(Smarket)"
   ]
  },
  {
   "cell_type": "code",
   "execution_count": 145,
   "metadata": {},
   "outputs": [
    {
     "data": {
      "text/plain": [
       "      Year           Lag1                Lag2                Lag3          \n",
       " Min.   :2001   Min.   :-4.922000   Min.   :-4.922000   Min.   :-4.922000  \n",
       " 1st Qu.:2002   1st Qu.:-0.639500   1st Qu.:-0.639500   1st Qu.:-0.640000  \n",
       " Median :2003   Median : 0.039000   Median : 0.039000   Median : 0.038500  \n",
       " Mean   :2003   Mean   : 0.003834   Mean   : 0.003919   Mean   : 0.001716  \n",
       " 3rd Qu.:2004   3rd Qu.: 0.596750   3rd Qu.: 0.596750   3rd Qu.: 0.596750  \n",
       " Max.   :2005   Max.   : 5.733000   Max.   : 5.733000   Max.   : 5.733000  \n",
       "      Lag4                Lag5              Volume           Today          \n",
       " Min.   :-4.922000   Min.   :-4.92200   Min.   :0.3561   Min.   :-4.922000  \n",
       " 1st Qu.:-0.640000   1st Qu.:-0.64000   1st Qu.:1.2574   1st Qu.:-0.639500  \n",
       " Median : 0.038500   Median : 0.03850   Median :1.4229   Median : 0.038500  \n",
       " Mean   : 0.001636   Mean   : 0.00561   Mean   :1.4783   Mean   : 0.003138  \n",
       " 3rd Qu.: 0.596750   3rd Qu.: 0.59700   3rd Qu.:1.6417   3rd Qu.: 0.596750  \n",
       " Max.   : 5.733000   Max.   : 5.73300   Max.   :3.1525   Max.   : 5.733000  \n",
       " Direction \n",
       " Down:602  \n",
       " Up  :648  \n",
       "           \n",
       "           \n",
       "           \n",
       "           "
      ]
     },
     "metadata": {},
     "output_type": "display_data"
    }
   ],
   "source": [
    "summary(Smarket)"
   ]
  },
  {
   "cell_type": "code",
   "execution_count": 146,
   "metadata": {},
   "outputs": [
    {
     "data": {
      "image/png": "[encoded data removed]",
      "text/plain": [
       "plot without title"
      ]
     },
     "metadata": {},
     "output_type": "display_data"
    }
   ],
   "source": [
    "options(repr.plot.width=8, repr.plot.height=3)\n",
    "\n",
    "p1 <- ggplot(Smarket[, c('Lag1', 'Lag2', 'Lag3', 'Direction')], aes(x=Direction, y=Lag1, fill=Direction)) +\n",
    "  geom_boxplot() +\n",
    "  scale_fill_manual(values = c(\"red\", \"green\"))\n",
    "p2 <- ggplot(Smarket[, c('Lag1', 'Lag2', 'Lag3', 'Direction')], aes(x=Direction, y=Lag2, fill=Direction)) +\n",
    "  geom_boxplot() +\n",
    "  scale_fill_manual(values = c(\"red\", \"green\"))\n",
    "p3 <- ggplot(Smarket[, c('Lag1', 'Lag2', 'Lag3', 'Direction')], aes(x=Direction, y=Lag3, fill=Direction)) +\n",
    "  geom_boxplot() +\n",
    "  scale_fill_manual(values = c(\"red\", \"green\"))\n",
    "\n",
    "grid.arrange(p1, p2, p3, nrow=1)"
   ]
  },
  {
   "cell_type": "code",
   "execution_count": 147,
   "metadata": {},
   "outputs": [
    {
     "data": {
      "image/png": "[encoded data removed]",
      "text/plain": [
       "plot without title"
      ]
     },
     "metadata": {},
     "output_type": "display_data"
    }
   ],
   "source": [
    "# Pair plot\n",
    "options(repr.plot.width=8, repr.plot.height=8)\n",
    "pairs(Smarket)"
   ]
  },
  {
   "cell_type": "code",
   "execution_count": 148,
   "metadata": {},
   "outputs": [
    {
     "data": {
      "text/html": [
       "<table>\n",
       "<thead><tr><th></th><th scope=col>Year</th><th scope=col>Lag1</th><th scope=col>Lag2</th><th scope=col>Lag3</th><th scope=col>Lag4</th><th scope=col>Lag5</th><th scope=col>Volume</th><th scope=col>Today</th></tr></thead>\n",
       "<tbody>\n",
       "\t<tr><th scope=row>Year</th><td>1.00000000  </td><td> 0.029699649</td><td> 0.030596422</td><td> 0.033194581</td><td> 0.035688718</td><td> 0.029787995</td><td> 0.53900647 </td><td> 0.030095229</td></tr>\n",
       "\t<tr><th scope=row>Lag1</th><td>0.02969965  </td><td> 1.000000000</td><td>-0.026294328</td><td>-0.010803402</td><td>-0.002985911</td><td>-0.005674606</td><td> 0.04090991 </td><td>-0.026155045</td></tr>\n",
       "\t<tr><th scope=row>Lag2</th><td>0.03059642  </td><td>-0.026294328</td><td> 1.000000000</td><td>-0.025896670</td><td>-0.010853533</td><td>-0.003557949</td><td>-0.04338321 </td><td>-0.010250033</td></tr>\n",
       "\t<tr><th scope=row>Lag3</th><td>0.03319458  </td><td>-0.010803402</td><td>-0.025896670</td><td> 1.000000000</td><td>-0.024051036</td><td>-0.018808338</td><td>-0.04182369 </td><td>-0.002447647</td></tr>\n",
       "\t<tr><th scope=row>Lag4</th><td>0.03568872  </td><td>-0.002985911</td><td>-0.010853533</td><td>-0.024051036</td><td> 1.000000000</td><td>-0.027083641</td><td>-0.04841425 </td><td>-0.006899527</td></tr>\n",
       "\t<tr><th scope=row>Lag5</th><td>0.02978799  </td><td>-0.005674606</td><td>-0.003557949</td><td>-0.018808338</td><td>-0.027083641</td><td> 1.000000000</td><td>-0.02200231 </td><td>-0.034860083</td></tr>\n",
       "\t<tr><th scope=row>Volume</th><td>0.53900647  </td><td> 0.040909908</td><td>-0.043383215</td><td>-0.041823686</td><td>-0.048414246</td><td>-0.022002315</td><td> 1.00000000 </td><td> 0.014591823</td></tr>\n",
       "\t<tr><th scope=row>Today</th><td>0.03009523  </td><td>-0.026155045</td><td>-0.010250033</td><td>-0.002447647</td><td>-0.006899527</td><td>-0.034860083</td><td> 0.01459182 </td><td> 1.000000000</td></tr>\n",
       "</tbody>\n",
       "</table>\n"
      ],
      "text/latex": [
       "\\begin{tabular}{r|llllllll}\n",
       "  & Year & Lag1 & Lag2 & Lag3 & Lag4 & Lag5 & Volume & Today\\\\\n",
       "\\hline\n",
       "\tYear & 1.00000000   &  0.029699649 &  0.030596422 &  0.033194581 &  0.035688718 &  0.029787995 &  0.53900647  &  0.030095229\\\\\n",
       "\tLag1 & 0.02969965   &  1.000000000 & -0.026294328 & -0.010803402 & -0.002985911 & -0.005674606 &  0.04090991  & -0.026155045\\\\\n",
       "\tLag2 & 0.03059642   & -0.026294328 &  1.000000000 & -0.025896670 & -0.010853533 & -0.003557949 & -0.04338321  & -0.010250033\\\\\n",
       "\tLag3 & 0.03319458   & -0.010803402 & -0.025896670 &  1.000000000 & -0.024051036 & -0.018808338 & -0.04182369  & -0.002447647\\\\\n",
       "\tLag4 & 0.03568872   & -0.002985911 & -0.010853533 & -0.024051036 &  1.000000000 & -0.027083641 & -0.04841425  & -0.006899527\\\\\n",
       "\tLag5 & 0.02978799   & -0.005674606 & -0.003557949 & -0.018808338 & -0.027083641 &  1.000000000 & -0.02200231  & -0.034860083\\\\\n",
       "\tVolume & 0.53900647   &  0.040909908 & -0.043383215 & -0.041823686 & -0.048414246 & -0.022002315 &  1.00000000  &  0.014591823\\\\\n",
       "\tToday & 0.03009523   & -0.026155045 & -0.010250033 & -0.002447647 & -0.006899527 & -0.034860083 &  0.01459182  &  1.000000000\\\\\n",
       "\\end{tabular}\n"
      ],
      "text/markdown": [
       "\n",
       "| <!--/--> | Year | Lag1 | Lag2 | Lag3 | Lag4 | Lag5 | Volume | Today | \n",
       "|---|---|---|---|---|---|---|---|\n",
       "| Year | 1.00000000   |  0.029699649 |  0.030596422 |  0.033194581 |  0.035688718 |  0.029787995 |  0.53900647  |  0.030095229 | \n",
       "| Lag1 | 0.02969965   |  1.000000000 | -0.026294328 | -0.010803402 | -0.002985911 | -0.005674606 |  0.04090991  | -0.026155045 | \n",
       "| Lag2 | 0.03059642   | -0.026294328 |  1.000000000 | -0.025896670 | -0.010853533 | -0.003557949 | -0.04338321  | -0.010250033 | \n",
       "| Lag3 | 0.03319458   | -0.010803402 | -0.025896670 |  1.000000000 | -0.024051036 | -0.018808338 | -0.04182369  | -0.002447647 | \n",
       "| Lag4 | 0.03568872   | -0.002985911 | -0.010853533 | -0.024051036 |  1.000000000 | -0.027083641 | -0.04841425  | -0.006899527 | \n",
       "| Lag5 | 0.02978799   | -0.005674606 | -0.003557949 | -0.018808338 | -0.027083641 |  1.000000000 | -0.02200231  | -0.034860083 | \n",
       "| Volume | 0.53900647   |  0.040909908 | -0.043383215 | -0.041823686 | -0.048414246 | -0.022002315 |  1.00000000  |  0.014591823 | \n",
       "| Today | 0.03009523   | -0.026155045 | -0.010250033 | -0.002447647 | -0.006899527 | -0.034860083 |  0.01459182  |  1.000000000 | \n",
       "\n",
       "\n"
      ],
      "text/plain": [
       "       Year       Lag1         Lag2         Lag3         Lag4        \n",
       "Year   1.00000000  0.029699649  0.030596422  0.033194581  0.035688718\n",
       "Lag1   0.02969965  1.000000000 -0.026294328 -0.010803402 -0.002985911\n",
       "Lag2   0.03059642 -0.026294328  1.000000000 -0.025896670 -0.010853533\n",
       "Lag3   0.03319458 -0.010803402 -0.025896670  1.000000000 -0.024051036\n",
       "Lag4   0.03568872 -0.002985911 -0.010853533 -0.024051036  1.000000000\n",
       "Lag5   0.02978799 -0.005674606 -0.003557949 -0.018808338 -0.027083641\n",
       "Volume 0.53900647  0.040909908 -0.043383215 -0.041823686 -0.048414246\n",
       "Today  0.03009523 -0.026155045 -0.010250033 -0.002447647 -0.006899527\n",
       "       Lag5         Volume      Today       \n",
       "Year    0.029787995  0.53900647  0.030095229\n",
       "Lag1   -0.005674606  0.04090991 -0.026155045\n",
       "Lag2   -0.003557949 -0.04338321 -0.010250033\n",
       "Lag3   -0.018808338 -0.04182369 -0.002447647\n",
       "Lag4   -0.027083641 -0.04841425 -0.006899527\n",
       "Lag5    1.000000000 -0.02200231 -0.034860083\n",
       "Volume -0.022002315  1.00000000  0.014591823\n",
       "Today  -0.034860083  0.01459182  1.000000000"
      ]
     },
     "metadata": {},
     "output_type": "display_data"
    }
   ],
   "source": [
    "# Correlation matrix\n",
    "cor(Smarket[, -9])"
   ]
  },
  {
   "cell_type": "code",
   "execution_count": 149,
   "metadata": {},
   "outputs": [
    {
     "data": {
      "image/png": "[encoded data removed]",
      "text/plain": [
       "plot without title"
      ]
     },
     "metadata": {},
     "output_type": "display_data"
    }
   ],
   "source": [
    "# Stock trading volume from 2001 to 2005\n",
    "options(repr.plot.width=5, repr.plot.height=5)\n",
    "plot(Smarket$Volume)"
   ]
  },
  {
   "cell_type": "markdown",
   "metadata": {},
   "source": [
    "**1.2. Logistic Regression**"
   ]
  },
  {
   "cell_type": "code",
   "execution_count": 150,
   "metadata": {},
   "outputs": [],
   "source": [
    "# Separate data to train and test\n",
    "stock_train <- Smarket[Smarket$Year < 2005, ]\n",
    "stock_test <- Smarket[Smarket$Year == 2005, ]"
   ]
  },
  {
   "cell_type": "code",
   "execution_count": 151,
   "metadata": {},
   "outputs": [
    {
     "data": {
      "text/plain": [
       "\n",
       "Call:\n",
       "glm(formula = Direction ~ Lag1 + Lag2 + Lag3 + Lag4 + Lag5 + \n",
       "    Volume, family = binomial, data = stock_train)\n",
       "\n",
       "Deviance Residuals: \n",
       "   Min      1Q  Median      3Q     Max  \n",
       "-1.302  -1.190   1.079   1.160   1.350  \n",
       "\n",
       "Coefficients:\n",
       "             Estimate Std. Error z value Pr(>|z|)\n",
       "(Intercept)  0.191213   0.333690   0.573    0.567\n",
       "Lag1        -0.054178   0.051785  -1.046    0.295\n",
       "Lag2        -0.045805   0.051797  -0.884    0.377\n",
       "Lag3         0.007200   0.051644   0.139    0.889\n",
       "Lag4         0.006441   0.051706   0.125    0.901\n",
       "Lag5        -0.004223   0.051138  -0.083    0.934\n",
       "Volume      -0.116257   0.239618  -0.485    0.628\n",
       "\n",
       "(Dispersion parameter for binomial family taken to be 1)\n",
       "\n",
       "    Null deviance: 1383.3  on 997  degrees of freedom\n",
       "Residual deviance: 1381.1  on 991  degrees of freedom\n",
       "AIC: 1395.1\n",
       "\n",
       "Number of Fisher Scoring iterations: 3\n"
      ]
     },
     "metadata": {},
     "output_type": "display_data"
    }
   ],
   "source": [
    "# Fit Logistic Regression model\n",
    "md_logreg <- glm(Direction ∼ Lag1 + Lag2 + Lag3 + Lag4 + Lag5 + Volume,\n",
    "                 data=stock_train, family=binomial)\n",
    "summary(md_logreg)"
   ]
  },
  {
   "cell_type": "code",
   "execution_count": 152,
   "metadata": {},
   "outputs": [
    {
     "data": {
      "text/plain": [
       "\n",
       "Call:\n",
       "glm(formula = Direction ~ Lag1 + Lag2, family = binomial, data = stock_train)\n",
       "\n",
       "Deviance Residuals: \n",
       "   Min      1Q  Median      3Q     Max  \n",
       "-1.345  -1.188   1.074   1.164   1.326  \n",
       "\n",
       "Coefficients:\n",
       "            Estimate Std. Error z value Pr(>|z|)\n",
       "(Intercept)  0.03222    0.06338   0.508    0.611\n",
       "Lag1        -0.05562    0.05171  -1.076    0.282\n",
       "Lag2        -0.04449    0.05166  -0.861    0.389\n",
       "\n",
       "(Dispersion parameter for binomial family taken to be 1)\n",
       "\n",
       "    Null deviance: 1383.3  on 997  degrees of freedom\n",
       "Residual deviance: 1381.4  on 995  degrees of freedom\n",
       "AIC: 1387.4\n",
       "\n",
       "Number of Fisher Scoring iterations: 3\n"
      ]
     },
     "metadata": {},
     "output_type": "display_data"
    }
   ],
   "source": [
    "# Re-fit Logistic Regression model with 2 best predictors\n",
    "md_logreg <- glm(Direction ∼ Lag1 + Lag2,\n",
    "                 data=stock_train, family=binomial)\n",
    "summary(md_logreg)"
   ]
  },
  {
   "cell_type": "code",
   "execution_count": 153,
   "metadata": {},
   "outputs": [
    {
     "data": {
      "text/html": [
       "<dl class=dl-horizontal>\n",
       "\t<dt>1</dt>\n",
       "\t\t<dd>0.504891672881952</dd>\n",
       "\t<dt>2</dt>\n",
       "\t\t<dd>0.490482972507798</dd>\n",
       "\t<dt>3</dt>\n",
       "\t\t<dd>0.483044890415288</dd>\n",
       "\t<dt>4</dt>\n",
       "\t\t<dd>0.505239588926045</dd>\n",
       "\t<dt>5</dt>\n",
       "\t\t<dd>0.506444993327076</dd>\n",
       "\t<dt>6</dt>\n",
       "\t\t<dd>0.498263828343909</dd>\n",
       "</dl>\n"
      ],
      "text/latex": [
       "\\begin{description*}\n",
       "\\item[1] 0.504891672881952\n",
       "\\item[2] 0.490482972507798\n",
       "\\item[3] 0.483044890415288\n",
       "\\item[4] 0.505239588926045\n",
       "\\item[5] 0.506444993327076\n",
       "\\item[6] 0.498263828343909\n",
       "\\end{description*}\n"
      ],
      "text/markdown": [
       "1\n",
       ":   0.5048916728819522\n",
       ":   0.4904829725077983\n",
       ":   0.4830448904152884\n",
       ":   0.5052395889260455\n",
       ":   0.5064449933270766\n",
       ":   0.498263828343909\n",
       "\n"
      ],
      "text/plain": [
       "        1         2         3         4         5         6 \n",
       "0.5048917 0.4904830 0.4830449 0.5052396 0.5064450 0.4982638 "
      ]
     },
     "metadata": {},
     "output_type": "display_data"
    },
    {
     "data": {
      "text/html": [
       "<dl class=dl-horizontal>\n",
       "\t<dt>999</dt>\n",
       "\t\t<dd>0.509827452758475</dd>\n",
       "\t<dt>1000</dt>\n",
       "\t\t<dd>0.520823745517243</dd>\n",
       "\t<dt>1001</dt>\n",
       "\t\t<dd>0.533263496822405</dd>\n",
       "\t<dt>1002</dt>\n",
       "\t\t<dd>0.526057414362912</dd>\n",
       "\t<dt>1003</dt>\n",
       "\t\t<dd>0.507210300726553</dd>\n",
       "\t<dt>1004</dt>\n",
       "\t\t<dd>0.506138811084313</dd>\n",
       "</dl>\n"
      ],
      "text/latex": [
       "\\begin{description*}\n",
       "\\item[999] 0.509827452758475\n",
       "\\item[1000] 0.520823745517243\n",
       "\\item[1001] 0.533263496822405\n",
       "\\item[1002] 0.526057414362912\n",
       "\\item[1003] 0.507210300726553\n",
       "\\item[1004] 0.506138811084313\n",
       "\\end{description*}\n"
      ],
      "text/markdown": [
       "999\n",
       ":   0.5098274527584751000\n",
       ":   0.5208237455172431001\n",
       ":   0.5332634968224051002\n",
       ":   0.5260574143629121003\n",
       ":   0.5072103007265531004\n",
       ":   0.506138811084313\n",
       "\n"
      ],
      "text/plain": [
       "      999      1000      1001      1002      1003      1004 \n",
       "0.5098275 0.5208237 0.5332635 0.5260574 0.5072103 0.5061388 "
      ]
     },
     "metadata": {},
     "output_type": "display_data"
    }
   ],
   "source": [
    "# Make prediction on both train and test data\n",
    "pred_train_prob <- predict(md_logreg, newdata=stock_train, type='response')\n",
    "head(pred_train_prob)\n",
    "\n",
    "pred_test_prob <- predict(md_logreg, newdata=stock_test, type='response')\n",
    "head(pred_test_prob)"
   ]
  },
  {
   "cell_type": "code",
   "execution_count": 154,
   "metadata": {},
   "outputs": [
    {
     "name": "stdout",
     "output_type": "stream",
     "text": [
      "[1] \"Confusion matrix:\"\n"
     ]
    },
    {
     "data": {
      "text/plain": [
       "          \n",
       "pred_train Down  Up\n",
       "      Down  168 160\n",
       "      Up    323 347"
      ]
     },
     "metadata": {},
     "output_type": "display_data"
    },
    {
     "name": "stdout",
     "output_type": "stream",
     "text": [
      "[1] \"Accuracy = 0.52 %\"\n",
      "[1] \"Error = 0.48 %\"\n"
     ]
    }
   ],
   "source": [
    "# Evaluation model on train\n",
    "threshold <- 0.5  # Decision threshold\n",
    "pred_train <- rep('Down', length(pred_train_prob))\n",
    "pred_train[pred_train_prob > threshold] <- 'Up'\n",
    "\n",
    "# Confusion matrix\n",
    "print('Confusion matrix:')\n",
    "table(pred_train, stock_train$Direction)\n",
    "\n",
    "# Accuracy and error rate\n",
    "acc <- mean(pred_train == stock_train$Direction)\n",
    "err_rate <- 1 - acc\n",
    "print(paste('Accuracy =', round(acc, 2), '%'))\n",
    "print(paste('Error =', round(err_rate, 2), '%'))"
   ]
  },
  {
   "cell_type": "code",
   "execution_count": 155,
   "metadata": {},
   "outputs": [
    {
     "name": "stdout",
     "output_type": "stream",
     "text": [
      "[1] \"Confusion matrix:\"\n"
     ]
    },
    {
     "data": {
      "text/plain": [
       "         \n",
       "pred_test Down  Up\n",
       "     Down   35  35\n",
       "     Up     76 106"
      ]
     },
     "metadata": {},
     "output_type": "display_data"
    },
    {
     "name": "stdout",
     "output_type": "stream",
     "text": [
      "[1] \"Accuracy = 0.56 %\"\n",
      "[1] \"Error = 0.44 %\"\n"
     ]
    }
   ],
   "source": [
    "# Evaluation model on test\n",
    "threshold <- 0.5  # Decision threshold\n",
    "pred_test <- rep('Down', length(pred_test_prob))\n",
    "pred_test[pred_test_prob > threshold] <- 'Up'\n",
    "\n",
    "# Confusion matrix\n",
    "print('Confusion matrix:')\n",
    "table(pred_test, stock_test$Direction)\n",
    "\n",
    "# Accuracy and error rate\n",
    "acc <- mean(pred_test == stock_test$Direction)\n",
    "err_rate <- 1 - acc\n",
    "print(paste('Accuracy =', round(acc, 2), '%'))\n",
    "print(paste('Error =', round(err_rate, 2), '%'))"
   ]
  },
  {
   "cell_type": "markdown",
   "metadata": {},
   "source": [
    "**1.3. Linear Discriminant Analysis (LDA)**"
   ]
  },
  {
   "cell_type": "code",
   "execution_count": 156,
   "metadata": {},
   "outputs": [
    {
     "data": {
      "text/plain": [
       "Call:\n",
       "lda(Direction ~ Lag1 + Lag2, data = stock_train)\n",
       "\n",
       "Prior probabilities of groups:\n",
       "    Down       Up \n",
       "0.491984 0.508016 \n",
       "\n",
       "Group means:\n",
       "            Lag1        Lag2\n",
       "Down  0.04279022  0.03389409\n",
       "Up   -0.03954635 -0.03132544\n",
       "\n",
       "Coefficients of linear discriminants:\n",
       "            LD1\n",
       "Lag1 -0.6420190\n",
       "Lag2 -0.5135293"
      ]
     },
     "metadata": {},
     "output_type": "display_data"
    }
   ],
   "source": [
    "# Fit the LDA model with 2 best predictors from LogRes model\n",
    "library(MASS)\n",
    "md_lda <- lda(Direction ~ Lag1 + Lag2, data=stock_train)\n",
    "md_lda"
   ]
  },
  {
   "cell_type": "code",
   "execution_count": 157,
   "metadata": {},
   "outputs": [
    {
     "data": {
      "text/plain": [
       "Call:\n",
       "lda(Direction ~ Lag1 + Lag2, data = stock_train)\n",
       "\n",
       "Prior probabilities of groups:\n",
       "    Down       Up \n",
       "0.491984 0.508016 \n",
       "\n",
       "Group means:\n",
       "            Lag1        Lag2\n",
       "Down  0.04279022  0.03389409\n",
       "Up   -0.03954635 -0.03132544\n",
       "\n",
       "Coefficients of linear discriminants:\n",
       "            LD1\n",
       "Lag1 -0.6420190\n",
       "Lag2 -0.5135293"
      ]
     },
     "metadata": {},
     "output_type": "display_data"
    }
   ],
   "source": [
    "md_lda"
   ]
  },
  {
   "cell_type": "code",
   "execution_count": 158,
   "metadata": {},
   "outputs": [
    {
     "data": {
      "image/png": "[encoded data removed]",
      "text/plain": [
       "plot without title"
      ]
     },
     "metadata": {},
     "output_type": "display_data"
    }
   ],
   "source": [
    "options(repr.plot.width=4, repr.plot.height=8)\n",
    "plot(md_lda)"
   ]
  },
  {
   "cell_type": "code",
   "execution_count": 159,
   "metadata": {},
   "outputs": [
    {
     "data": {
      "text/html": [
       "<ol class=list-inline>\n",
       "\t<li>Up</li>\n",
       "\t<li>Up</li>\n",
       "\t<li>Up</li>\n",
       "\t<li>Up</li>\n",
       "\t<li>Up</li>\n",
       "\t<li>Up</li>\n",
       "</ol>\n"
      ],
      "text/latex": [
       "\\begin{enumerate*}\n",
       "\\item Up\n",
       "\\item Up\n",
       "\\item Up\n",
       "\\item Up\n",
       "\\item Up\n",
       "\\item Up\n",
       "\\end{enumerate*}\n"
      ],
      "text/markdown": [
       "1. Up\n",
       "2. Up\n",
       "3. Up\n",
       "4. Up\n",
       "5. Up\n",
       "6. Up\n",
       "\n",
       "\n"
      ],
      "text/plain": [
       "[1] Up Up Up Up Up Up\n",
       "Levels: Down Up"
      ]
     },
     "metadata": {},
     "output_type": "display_data"
    },
    {
     "data": {
      "text/html": [
       "<table>\n",
       "<thead><tr><th></th><th scope=col>Down</th><th scope=col>Up</th></tr></thead>\n",
       "<tbody>\n",
       "\t<tr><th scope=row>999</th><td>0.4901792</td><td>0.5098208</td></tr>\n",
       "\t<tr><th scope=row>1000</th><td>0.4792185</td><td>0.5207815</td></tr>\n",
       "\t<tr><th scope=row>1001</th><td>0.4668185</td><td>0.5331815</td></tr>\n",
       "\t<tr><th scope=row>1002</th><td>0.4740011</td><td>0.5259989</td></tr>\n",
       "\t<tr><th scope=row>1003</th><td>0.4927877</td><td>0.5072123</td></tr>\n",
       "\t<tr><th scope=row>1004</th><td>0.4938562</td><td>0.5061438</td></tr>\n",
       "</tbody>\n",
       "</table>\n"
      ],
      "text/latex": [
       "\\begin{tabular}{r|ll}\n",
       "  & Down & Up\\\\\n",
       "\\hline\n",
       "\t999 & 0.4901792 & 0.5098208\\\\\n",
       "\t1000 & 0.4792185 & 0.5207815\\\\\n",
       "\t1001 & 0.4668185 & 0.5331815\\\\\n",
       "\t1002 & 0.4740011 & 0.5259989\\\\\n",
       "\t1003 & 0.4927877 & 0.5072123\\\\\n",
       "\t1004 & 0.4938562 & 0.5061438\\\\\n",
       "\\end{tabular}\n"
      ],
      "text/markdown": [
       "\n",
       "| <!--/--> | Down | Up | \n",
       "|---|---|---|---|---|---|\n",
       "| 999 | 0.4901792 | 0.5098208 | \n",
       "| 1000 | 0.4792185 | 0.5207815 | \n",
       "| 1001 | 0.4668185 | 0.5331815 | \n",
       "| 1002 | 0.4740011 | 0.5259989 | \n",
       "| 1003 | 0.4927877 | 0.5072123 | \n",
       "| 1004 | 0.4938562 | 0.5061438 | \n",
       "\n",
       "\n"
      ],
      "text/plain": [
       "     Down      Up       \n",
       "999  0.4901792 0.5098208\n",
       "1000 0.4792185 0.5207815\n",
       "1001 0.4668185 0.5331815\n",
       "1002 0.4740011 0.5259989\n",
       "1003 0.4927877 0.5072123\n",
       "1004 0.4938562 0.5061438"
      ]
     },
     "metadata": {},
     "output_type": "display_data"
    },
    {
     "name": "stdout",
     "output_type": "stream",
     "text": [
      "[1] \"Confusion matrix:\"\n"
     ]
    },
    {
     "data": {
      "text/plain": [
       "      \n",
       "       Down  Up\n",
       "  Down   35  35\n",
       "  Up     76 106"
      ]
     },
     "metadata": {},
     "output_type": "display_data"
    },
    {
     "name": "stdout",
     "output_type": "stream",
     "text": [
      "[1] \"Accuracy = 0.56 %\"\n"
     ]
    }
   ],
   "source": [
    "# Predict and evaluate\n",
    "lda_pred <- predict(md_lda, newdata=stock_test)\n",
    "head(lda_pred$class)\n",
    "head(lda_pred$posterior)\n",
    "\n",
    "# Confusion matrix\n",
    "print('Confusion matrix:')\n",
    "table(lda_pred$class, stock_test$Direction)\n",
    "\n",
    "# Accuracy\n",
    "acc <- mean(lda_pred$class == stock_test$Direction)\n",
    "print(paste('Accuracy =', round(acc, 2), '%'))"
   ]
  },
  {
   "cell_type": "markdown",
   "metadata": {},
   "source": [
    "**1.4. Quadratic Discriminant Analysis (QDA)**"
   ]
  },
  {
   "cell_type": "code",
   "execution_count": 160,
   "metadata": {},
   "outputs": [
    {
     "data": {
      "text/plain": [
       "Call:\n",
       "qda(Direction ~ Lag1 + Lag2, data = stock_train)\n",
       "\n",
       "Prior probabilities of groups:\n",
       "    Down       Up \n",
       "0.491984 0.508016 \n",
       "\n",
       "Group means:\n",
       "            Lag1        Lag2\n",
       "Down  0.04279022  0.03389409\n",
       "Up   -0.03954635 -0.03132544"
      ]
     },
     "metadata": {},
     "output_type": "display_data"
    }
   ],
   "source": [
    "# Fit the QDA model on train set with 2 best predictors\n",
    "md_qda <- qda(Direction ~ Lag1 + Lag2, data=stock_train)\n",
    "md_qda"
   ]
  },
  {
   "cell_type": "code",
   "execution_count": 161,
   "metadata": {},
   "outputs": [
    {
     "data": {
      "text/html": [
       "<ol class=list-inline>\n",
       "\t<li>Up</li>\n",
       "\t<li>Up</li>\n",
       "\t<li>Up</li>\n",
       "\t<li>Up</li>\n",
       "\t<li>Up</li>\n",
       "\t<li>Up</li>\n",
       "</ol>\n"
      ],
      "text/latex": [
       "\\begin{enumerate*}\n",
       "\\item Up\n",
       "\\item Up\n",
       "\\item Up\n",
       "\\item Up\n",
       "\\item Up\n",
       "\\item Up\n",
       "\\end{enumerate*}\n"
      ],
      "text/markdown": [
       "1. Up\n",
       "2. Up\n",
       "3. Up\n",
       "4. Up\n",
       "5. Up\n",
       "6. Up\n",
       "\n",
       "\n"
      ],
      "text/plain": [
       "[1] Up Up Up Up Up Up\n",
       "Levels: Down Up"
      ]
     },
     "metadata": {},
     "output_type": "display_data"
    },
    {
     "data": {
      "text/html": [
       "<table>\n",
       "<thead><tr><th></th><th scope=col>Down</th><th scope=col>Up</th></tr></thead>\n",
       "<tbody>\n",
       "\t<tr><th scope=row>999</th><td>0.4873243</td><td>0.5126757</td></tr>\n",
       "\t<tr><th scope=row>1000</th><td>0.4759011</td><td>0.5240989</td></tr>\n",
       "\t<tr><th scope=row>1001</th><td>0.4636911</td><td>0.5363089</td></tr>\n",
       "\t<tr><th scope=row>1002</th><td>0.4739253</td><td>0.5260747</td></tr>\n",
       "\t<tr><th scope=row>1003</th><td>0.4903426</td><td>0.5096574</td></tr>\n",
       "\t<tr><th scope=row>1004</th><td>0.4913561</td><td>0.5086439</td></tr>\n",
       "</tbody>\n",
       "</table>\n"
      ],
      "text/latex": [
       "\\begin{tabular}{r|ll}\n",
       "  & Down & Up\\\\\n",
       "\\hline\n",
       "\t999 & 0.4873243 & 0.5126757\\\\\n",
       "\t1000 & 0.4759011 & 0.5240989\\\\\n",
       "\t1001 & 0.4636911 & 0.5363089\\\\\n",
       "\t1002 & 0.4739253 & 0.5260747\\\\\n",
       "\t1003 & 0.4903426 & 0.5096574\\\\\n",
       "\t1004 & 0.4913561 & 0.5086439\\\\\n",
       "\\end{tabular}\n"
      ],
      "text/markdown": [
       "\n",
       "| <!--/--> | Down | Up | \n",
       "|---|---|---|---|---|---|\n",
       "| 999 | 0.4873243 | 0.5126757 | \n",
       "| 1000 | 0.4759011 | 0.5240989 | \n",
       "| 1001 | 0.4636911 | 0.5363089 | \n",
       "| 1002 | 0.4739253 | 0.5260747 | \n",
       "| 1003 | 0.4903426 | 0.5096574 | \n",
       "| 1004 | 0.4913561 | 0.5086439 | \n",
       "\n",
       "\n"
      ],
      "text/plain": [
       "     Down      Up       \n",
       "999  0.4873243 0.5126757\n",
       "1000 0.4759011 0.5240989\n",
       "1001 0.4636911 0.5363089\n",
       "1002 0.4739253 0.5260747\n",
       "1003 0.4903426 0.5096574\n",
       "1004 0.4913561 0.5086439"
      ]
     },
     "metadata": {},
     "output_type": "display_data"
    },
    {
     "name": "stdout",
     "output_type": "stream",
     "text": [
      "[1] \"Confusion matrix:\"\n"
     ]
    },
    {
     "data": {
      "text/plain": [
       "      \n",
       "       Down  Up\n",
       "  Down   30  20\n",
       "  Up     81 121"
      ]
     },
     "metadata": {},
     "output_type": "display_data"
    },
    {
     "name": "stdout",
     "output_type": "stream",
     "text": [
      "[1] \"Accuracy = 0.6 %\"\n"
     ]
    }
   ],
   "source": [
    "# Predict and evaluate\n",
    "qda_pred <- predict(md_qda, newdata=stock_test)\n",
    "head(qda_pred$class)\n",
    "head(qda_pred$posterior)\n",
    "\n",
    "# Confusion matrix\n",
    "print('Confusion matrix:')\n",
    "table(qda_pred$class, stock_test$Direction)\n",
    "\n",
    "# Accuracy\n",
    "acc <- mean(qda_pred$class == stock_test$Direction)\n",
    "print(paste('Accuracy =', round(acc, 2), '%'))"
   ]
  },
  {
   "cell_type": "markdown",
   "metadata": {},
   "source": [
    "**1.5. K-Nearest Neighbors (KNN)**"
   ]
  },
  {
   "cell_type": "code",
   "execution_count": 162,
   "metadata": {},
   "outputs": [
    {
     "name": "stdout",
     "output_type": "stream",
     "text": [
      "[1] \"Confusion matrix:\"\n"
     ]
    },
    {
     "data": {
      "text/plain": [
       "         \n",
       "knn1_pred Down Up\n",
       "     Down   43 58\n",
       "     Up     68 83"
      ]
     },
     "metadata": {},
     "output_type": "display_data"
    },
    {
     "name": "stdout",
     "output_type": "stream",
     "text": [
      "[1] \"Accuracy = 0.5 %\"\n"
     ]
    }
   ],
   "source": [
    "# Fit the KNN model with the train set using 2 best predictors\n",
    "library(class)\n",
    "\n",
    "# k = 1\n",
    "set.seed(123)\n",
    "knn1_pred <- knn(train=stock_train[, c('Lag1', 'Lag2')],\n",
    "                 test=stock_test[, c('Lag1', 'Lag2')],\n",
    "                 cl=stock_train$Direction,\n",
    "                 k=1)\n",
    "\n",
    "# Confusion matrix\n",
    "print('Confusion matrix:')\n",
    "table(knn1_pred, stock_test$Direction)\n",
    "\n",
    "# Accuracy\n",
    "acc <- mean(knn1_pred == stock_test$Direction)\n",
    "print(paste('Accuracy =', round(acc, 2), '%'))"
   ]
  },
  {
   "cell_type": "code",
   "execution_count": 163,
   "metadata": {},
   "outputs": [
    {
     "name": "stdout",
     "output_type": "stream",
     "text": [
      "[1] \"Confusion matrix:\"\n"
     ]
    },
    {
     "data": {
      "text/plain": [
       "         \n",
       "knn3_pred Down Up\n",
       "     Down   48 55\n",
       "     Up     63 86"
      ]
     },
     "metadata": {},
     "output_type": "display_data"
    },
    {
     "name": "stdout",
     "output_type": "stream",
     "text": [
      "[1] \"Accuracy = 0.53 %\"\n"
     ]
    }
   ],
   "source": [
    "# k = 3\n",
    "set.seed(123)\n",
    "knn3_pred <- knn(train=stock_train[, c('Lag1', 'Lag2')],\n",
    "                 test=stock_test[, c('Lag1', 'Lag2')],\n",
    "                 cl=stock_train$Direction,\n",
    "                 k=3)\n",
    "\n",
    "# Confusion matrix\n",
    "print('Confusion matrix:')\n",
    "table(knn3_pred, stock_test$Direction)\n",
    "\n",
    "# Accuracy\n",
    "acc <- mean(knn3_pred == stock_test$Direction)\n",
    "print(paste('Accuracy =', round(acc, 2), '%'))"
   ]
  },
  {
   "cell_type": "markdown",
   "metadata": {},
   "source": [
    "### Lab 2: Caravan Insurance Data"
   ]
  },
  {
   "cell_type": "code",
   "execution_count": 115,
   "metadata": {},
   "outputs": [
    {
     "name": "stdout",
     "output_type": "stream",
     "text": [
      "'data.frame':\t5822 obs. of  86 variables:\n",
      " $ MOSTYPE : num  33 37 37 9 40 23 39 33 33 11 ...\n",
      " $ MAANTHUI: num  1 1 1 1 1 1 2 1 1 2 ...\n",
      " $ MGEMOMV : num  3 2 2 3 4 2 3 2 2 3 ...\n",
      " $ MGEMLEEF: num  2 2 2 3 2 1 2 3 4 3 ...\n",
      " $ MOSHOOFD: num  8 8 8 3 10 5 9 8 8 3 ...\n",
      " $ MGODRK  : num  0 1 0 2 1 0 2 0 0 3 ...\n",
      " $ MGODPR  : num  5 4 4 3 4 5 2 7 1 5 ...\n",
      " $ MGODOV  : num  1 1 2 2 1 0 0 0 3 0 ...\n",
      " $ MGODGE  : num  3 4 4 4 4 5 5 2 6 2 ...\n",
      " $ MRELGE  : num  7 6 3 5 7 0 7 7 6 7 ...\n",
      " $ MRELSA  : num  0 2 2 2 1 6 2 2 0 0 ...\n",
      " $ MRELOV  : num  2 2 4 2 2 3 0 0 3 2 ...\n",
      " $ MFALLEEN: num  1 0 4 2 2 3 0 0 3 2 ...\n",
      " $ MFGEKIND: num  2 4 4 3 4 5 3 5 3 2 ...\n",
      " $ MFWEKIND: num  6 5 2 4 4 2 6 4 3 6 ...\n",
      " $ MOPLHOOG: num  1 0 0 3 5 0 0 0 0 0 ...\n",
      " $ MOPLMIDD: num  2 5 5 4 4 5 4 3 1 4 ...\n",
      " $ MOPLLAAG: num  7 4 4 2 0 4 5 6 8 5 ...\n",
      " $ MBERHOOG: num  1 0 0 4 0 2 0 2 1 2 ...\n",
      " $ MBERZELF: num  0 0 0 0 5 0 0 0 1 0 ...\n",
      " $ MBERBOER: num  1 0 0 0 4 0 0 0 0 0 ...\n",
      " $ MBERMIDD: num  2 5 7 3 0 4 4 2 1 3 ...\n",
      " $ MBERARBG: num  5 0 0 1 0 2 1 5 8 3 ...\n",
      " $ MBERARBO: num  2 4 2 2 0 2 5 2 1 3 ...\n",
      " $ MSKA    : num  1 0 0 3 9 2 0 2 1 1 ...\n",
      " $ MSKB1   : num  1 2 5 2 0 2 1 1 1 2 ...\n",
      " $ MSKB2   : num  2 3 0 1 0 2 4 2 0 1 ...\n",
      " $ MSKC    : num  6 5 4 4 0 4 5 5 8 4 ...\n",
      " $ MSKD    : num  1 0 0 0 0 2 0 2 1 2 ...\n",
      " $ MHHUUR  : num  1 2 7 5 4 9 6 0 9 0 ...\n",
      " $ MHKOOP  : num  8 7 2 4 5 0 3 9 0 9 ...\n",
      " $ MAUT1   : num  8 7 7 9 6 5 8 4 5 6 ...\n",
      " $ MAUT2   : num  0 1 0 0 2 3 0 4 2 1 ...\n",
      " $ MAUT0   : num  1 2 2 0 1 3 1 2 3 2 ...\n",
      " $ MZFONDS : num  8 6 9 7 5 9 9 6 7 6 ...\n",
      " $ MZPART  : num  1 3 0 2 4 0 0 3 2 3 ...\n",
      " $ MINKM30 : num  0 2 4 1 0 5 4 2 7 2 ...\n",
      " $ MINK3045: num  4 0 5 5 0 2 3 5 2 3 ...\n",
      " $ MINK4575: num  5 5 0 3 9 3 3 3 1 3 ...\n",
      " $ MINK7512: num  0 2 0 0 0 0 0 0 0 1 ...\n",
      " $ MINK123M: num  0 0 0 0 0 0 0 0 0 0 ...\n",
      " $ MINKGEM : num  4 5 3 4 6 3 3 3 2 4 ...\n",
      " $ MKOOPKLA: num  3 4 4 4 3 3 5 3 3 7 ...\n",
      " $ PWAPART : num  0 2 2 0 0 0 0 0 0 2 ...\n",
      " $ PWABEDR : num  0 0 0 0 0 0 0 0 0 0 ...\n",
      " $ PWALAND : num  0 0 0 0 0 0 0 0 0 0 ...\n",
      " $ PPERSAUT: num  6 0 6 6 0 6 6 0 5 0 ...\n",
      " $ PBESAUT : num  0 0 0 0 0 0 0 0 0 0 ...\n",
      " $ PMOTSCO : num  0 0 0 0 0 0 0 0 0 0 ...\n",
      " $ PVRAAUT : num  0 0 0 0 0 0 0 0 0 0 ...\n",
      " $ PAANHANG: num  0 0 0 0 0 0 0 0 0 0 ...\n",
      " $ PTRACTOR: num  0 0 0 0 0 0 0 0 0 0 ...\n",
      " $ PWERKT  : num  0 0 0 0 0 0 0 0 0 0 ...\n",
      " $ PBROM   : num  0 0 0 0 0 0 0 3 0 0 ...\n",
      " $ PLEVEN  : num  0 0 0 0 0 0 0 0 0 0 ...\n",
      " $ PPERSONG: num  0 0 0 0 0 0 0 0 0 0 ...\n",
      " $ PGEZONG : num  0 0 0 0 0 0 0 0 0 0 ...\n",
      " $ PWAOREG : num  0 0 0 0 0 0 0 0 0 0 ...\n",
      " $ PBRAND  : num  5 2 2 2 6 0 0 0 0 3 ...\n",
      " $ PZEILPL : num  0 0 0 0 0 0 0 0 0 0 ...\n",
      " $ PPLEZIER: num  0 0 0 0 0 0 0 0 0 0 ...\n",
      " $ PFIETS  : num  0 0 0 0 0 0 0 0 0 0 ...\n",
      " $ PINBOED : num  0 0 0 0 0 0 0 0 0 0 ...\n",
      " $ PBYSTAND: num  0 0 0 0 0 0 0 0 0 0 ...\n",
      " $ AWAPART : num  0 2 1 0 0 0 0 0 0 1 ...\n",
      " $ AWABEDR : num  0 0 0 0 0 0 0 0 0 0 ...\n",
      " $ AWALAND : num  0 0 0 0 0 0 0 0 0 0 ...\n",
      " $ APERSAUT: num  1 0 1 1 0 1 1 0 1 0 ...\n",
      " $ ABESAUT : num  0 0 0 0 0 0 0 0 0 0 ...\n",
      " $ AMOTSCO : num  0 0 0 0 0 0 0 0 0 0 ...\n",
      " $ AVRAAUT : num  0 0 0 0 0 0 0 0 0 0 ...\n",
      " $ AAANHANG: num  0 0 0 0 0 0 0 0 0 0 ...\n",
      " $ ATRACTOR: num  0 0 0 0 0 0 0 0 0 0 ...\n",
      " $ AWERKT  : num  0 0 0 0 0 0 0 0 0 0 ...\n",
      " $ ABROM   : num  0 0 0 0 0 0 0 1 0 0 ...\n",
      " $ ALEVEN  : num  0 0 0 0 0 0 0 0 0 0 ...\n",
      " $ APERSONG: num  0 0 0 0 0 0 0 0 0 0 ...\n",
      " $ AGEZONG : num  0 0 0 0 0 0 0 0 0 0 ...\n",
      " $ AWAOREG : num  0 0 0 0 0 0 0 0 0 0 ...\n",
      " $ ABRAND  : num  1 1 1 1 1 0 0 0 0 1 ...\n",
      " $ AZEILPL : num  0 0 0 0 0 0 0 0 0 0 ...\n",
      " $ APLEZIER: num  0 0 0 0 0 0 0 0 0 0 ...\n",
      " $ AFIETS  : num  0 0 0 0 0 0 0 0 0 0 ...\n",
      " $ AINBOED : num  0 0 0 0 0 0 0 0 0 0 ...\n",
      " $ ABYSTAND: num  0 0 0 0 0 0 0 0 0 0 ...\n",
      " $ Purchase: Factor w/ 2 levels \"No\",\"Yes\": 1 1 1 1 1 1 1 1 1 1 ...\n"
     ]
    }
   ],
   "source": [
    "# Load data, 58 predictors, demographics characters\n",
    "library(ISLR)\n",
    "str(Caravan)"
   ]
  },
  {
   "cell_type": "code",
   "execution_count": 117,
   "metadata": {},
   "outputs": [
    {
     "data": {
      "text/plain": [
       "\n",
       "        No        Yes \n",
       "0.94022673 0.05977327 "
      ]
     },
     "metadata": {},
     "output_type": "display_data"
    }
   ],
   "source": [
    "# Response ratio\n",
    "table(Caravan$Purchase)/nrow(Caravan)"
   ]
  },
  {
   "cell_type": "code",
   "execution_count": 189,
   "metadata": {
    "scrolled": true
   },
   "outputs": [
    {
     "data": {
      "text/html": [
       "-7.02557607244499e-17"
      ],
      "text/latex": [
       "-7.02557607244499e-17"
      ],
      "text/markdown": [
       "-7.02557607244499e-17"
      ],
      "text/plain": [
       "[1] -7.025576e-17"
      ]
     },
     "metadata": {},
     "output_type": "display_data"
    },
    {
     "data": {
      "text/html": [
       "1"
      ],
      "text/latex": [
       "1"
      ],
      "text/markdown": [
       "1"
      ],
      "text/plain": [
       "[1] 1"
      ]
     },
     "metadata": {},
     "output_type": "display_data"
    },
    {
     "data": {
      "text/html": [
       "<table>\n",
       "<thead><tr><th scope=col>MOSTYPE</th><th scope=col>MAANTHUI</th><th scope=col>MGEMOMV</th><th scope=col>MGEMLEEF</th><th scope=col>MOSHOOFD</th><th scope=col>MGODRK</th><th scope=col>MGODPR</th><th scope=col>MGODOV</th><th scope=col>MGODGE</th><th scope=col>MRELGE</th><th scope=col>...</th><th scope=col>APERSONG</th><th scope=col>AGEZONG</th><th scope=col>AWAOREG</th><th scope=col>ABRAND</th><th scope=col>AZEILPL</th><th scope=col>APLEZIER</th><th scope=col>AFIETS</th><th scope=col>AINBOED</th><th scope=col>ABYSTAND</th><th scope=col>Purchase</th></tr></thead>\n",
       "<tbody>\n",
       "\t<tr><td> 0.68084775</td><td>-0.2725565 </td><td> 0.4066617 </td><td>-1.21685949</td><td> 0.7793384 </td><td>-0.6942510 </td><td> 0.2174254 </td><td>-0.06870474</td><td>-0.1618019 </td><td> 0.42763309</td><td>...        </td><td>-0.07315883</td><td>-0.08104764</td><td>-0.05991487</td><td> 0.764905  </td><td>-0.02270383</td><td>-0.07364394</td><td>-0.1506075 </td><td>-0.08734022</td><td>-0.1188063 </td><td>No         </td></tr>\n",
       "\t<tr><td> 0.99221162</td><td>-0.2725565 </td><td>-0.8594262 </td><td>-1.21685949</td><td> 0.7793384 </td><td> 0.3025256 </td><td>-0.3653787 </td><td>-0.06870474</td><td> 0.4641188 </td><td>-0.09606902</td><td>...        </td><td>-0.07315883</td><td>-0.08104764</td><td>-0.05991487</td><td> 0.764905  </td><td>-0.02270383</td><td>-0.07364394</td><td>-0.1506075 </td><td>-0.08734022</td><td>-0.1188063 </td><td>No         </td></tr>\n",
       "\t<tr><td> 0.99221162</td><td>-0.2725565 </td><td>-0.8594262 </td><td>-1.21685949</td><td> 0.7793384 </td><td>-0.6942510 </td><td>-0.3653787 </td><td> 0.91409379</td><td> 0.4641188 </td><td>-1.66717535</td><td>...        </td><td>-0.07315883</td><td>-0.08104764</td><td>-0.05991487</td><td> 0.764905  </td><td>-0.02270383</td><td>-0.07364394</td><td>-0.1506075 </td><td>-0.08734022</td><td>-0.1188063 </td><td>No         </td></tr>\n",
       "\t<tr><td>-1.18733547</td><td>-0.2725565 </td><td> 0.4066617 </td><td> 0.01075374</td><td>-0.9708962 </td><td> 1.2993023 </td><td>-0.9481828 </td><td> 0.91409379</td><td> 0.4641188 </td><td>-0.61977113</td><td>...        </td><td>-0.07315883</td><td>-0.08104764</td><td>-0.05991487</td><td> 0.764905  </td><td>-0.02270383</td><td>-0.07364394</td><td>-0.1506075 </td><td>-0.08734022</td><td>-0.1188063 </td><td>No         </td></tr>\n",
       "\t<tr><td> 1.22573452</td><td>-0.2725565 </td><td> 1.6727497 </td><td>-1.21685949</td><td> 1.4794323 </td><td> 0.3025256 </td><td>-0.3653787 </td><td>-0.06870474</td><td> 0.4641188 </td><td> 0.42763309</td><td>...        </td><td>-0.07315883</td><td>-0.08104764</td><td>-0.05991487</td><td> 0.764905  </td><td>-0.02270383</td><td>-0.07364394</td><td>-0.1506075 </td><td>-0.08734022</td><td>-0.1188063 </td><td>No         </td></tr>\n",
       "\t<tr><td>-0.09756193</td><td>-0.2725565 </td><td>-0.8594262 </td><td>-2.44447272</td><td>-0.2708024 </td><td>-0.6942510 </td><td> 0.2174254 </td><td>-1.05150327</td><td> 1.0900394 </td><td>-3.23828168</td><td>...        </td><td>-0.07315883</td><td>-0.08104764</td><td>-0.05991487</td><td>-1.014271  </td><td>-0.02270383</td><td>-0.07364394</td><td>-0.1506075 </td><td>-0.08734022</td><td>-0.1188063 </td><td>No         </td></tr>\n",
       "</tbody>\n",
       "</table>\n"
      ],
      "text/latex": [
       "\\begin{tabular}{r|llllllllllllllllllllllllllllllllllllllllllllllllllllllllllllllllllllllllllllllllllllll}\n",
       " MOSTYPE & MAANTHUI & MGEMOMV & MGEMLEEF & MOSHOOFD & MGODRK & MGODPR & MGODOV & MGODGE & MRELGE & ... & APERSONG & AGEZONG & AWAOREG & ABRAND & AZEILPL & APLEZIER & AFIETS & AINBOED & ABYSTAND & Purchase\\\\\n",
       "\\hline\n",
       "\t  0.68084775 & -0.2725565  &  0.4066617  & -1.21685949 &  0.7793384  & -0.6942510  &  0.2174254  & -0.06870474 & -0.1618019  &  0.42763309 & ...         & -0.07315883 & -0.08104764 & -0.05991487 &  0.764905   & -0.02270383 & -0.07364394 & -0.1506075  & -0.08734022 & -0.1188063  & No         \\\\\n",
       "\t  0.99221162 & -0.2725565  & -0.8594262  & -1.21685949 &  0.7793384  &  0.3025256  & -0.3653787  & -0.06870474 &  0.4641188  & -0.09606902 & ...         & -0.07315883 & -0.08104764 & -0.05991487 &  0.764905   & -0.02270383 & -0.07364394 & -0.1506075  & -0.08734022 & -0.1188063  & No         \\\\\n",
       "\t  0.99221162 & -0.2725565  & -0.8594262  & -1.21685949 &  0.7793384  & -0.6942510  & -0.3653787  &  0.91409379 &  0.4641188  & -1.66717535 & ...         & -0.07315883 & -0.08104764 & -0.05991487 &  0.764905   & -0.02270383 & -0.07364394 & -0.1506075  & -0.08734022 & -0.1188063  & No         \\\\\n",
       "\t -1.18733547 & -0.2725565  &  0.4066617  &  0.01075374 & -0.9708962  &  1.2993023  & -0.9481828  &  0.91409379 &  0.4641188  & -0.61977113 & ...         & -0.07315883 & -0.08104764 & -0.05991487 &  0.764905   & -0.02270383 & -0.07364394 & -0.1506075  & -0.08734022 & -0.1188063  & No         \\\\\n",
       "\t  1.22573452 & -0.2725565  &  1.6727497  & -1.21685949 &  1.4794323  &  0.3025256  & -0.3653787  & -0.06870474 &  0.4641188  &  0.42763309 & ...         & -0.07315883 & -0.08104764 & -0.05991487 &  0.764905   & -0.02270383 & -0.07364394 & -0.1506075  & -0.08734022 & -0.1188063  & No         \\\\\n",
       "\t -0.09756193 & -0.2725565  & -0.8594262  & -2.44447272 & -0.2708024  & -0.6942510  &  0.2174254  & -1.05150327 &  1.0900394  & -3.23828168 & ...         & -0.07315883 & -0.08104764 & -0.05991487 & -1.014271   & -0.02270383 & -0.07364394 & -0.1506075  & -0.08734022 & -0.1188063  & No         \\\\\n",
       "\\end{tabular}\n"
      ],
      "text/markdown": [
       "\n",
       "MOSTYPE | MAANTHUI | MGEMOMV | MGEMLEEF | MOSHOOFD | MGODRK | MGODPR | MGODOV | MGODGE | MRELGE | ... | APERSONG | AGEZONG | AWAOREG | ABRAND | AZEILPL | APLEZIER | AFIETS | AINBOED | ABYSTAND | Purchase | \n",
       "|---|---|---|---|---|---|\n",
       "|  0.68084775 | -0.2725565  |  0.4066617  | -1.21685949 |  0.7793384  | -0.6942510  |  0.2174254  | -0.06870474 | -0.1618019  |  0.42763309 | ...         | -0.07315883 | -0.08104764 | -0.05991487 |  0.764905   | -0.02270383 | -0.07364394 | -0.1506075  | -0.08734022 | -0.1188063  | No          | \n",
       "|  0.99221162 | -0.2725565  | -0.8594262  | -1.21685949 |  0.7793384  |  0.3025256  | -0.3653787  | -0.06870474 |  0.4641188  | -0.09606902 | ...         | -0.07315883 | -0.08104764 | -0.05991487 |  0.764905   | -0.02270383 | -0.07364394 | -0.1506075  | -0.08734022 | -0.1188063  | No          | \n",
       "|  0.99221162 | -0.2725565  | -0.8594262  | -1.21685949 |  0.7793384  | -0.6942510  | -0.3653787  |  0.91409379 |  0.4641188  | -1.66717535 | ...         | -0.07315883 | -0.08104764 | -0.05991487 |  0.764905   | -0.02270383 | -0.07364394 | -0.1506075  | -0.08734022 | -0.1188063  | No          | \n",
       "| -1.18733547 | -0.2725565  |  0.4066617  |  0.01075374 | -0.9708962  |  1.2993023  | -0.9481828  |  0.91409379 |  0.4641188  | -0.61977113 | ...         | -0.07315883 | -0.08104764 | -0.05991487 |  0.764905   | -0.02270383 | -0.07364394 | -0.1506075  | -0.08734022 | -0.1188063  | No          | \n",
       "|  1.22573452 | -0.2725565  |  1.6727497  | -1.21685949 |  1.4794323  |  0.3025256  | -0.3653787  | -0.06870474 |  0.4641188  |  0.42763309 | ...         | -0.07315883 | -0.08104764 | -0.05991487 |  0.764905   | -0.02270383 | -0.07364394 | -0.1506075  | -0.08734022 | -0.1188063  | No          | \n",
       "| -0.09756193 | -0.2725565  | -0.8594262  | -2.44447272 | -0.2708024  | -0.6942510  |  0.2174254  | -1.05150327 |  1.0900394  | -3.23828168 | ...         | -0.07315883 | -0.08104764 | -0.05991487 | -1.014271   | -0.02270383 | -0.07364394 | -0.1506075  | -0.08734022 | -0.1188063  | No          | \n",
       "\n",
       "\n"
      ],
      "text/plain": [
       "  MOSTYPE     MAANTHUI   MGEMOMV    MGEMLEEF    MOSHOOFD   MGODRK    \n",
       "1  0.68084775 -0.2725565  0.4066617 -1.21685949  0.7793384 -0.6942510\n",
       "2  0.99221162 -0.2725565 -0.8594262 -1.21685949  0.7793384  0.3025256\n",
       "3  0.99221162 -0.2725565 -0.8594262 -1.21685949  0.7793384 -0.6942510\n",
       "4 -1.18733547 -0.2725565  0.4066617  0.01075374 -0.9708962  1.2993023\n",
       "5  1.22573452 -0.2725565  1.6727497 -1.21685949  1.4794323  0.3025256\n",
       "6 -0.09756193 -0.2725565 -0.8594262 -2.44447272 -0.2708024 -0.6942510\n",
       "  MGODPR     MGODOV      MGODGE     MRELGE      ... APERSONG    AGEZONG    \n",
       "1  0.2174254 -0.06870474 -0.1618019  0.42763309 ... -0.07315883 -0.08104764\n",
       "2 -0.3653787 -0.06870474  0.4641188 -0.09606902 ... -0.07315883 -0.08104764\n",
       "3 -0.3653787  0.91409379  0.4641188 -1.66717535 ... -0.07315883 -0.08104764\n",
       "4 -0.9481828  0.91409379  0.4641188 -0.61977113 ... -0.07315883 -0.08104764\n",
       "5 -0.3653787 -0.06870474  0.4641188  0.42763309 ... -0.07315883 -0.08104764\n",
       "6  0.2174254 -1.05150327  1.0900394 -3.23828168 ... -0.07315883 -0.08104764\n",
       "  AWAOREG     ABRAND    AZEILPL     APLEZIER    AFIETS     AINBOED    \n",
       "1 -0.05991487  0.764905 -0.02270383 -0.07364394 -0.1506075 -0.08734022\n",
       "2 -0.05991487  0.764905 -0.02270383 -0.07364394 -0.1506075 -0.08734022\n",
       "3 -0.05991487  0.764905 -0.02270383 -0.07364394 -0.1506075 -0.08734022\n",
       "4 -0.05991487  0.764905 -0.02270383 -0.07364394 -0.1506075 -0.08734022\n",
       "5 -0.05991487  0.764905 -0.02270383 -0.07364394 -0.1506075 -0.08734022\n",
       "6 -0.05991487 -1.014271 -0.02270383 -0.07364394 -0.1506075 -0.08734022\n",
       "  ABYSTAND   Purchase\n",
       "1 -0.1188063 No      \n",
       "2 -0.1188063 No      \n",
       "3 -0.1188063 No      \n",
       "4 -0.1188063 No      \n",
       "5 -0.1188063 No      \n",
       "6 -0.1188063 No      "
      ]
     },
     "metadata": {},
     "output_type": "display_data"
    }
   ],
   "source": [
    "# Data processing, scale data for KNN\n",
    "Caravan_scaled <- data.frame(scale(Caravan[, -86]))\n",
    "Caravan_scaled['Purchase'] <- Caravan[, 'Purchase']\n",
    "\n",
    "mean(Caravan_scaled[, 1])  # Mean = 0\n",
    "var(Caravan_scaled[, 1])  # Variance = Standard deviation = 1\n",
    "head(Caravan_scaled)"
   ]
  },
  {
   "cell_type": "code",
   "execution_count": 190,
   "metadata": {},
   "outputs": [],
   "source": [
    "# Train test spliting\n",
    "set.seed(123)\n",
    "train_idx <- createDataPartition(Y, p=.7, list=FALSE)\n",
    "\n",
    "# Train dataset\n",
    "train <- Caravan[train_idx, ]\n",
    "train_scaled <- Caravan_scaled[train_idx, ]\n",
    "\n",
    "# Test dataset\n",
    "test <- Caravan[-train_idx, ]\n",
    "test_scaled <- Caravan_scaled[-train_idx, ]"
   ]
  },
  {
   "cell_type": "code",
   "execution_count": 195,
   "metadata": {},
   "outputs": [
    {
     "data": {
      "text/plain": [
       "        \n",
       "pred_knn   No  Yes\n",
       "     No  1538   91\n",
       "     Yes  104   13"
      ]
     },
     "metadata": {},
     "output_type": "display_data"
    },
    {
     "name": "stdout",
     "output_type": "stream",
     "text": [
      "[1] \"Accuracy = 0.89\"\n",
      "[1] \"Precision = 0.11\"\n",
      "[1] \"Sensitivity (TPR) = 0.12\"\n",
      "[1] \"Specificity (TNR) = 0.94\"\n"
     ]
    }
   ],
   "source": [
    "# Fit KNN model k=1\n",
    "pred_knn <- knn(train=train_scaled[, -86], test=test_scaled[, -86], cl=train_scaled[, 86], k=1)\n",
    "\n",
    "# Evaluation\n",
    "table(pred_knn, test$Purchase)\n",
    "acc <- mean(pred_knn == test_scaled$Purchase)\n",
    "TP <- table(pred_knn, test_scaled$Purchase)[2, 2]\n",
    "TN <- table(pred_knn, test_scaled$Purchase)[1, 1]\n",
    "FP <- table(pred_knn, test_scaled$Purchase)[2, 1]\n",
    "FN <- table(pred_knn, test_scaled$Purchase)[1, 2]\n",
    "\n",
    "print(paste('Accuracy =', round(acc, 2)))\n",
    "print(paste('Precision =', round(TP / (TP + FP), 2)))\n",
    "print(paste('Sensitivity (TPR) =', round(TP / (TP + FN), 2)))\n",
    "print(paste('Specificity (TNR) =', round(TN / (TN + FP), 2)))"
   ]
  },
  {
   "cell_type": "code",
   "execution_count": 198,
   "metadata": {},
   "outputs": [
    {
     "data": {
      "text/plain": [
       "        \n",
       "pred_knn   No  Yes\n",
       "     No  1546   88\n",
       "     Yes   96   16"
      ]
     },
     "metadata": {},
     "output_type": "display_data"
    },
    {
     "name": "stdout",
     "output_type": "stream",
     "text": [
      "[1] \"Accuracy = 0.89\"\n",
      "[1] \"Precision = 0.14\"\n",
      "[1] \"Sensitivity (TPR) = 0.15\"\n",
      "[1] \"Specificity (TNR) = 0.94\"\n"
     ]
    }
   ],
   "source": [
    "# Fit KNN model k=2\n",
    "pred_knn <- knn(train=train_scaled[, -86], test=test_scaled[, -86], cl=train_scaled[, 86], k=2)\n",
    "\n",
    "# Evaluation\n",
    "table(pred_knn, test_scaled$Purchase)\n",
    "acc <- mean(pred_knn == test$Purchase)\n",
    "TP <- table(pred_knn, test_scaled$Purchase)[2, 2]\n",
    "TN <- table(pred_knn, test_scaled$Purchase)[1, 1]\n",
    "FP <- table(pred_knn, test_scaled$Purchase)[2, 1]\n",
    "FN <- table(pred_knn, test_scaled$Purchase)[1, 2]\n",
    "\n",
    "print(paste('Accuracy =', round(acc, 2)))\n",
    "print(paste('Precision =', round(TP / (TP + FP), 2)))\n",
    "print(paste('Sensitivity (TPR) =', round(TP / (TP + FN), 2)))\n",
    "print(paste('Specificity (TNR) =', round(TN / (TN + FP), 2)))"
   ]
  },
  {
   "cell_type": "code",
   "execution_count": 179,
   "metadata": {},
   "outputs": [
    {
     "name": "stderr",
     "output_type": "stream",
     "text": [
      "Warning message:\n",
      "\"glm.fit: fitted probabilities numerically 0 or 1 occurred\""
     ]
    },
    {
     "data": {
      "text/html": [
       "<dl class=dl-horizontal>\n",
       "\t<dt>1</dt>\n",
       "\t\t<dd>0.144627699692842</dd>\n",
       "\t<dt>2</dt>\n",
       "\t\t<dd>0.00996597025573929</dd>\n",
       "\t<dt>7</dt>\n",
       "\t\t<dd>0.0306846589092541</dd>\n",
       "\t<dt>9</dt>\n",
       "\t\t<dd>0.0257797026449691</dd>\n",
       "\t<dt>12</dt>\n",
       "\t\t<dd>0.0708282630863958</dd>\n",
       "\t<dt>14</dt>\n",
       "\t\t<dd>0.0144868242825327</dd>\n",
       "</dl>\n"
      ],
      "text/latex": [
       "\\begin{description*}\n",
       "\\item[1] 0.144627699692842\n",
       "\\item[2] 0.00996597025573929\n",
       "\\item[7] 0.0306846589092541\n",
       "\\item[9] 0.0257797026449691\n",
       "\\item[12] 0.0708282630863958\n",
       "\\item[14] 0.0144868242825327\n",
       "\\end{description*}\n"
      ],
      "text/markdown": [
       "1\n",
       ":   0.1446276996928422\n",
       ":   0.009965970255739297\n",
       ":   0.03068465890925419\n",
       ":   0.025779702644969112\n",
       ":   0.070828263086395814\n",
       ":   0.0144868242825327\n",
       "\n"
      ],
      "text/plain": [
       "         1          2          7          9         12         14 \n",
       "0.14462770 0.00996597 0.03068466 0.02577970 0.07082826 0.01448682 "
      ]
     },
     "metadata": {},
     "output_type": "display_data"
    },
    {
     "data": {
      "text/plain": [
       "     \n",
       "pred    No  Yes\n",
       "  No  1639  102\n",
       "  Yes    3    2"
      ]
     },
     "metadata": {},
     "output_type": "display_data"
    },
    {
     "name": "stdout",
     "output_type": "stream",
     "text": [
      "[1] \"Accuracy = 0.94\"\n",
      "[1] \"Precision = 0.4\"\n",
      "[1] \"Sensitivity (TPR) = 0.02\"\n",
      "[1] \"Specificity (TNR) = 1\"\n"
     ]
    }
   ],
   "source": [
    "# Fit Logistic Regression model\n",
    "md_logreg <- glm(Purchase ~ ., data=train, family=binomial)\n",
    "\n",
    "# Make prediction\n",
    "pred_logreg <- predict(md_logreg, newdata=test, type='response')\n",
    "head(pred_logreg)\n",
    "\n",
    "# Decision threshold = 0.5\n",
    "threshold <- 0.5\n",
    "pred <- rep('No', nrow(test))\n",
    "pred[pred_logreg > threshold] <- 'Yes'\n",
    "\n",
    "# Evaluation\n",
    "table(pred, test$Purchase)\n",
    "acc <- mean(pred == test$Purchase)\n",
    "TP <- table(pred, test$Purchase)[2, 2]\n",
    "TN <- table(pred, test$Purchase)[1, 1]\n",
    "FP <- table(pred, test$Purchase)[2, 1]\n",
    "FN <- table(pred, test$Purchase)[1, 2]\n",
    "\n",
    "print(paste('Accuracy =', round(acc, 2)))\n",
    "print(paste('Precision =', round(TP / (TP + FP), 2)))\n",
    "print(paste('Sensitivity (TPR) =', round(TP / (TP + FN), 2)))\n",
    "print(paste('Specificity (TNR) =', round(TN / (TN + FP), 2)))"
   ]
  },
  {
   "cell_type": "code",
   "execution_count": 204,
   "metadata": {},
   "outputs": [
    {
     "data": {
      "text/plain": [
       "     \n",
       "pred    No  Yes\n",
       "  No  1589   88\n",
       "  Yes   53   16"
      ]
     },
     "metadata": {},
     "output_type": "display_data"
    },
    {
     "name": "stdout",
     "output_type": "stream",
     "text": [
      "[1] \"Accuracy = 0.92\"\n",
      "[1] \"Precision = 0.23\"\n",
      "[1] \"Sensitivity (TPR) = 0.15\"\n",
      "[1] \"Specificity (TNR) = 0.97\"\n"
     ]
    }
   ],
   "source": [
    "# Decision threshold = 0.25\n",
    "threshold <- 0.25\n",
    "pred <- rep('No', nrow(test))\n",
    "pred[pred_logreg > threshold] <- 'Yes'\n",
    "\n",
    "# Evaluation\n",
    "table(pred, test$Purchase)\n",
    "acc <- mean(pred == test$Purchase)\n",
    "TP <- table(pred, test$Purchase)[2, 2]\n",
    "TN <- table(pred, test$Purchase)[1, 1]\n",
    "FP <- table(pred, test$Purchase)[2, 1]\n",
    "FN <- table(pred, test$Purchase)[1, 2]\n",
    "\n",
    "print(paste('Accuracy =', round(acc, 2)))\n",
    "print(paste('Precision =', round(TP / (TP + FP), 2)))\n",
    "print(paste('Sensitivity (TPR) =', round(TP / (TP + FN), 2)))\n",
    "print(paste('Specificity (TNR) =', round(TN / (TN + FP), 2)))"
   ]
  },
  {
   "cell_type": "markdown",
   "metadata": {},
   "source": [
    "### Lab 3: Student Performance Data"
   ]
  },
  {
   "cell_type": "markdown",
   "metadata": {},
   "source": [
    "**3.1. Data exploration**"
   ]
  },
  {
   "cell_type": "code",
   "execution_count": 5,
   "metadata": {},
   "outputs": [
    {
     "name": "stderr",
     "output_type": "stream",
     "text": [
      "Loading required package: ParamHelpers\n",
      "Warning message:\n",
      "\"replacing previous import 'BBmisc::isFALSE' by 'backports::isFALSE' when loading 'mlr'\"Loading required package: kknn\n",
      "Loading required package: MASS\n"
     ]
    }
   ],
   "source": [
    "# Required library\n",
    "library(mlr)\n",
    "require(kknn)  # kNN\n",
    "require(MASS)  # LDA, QDA\n",
    "require(nnet)  # Multinomial LogRes"
   ]
  },
  {
   "cell_type": "code",
   "execution_count": 100,
   "metadata": {},
   "outputs": [
    {
     "name": "stdout",
     "output_type": "stream",
     "text": [
      "'data.frame':\t395 obs. of  33 variables:\n",
      " $ school    : Factor w/ 2 levels \"GP\",\"MS\": 1 1 1 1 1 1 1 1 1 1 ...\n",
      " $ sex       : Factor w/ 2 levels \"F\",\"M\": 1 1 1 1 1 2 2 1 2 2 ...\n",
      " $ age       : int  18 17 15 15 16 16 16 17 15 15 ...\n",
      " $ address   : Factor w/ 2 levels \"R\",\"U\": 2 2 2 2 2 2 2 2 2 2 ...\n",
      " $ famsize   : Factor w/ 2 levels \"GT3\",\"LE3\": 1 1 2 1 1 2 2 1 2 1 ...\n",
      " $ Pstatus   : Factor w/ 2 levels \"A\",\"T\": 1 2 2 2 2 2 2 1 1 2 ...\n",
      " $ Medu      : int  4 1 1 4 3 4 2 4 3 3 ...\n",
      " $ Fedu      : int  4 1 1 2 3 3 2 4 2 4 ...\n",
      " $ Mjob      : Factor w/ 5 levels \"at_home\",\"health\",..: 1 1 1 2 3 4 3 3 4 3 ...\n",
      " $ Fjob      : Factor w/ 5 levels \"at_home\",\"health\",..: 5 3 3 4 3 3 3 5 3 3 ...\n",
      " $ reason    : Factor w/ 4 levels \"course\",\"home\",..: 1 1 3 2 2 4 2 2 2 2 ...\n",
      " $ guardian  : Factor w/ 3 levels \"father\",\"mother\",..: 2 1 2 2 1 2 2 2 2 2 ...\n",
      " $ traveltime: int  2 1 1 1 1 1 1 2 1 1 ...\n",
      " $ studytime : int  2 2 2 3 2 2 2 2 2 2 ...\n",
      " $ failures  : int  0 0 3 0 0 0 0 0 0 0 ...\n",
      " $ schoolsup : Factor w/ 2 levels \"no\",\"yes\": 2 1 2 1 1 1 1 2 1 1 ...\n",
      " $ famsup    : Factor w/ 2 levels \"no\",\"yes\": 1 2 1 2 2 2 1 2 2 2 ...\n",
      " $ paid      : Factor w/ 2 levels \"no\",\"yes\": 1 1 2 2 2 2 1 1 2 2 ...\n",
      " $ activities: Factor w/ 2 levels \"no\",\"yes\": 1 1 1 2 1 2 1 1 1 2 ...\n",
      " $ nursery   : Factor w/ 2 levels \"no\",\"yes\": 2 1 2 2 2 2 2 2 2 2 ...\n",
      " $ higher    : Factor w/ 2 levels \"no\",\"yes\": 2 2 2 2 2 2 2 2 2 2 ...\n",
      " $ internet  : Factor w/ 2 levels \"no\",\"yes\": 1 2 2 2 1 2 2 1 2 2 ...\n",
      " $ romantic  : Factor w/ 2 levels \"no\",\"yes\": 1 1 1 2 1 1 1 1 1 1 ...\n",
      " $ famrel    : int  4 5 4 3 4 5 4 4 4 5 ...\n",
      " $ freetime  : int  3 3 3 2 3 4 4 1 2 5 ...\n",
      " $ goout     : int  4 3 2 2 2 2 4 4 2 1 ...\n",
      " $ Dalc      : int  1 1 2 1 1 1 1 1 1 1 ...\n",
      " $ Walc      : int  1 1 3 1 2 2 1 1 1 1 ...\n",
      " $ health    : int  3 3 3 5 5 5 3 1 1 5 ...\n",
      " $ absences  : int  6 4 10 2 4 10 0 6 0 0 ...\n",
      " $ G1        : int  5 5 7 15 6 15 12 6 16 14 ...\n",
      " $ G2        : int  6 5 8 14 10 15 12 5 18 15 ...\n",
      " $ G3        : int  6 6 10 15 10 15 11 6 19 15 ...\n"
     ]
    }
   ],
   "source": [
    "# Import data\n",
    "student <- read.csv('./data/student/student-mat.csv', sep=';')\n",
    "str(student)"
   ]
  },
  {
   "cell_type": "code",
   "execution_count": 59,
   "metadata": {},
   "outputs": [
    {
     "data": {
      "text/html": [
       "<dl class=dl-horizontal>\n",
       "\t<dt>school</dt>\n",
       "\t\t<dd>0</dd>\n",
       "\t<dt>sex</dt>\n",
       "\t\t<dd>0</dd>\n",
       "\t<dt>age</dt>\n",
       "\t\t<dd>0</dd>\n",
       "\t<dt>address</dt>\n",
       "\t\t<dd>0</dd>\n",
       "\t<dt>famsize</dt>\n",
       "\t\t<dd>0</dd>\n",
       "\t<dt>Pstatus</dt>\n",
       "\t\t<dd>0</dd>\n",
       "\t<dt>Medu</dt>\n",
       "\t\t<dd>0</dd>\n",
       "\t<dt>Fedu</dt>\n",
       "\t\t<dd>0</dd>\n",
       "\t<dt>Mjob</dt>\n",
       "\t\t<dd>0</dd>\n",
       "\t<dt>Fjob</dt>\n",
       "\t\t<dd>0</dd>\n",
       "\t<dt>reason</dt>\n",
       "\t\t<dd>0</dd>\n",
       "\t<dt>guardian</dt>\n",
       "\t\t<dd>0</dd>\n",
       "\t<dt>traveltime</dt>\n",
       "\t\t<dd>0</dd>\n",
       "\t<dt>studytime</dt>\n",
       "\t\t<dd>0</dd>\n",
       "\t<dt>failures</dt>\n",
       "\t\t<dd>0</dd>\n",
       "\t<dt>schoolsup</dt>\n",
       "\t\t<dd>0</dd>\n",
       "\t<dt>famsup</dt>\n",
       "\t\t<dd>0</dd>\n",
       "\t<dt>paid</dt>\n",
       "\t\t<dd>0</dd>\n",
       "\t<dt>activities</dt>\n",
       "\t\t<dd>0</dd>\n",
       "\t<dt>nursery</dt>\n",
       "\t\t<dd>0</dd>\n",
       "\t<dt>higher</dt>\n",
       "\t\t<dd>0</dd>\n",
       "\t<dt>internet</dt>\n",
       "\t\t<dd>0</dd>\n",
       "\t<dt>romantic</dt>\n",
       "\t\t<dd>0</dd>\n",
       "\t<dt>famrel</dt>\n",
       "\t\t<dd>0</dd>\n",
       "\t<dt>freetime</dt>\n",
       "\t\t<dd>0</dd>\n",
       "\t<dt>goout</dt>\n",
       "\t\t<dd>0</dd>\n",
       "\t<dt>Dalc</dt>\n",
       "\t\t<dd>0</dd>\n",
       "\t<dt>Walc</dt>\n",
       "\t\t<dd>0</dd>\n",
       "\t<dt>health</dt>\n",
       "\t\t<dd>0</dd>\n",
       "\t<dt>absences</dt>\n",
       "\t\t<dd>0</dd>\n",
       "\t<dt>G1</dt>\n",
       "\t\t<dd>0</dd>\n",
       "\t<dt>G2</dt>\n",
       "\t\t<dd>0</dd>\n",
       "\t<dt>G3</dt>\n",
       "\t\t<dd>0</dd>\n",
       "</dl>\n"
      ],
      "text/latex": [
       "\\begin{description*}\n",
       "\\item[school] 0\n",
       "\\item[sex] 0\n",
       "\\item[age] 0\n",
       "\\item[address] 0\n",
       "\\item[famsize] 0\n",
       "\\item[Pstatus] 0\n",
       "\\item[Medu] 0\n",
       "\\item[Fedu] 0\n",
       "\\item[Mjob] 0\n",
       "\\item[Fjob] 0\n",
       "\\item[reason] 0\n",
       "\\item[guardian] 0\n",
       "\\item[traveltime] 0\n",
       "\\item[studytime] 0\n",
       "\\item[failures] 0\n",
       "\\item[schoolsup] 0\n",
       "\\item[famsup] 0\n",
       "\\item[paid] 0\n",
       "\\item[activities] 0\n",
       "\\item[nursery] 0\n",
       "\\item[higher] 0\n",
       "\\item[internet] 0\n",
       "\\item[romantic] 0\n",
       "\\item[famrel] 0\n",
       "\\item[freetime] 0\n",
       "\\item[goout] 0\n",
       "\\item[Dalc] 0\n",
       "\\item[Walc] 0\n",
       "\\item[health] 0\n",
       "\\item[absences] 0\n",
       "\\item[G1] 0\n",
       "\\item[G2] 0\n",
       "\\item[G3] 0\n",
       "\\end{description*}\n"
      ],
      "text/markdown": [
       "school\n",
       ":   0sex\n",
       ":   0age\n",
       ":   0address\n",
       ":   0famsize\n",
       ":   0Pstatus\n",
       ":   0Medu\n",
       ":   0Fedu\n",
       ":   0Mjob\n",
       ":   0Fjob\n",
       ":   0reason\n",
       ":   0guardian\n",
       ":   0traveltime\n",
       ":   0studytime\n",
       ":   0failures\n",
       ":   0schoolsup\n",
       ":   0famsup\n",
       ":   0paid\n",
       ":   0activities\n",
       ":   0nursery\n",
       ":   0higher\n",
       ":   0internet\n",
       ":   0romantic\n",
       ":   0famrel\n",
       ":   0freetime\n",
       ":   0goout\n",
       ":   0Dalc\n",
       ":   0Walc\n",
       ":   0health\n",
       ":   0absences\n",
       ":   0G1\n",
       ":   0G2\n",
       ":   0G3\n",
       ":   0\n",
       "\n"
      ],
      "text/plain": [
       "    school        sex        age    address    famsize    Pstatus       Medu \n",
       "         0          0          0          0          0          0          0 \n",
       "      Fedu       Mjob       Fjob     reason   guardian traveltime  studytime \n",
       "         0          0          0          0          0          0          0 \n",
       "  failures  schoolsup     famsup       paid activities    nursery     higher \n",
       "         0          0          0          0          0          0          0 \n",
       "  internet   romantic     famrel   freetime      goout       Dalc       Walc \n",
       "         0          0          0          0          0          0          0 \n",
       "    health   absences         G1         G2         G3 \n",
       "         0          0          0          0          0 "
      ]
     },
     "metadata": {},
     "output_type": "display_data"
    }
   ],
   "source": [
    "# Check NA\n",
    "apply(is.na(student), 2, sum)"
   ]
  },
  {
   "cell_type": "code",
   "execution_count": 60,
   "metadata": {},
   "outputs": [
    {
     "data": {
      "text/plain": [
       "   Min. 1st Qu.  Median    Mean 3rd Qu.    Max. \n",
       "   0.00    8.00   11.00   10.42   14.00   20.00 "
      ]
     },
     "metadata": {},
     "output_type": "display_data"
    },
    {
     "data": {
      "image/png": "[encoded data removed]",
      "text/plain": [
       "plot without title"
      ]
     },
     "metadata": {},
     "output_type": "display_data"
    }
   ],
   "source": [
    "# Check target variable\n",
    "summary(student$G3)\n",
    "\n",
    "options(repr.plot.width=4, repr.plot.height=4)\n",
    "barplot(table(student$G3))"
   ]
  },
  {
   "cell_type": "markdown",
   "metadata": {},
   "source": [
    "**3.2. Binomial classification**"
   ]
  },
  {
   "cell_type": "code",
   "execution_count": 136,
   "metadata": {},
   "outputs": [
    {
     "data": {
      "text/plain": [
       "\n",
       "  N   Y \n",
       "130 265 "
      ]
     },
     "metadata": {},
     "output_type": "display_data"
    },
    {
     "data": {
      "text/plain": [
       "\n",
       "        N         Y \n",
       "0.3291139 0.6708861 "
      ]
     },
     "metadata": {},
     "output_type": "display_data"
    }
   ],
   "source": [
    "# Input data (again)\n",
    "student <- read.csv('./data/student/student-mat.csv', sep=';')\n",
    "\n",
    "# Bin target variable into 2 groups: pass = Y/N\n",
    "student$pass <- 'N'\n",
    "student[student$G3 >= 10, 'pass'] <- 'Y'\n",
    "\n",
    "table(student$pass)\n",
    "table(student$pass)/nrow(student)"
   ]
  },
  {
   "cell_type": "code",
   "execution_count": 117,
   "metadata": {},
   "outputs": [],
   "source": [
    "# Drop the previous target column\n",
    "student$G3 <- NULL"
   ]
  },
  {
   "cell_type": "markdown",
   "metadata": {},
   "source": [
    "**Test Logistic Regression (LogRes) model, 10-fold CV**"
   ]
  },
  {
   "cell_type": "code",
   "execution_count": 103,
   "metadata": {},
   "outputs": [
    {
     "name": "stderr",
     "output_type": "stream",
     "text": [
      "[Resample] cross-validation iter 1: Warning message:\n",
      "\"glm.fit: fitted probabilities numerically 0 or 1 occurred\"auc.test.mean=0.907\n",
      "[Resample] cross-validation iter 2: Warning message:\n",
      "\"glm.fit: algorithm did not converge\"Warning message:\n",
      "\"glm.fit: fitted probabilities numerically 0 or 1 occurred\"auc.test.mean=0.815\n",
      "[Resample] cross-validation iter 3: Warning message:\n",
      "\"glm.fit: fitted probabilities numerically 0 or 1 occurred\"auc.test.mean=0.997\n",
      "[Resample] cross-validation iter 4: Warning message:\n",
      "\"glm.fit: fitted probabilities numerically 0 or 1 occurred\"auc.test.mean=0.983\n",
      "[Resample] cross-validation iter 5: Warning message:\n",
      "\"glm.fit: algorithm did not converge\"Warning message:\n",
      "\"glm.fit: fitted probabilities numerically 0 or 1 occurred\"auc.test.mean=0.818\n",
      "[Resample] cross-validation iter 6: Warning message:\n",
      "\"glm.fit: algorithm did not converge\"Warning message:\n",
      "\"glm.fit: fitted probabilities numerically 0 or 1 occurred\"auc.test.mean=0.894\n",
      "[Resample] cross-validation iter 7: Warning message:\n",
      "\"glm.fit: algorithm did not converge\"Warning message:\n",
      "\"glm.fit: fitted probabilities numerically 0 or 1 occurred\"auc.test.mean=0.883\n",
      "[Resample] cross-validation iter 8: Warning message:\n",
      "\"glm.fit: fitted probabilities numerically 0 or 1 occurred\"auc.test.mean=0.99\n",
      "[Resample] cross-validation iter 9: Warning message:\n",
      "\"glm.fit: algorithm did not converge\"Warning message:\n",
      "\"glm.fit: fitted probabilities numerically 0 or 1 occurred\"auc.test.mean=0.876\n",
      "[Resample] cross-validation iter 10: Warning message:\n",
      "\"glm.fit: fitted probabilities numerically 0 or 1 occurred\"auc.test.mean=0.917\n",
      "[Resample] Aggr. Result: auc.test.mean=0.908\n"
     ]
    },
    {
     "data": {
      "text/plain": [
       "Resample Result\n",
       "Task: student\n",
       "Learner: classif.logreg\n",
       "Aggr perf: auc.test.mean=0.908\n",
       "Runtime: 0.863286"
      ]
     },
     "metadata": {},
     "output_type": "display_data"
    }
   ],
   "source": [
    "# Set up cross-validation\n",
    "rdesc = makeResampleDesc(\"CV\", iters=10)\n",
    "\n",
    "# Define the model\n",
    "lnr_logreg <- makeLearner(\"classif.logreg\", predict.type=\"prob\", fix.factors.prediction=T)\n",
    "\n",
    "# Define the model\n",
    "task_logreg <- makeClassifTask(id=\"student\", data=student, target=\"pass\")\n",
    "\n",
    "# Run the k-fold CV\n",
    "resample(lnr_logreg, task_logreg, rdesc, measures=list(auc))"
   ]
  },
  {
   "cell_type": "markdown",
   "metadata": {},
   "source": [
    "**Test Linear Discriminant Analysis (LDA) model, 10-fold CV**"
   ]
  },
  {
   "cell_type": "code",
   "execution_count": 104,
   "metadata": {},
   "outputs": [
    {
     "name": "stderr",
     "output_type": "stream",
     "text": [
      "[Resample] cross-validation iter 1: auc.test.mean=0.941\n",
      "[Resample] cross-validation iter 2: auc.test.mean=0.997\n",
      "[Resample] cross-validation iter 3: auc.test.mean=0.963\n",
      "[Resample] cross-validation iter 4: auc.test.mean=0.923\n",
      "[Resample] cross-validation iter 5: auc.test.mean=0.944\n",
      "[Resample] cross-validation iter 6: auc.test.mean=0.904\n",
      "[Resample] cross-validation iter 7: auc.test.mean=0.994\n",
      "[Resample] cross-validation iter 8: auc.test.mean=0.968\n",
      "[Resample] cross-validation iter 9: auc.test.mean=0.98\n",
      "[Resample] cross-validation iter 10: auc.test.mean=0.944\n",
      "[Resample] Aggr. Result: auc.test.mean=0.956\n"
     ]
    },
    {
     "data": {
      "text/plain": [
       "Resample Result\n",
       "Task: student\n",
       "Learner: classif.lda\n",
       "Aggr perf: auc.test.mean=0.956\n",
       "Runtime: 1.06983"
      ]
     },
     "metadata": {},
     "output_type": "display_data"
    }
   ],
   "source": [
    "# Set up cross-validation\n",
    "rdesc = makeResampleDesc(\"CV\", iters=10)\n",
    "\n",
    "# Define the model\n",
    "lnr_lda <- makeLearner(\"classif.lda\", predict.type=\"prob\", fix.factors.prediction=T)\n",
    "\n",
    "# Define the model\n",
    "task_logreg <- makeClassifTask(id=\"student\", data=student, target=\"pass\")\n",
    "\n",
    "# Run the k-fold CV\n",
    "resample(lnr_lda, task_logreg, rdesc, measures=list(auc))"
   ]
  },
  {
   "cell_type": "markdown",
   "metadata": {},
   "source": [
    "**Test Quadratic Discriminant Analysis (QDA) model, 10-fold CV**"
   ]
  },
  {
   "cell_type": "code",
   "execution_count": 106,
   "metadata": {},
   "outputs": [
    {
     "name": "stderr",
     "output_type": "stream",
     "text": [
      "[Resample] cross-validation iter 1: auc.test.mean=0.777\n",
      "[Resample] cross-validation iter 2: auc.test.mean=0.805\n",
      "[Resample] cross-validation iter 3: auc.test.mean=0.844\n",
      "[Resample] cross-validation iter 4: auc.test.mean=0.779\n",
      "[Resample] cross-validation iter 5: auc.test.mean=0.778\n",
      "[Resample] cross-validation iter 6: auc.test.mean=0.776\n",
      "[Resample] cross-validation iter 7: auc.test.mean=0.896\n",
      "[Resample] cross-validation iter 8: auc.test.mean=0.901\n",
      "[Resample] cross-validation iter 9: auc.test.mean=0.869\n",
      "[Resample] cross-validation iter 10: auc.test.mean=0.972\n",
      "[Resample] Aggr. Result: auc.test.mean=0.84\n"
     ]
    },
    {
     "data": {
      "text/plain": [
       "Resample Result\n",
       "Task: student\n",
       "Learner: classif.qda\n",
       "Aggr perf: auc.test.mean=0.84\n",
       "Runtime: 0.476768"
      ]
     },
     "metadata": {},
     "output_type": "display_data"
    }
   ],
   "source": [
    "# Set up cross-validation\n",
    "rdesc = makeResampleDesc(\"CV\", iters=10)\n",
    "\n",
    "# Define the model\n",
    "lnr_qda <- makeLearner(\"classif.qda\", predict.type=\"prob\", fix.factors.prediction=T)\n",
    "\n",
    "# Define the model\n",
    "task_logreg <- makeClassifTask(id=\"student\", data=student, target=\"pass\")\n",
    "\n",
    "# Run the k-fold CV\n",
    "resample(lnr_qda, task_logreg, rdesc, measures=list(auc))"
   ]
  },
  {
   "cell_type": "markdown",
   "metadata": {},
   "source": [
    "**Test k-Nearest Neighbor (kNN) model, k=1, 10-fold CV**"
   ]
  },
  {
   "cell_type": "code",
   "execution_count": 118,
   "metadata": {},
   "outputs": [
    {
     "name": "stderr",
     "output_type": "stream",
     "text": [
      "[Resample] cross-validation iter 1: auc.test.mean=0.626\n",
      "[Resample] cross-validation iter 2: auc.test.mean=0.706\n",
      "[Resample] cross-validation iter 3: auc.test.mean=0.663\n",
      "[Resample] cross-validation iter 4: auc.test.mean=0.865\n",
      "[Resample] cross-validation iter 5: auc.test.mean=0.524\n",
      "[Resample] cross-validation iter 6: auc.test.mean=0.647\n",
      "[Resample] cross-validation iter 7: auc.test.mean=0.696\n",
      "[Resample] cross-validation iter 8: auc.test.mean=0.706\n",
      "[Resample] cross-validation iter 9: auc.test.mean=0.652\n",
      "[Resample] cross-validation iter 10: auc.test.mean=0.615\n",
      "[Resample] Aggr. Result: auc.test.mean=0.67\n"
     ]
    },
    {
     "data": {
      "text/plain": [
       "Resample Result\n",
       "Task: student\n",
       "Learner: classif.kknn\n",
       "Aggr perf: auc.test.mean=0.67\n",
       "Runtime: 0.697352"
      ]
     },
     "metadata": {},
     "output_type": "display_data"
    }
   ],
   "source": [
    "# Set up cross-validation\n",
    "rdesc = makeResampleDesc(\"CV\", iters=10)\n",
    "\n",
    "# Define the model\n",
    "lnr_knn <- makeLearner(\"classif.kknn\", predict.type=\"prob\", fix.factors.prediction=T, k=1)\n",
    "\n",
    "# Define the model\n",
    "task_logreg <- makeClassifTask(id=\"student\", data=student, target=\"pass\")\n",
    "\n",
    "# Run the k-fold CV\n",
    "resample(lnr_knn, task_logreg, rdesc, measures=list(auc))"
   ]
  },
  {
   "cell_type": "markdown",
   "metadata": {},
   "source": [
    "**Test k-Nearest Neighbor (kNN) model, k=100, 10-fold CV**"
   ]
  },
  {
   "cell_type": "code",
   "execution_count": 138,
   "metadata": {},
   "outputs": [
    {
     "name": "stderr",
     "output_type": "stream",
     "text": [
      "[Resample] cross-validation iter 1: auc.test.mean=0.929\n",
      "[Resample] cross-validation iter 2: auc.test.mean=0.955\n",
      "[Resample] cross-validation iter 3: auc.test.mean=0.987\n",
      "[Resample] cross-validation iter 4: auc.test.mean=0.94\n",
      "[Resample] cross-validation iter 5: auc.test.mean=0.963\n",
      "[Resample] cross-validation iter 6: auc.test.mean=0.994\n",
      "[Resample] cross-validation iter 7: auc.test.mean=0.949\n",
      "[Resample] cross-validation iter 8: auc.test.mean=0.881\n",
      "[Resample] cross-validation iter 9: auc.test.mean=0.994\n",
      "[Resample] cross-validation iter 10: auc.test.mean=0.938\n",
      "[Resample] Aggr. Result: auc.test.mean=0.953\n"
     ]
    },
    {
     "data": {
      "text/plain": [
       "Resample Result\n",
       "Task: student\n",
       "Learner: classif.kknn\n",
       "Aggr perf: auc.test.mean=0.953\n",
       "Runtime: 0.711608"
      ]
     },
     "metadata": {},
     "output_type": "display_data"
    }
   ],
   "source": [
    "# Set up cross-validation\n",
    "rdesc = makeResampleDesc(\"CV\", iters=10)\n",
    "\n",
    "# Define the model\n",
    "lnr_knn <- makeLearner(\"classif.kknn\", predict.type=\"prob\", fix.factors.prediction=T, k=100)\n",
    "\n",
    "# Define the model\n",
    "task_logreg <- makeClassifTask(id=\"student\", data=student, target=\"pass\")\n",
    "\n",
    "# Run the k-fold CV\n",
    "resample(lnr_knn, task_logreg, rdesc, measures=list(auc))"
   ]
  },
  {
   "cell_type": "markdown",
   "metadata": {},
   "source": [
    "**3.3. Multinomial classification**"
   ]
  },
  {
   "cell_type": "code",
   "execution_count": 2,
   "metadata": {},
   "outputs": [],
   "source": [
    "require(nnet)  # One-vs-All Logistic Regression"
   ]
  },
  {
   "cell_type": "code",
   "execution_count": 3,
   "metadata": {},
   "outputs": [
    {
     "data": {
      "text/plain": [
       "\n",
       "         A         A-          B         B+          C          F \n",
       "0.10126582 0.15189873 0.07848101 0.07848101 0.26075949 0.32911392 "
      ]
     },
     "metadata": {},
     "output_type": "display_data"
    },
    {
     "data": {
      "image/png": "[encoded data removed]",
      "text/plain": [
       "plot without title"
      ]
     },
     "metadata": {},
     "output_type": "display_data"
    }
   ],
   "source": [
    "# Input data (again)\n",
    "student <- read.csv('./data/student/student-mat.csv', sep=';')\n",
    "\n",
    "# Bin target variable into group\n",
    "# Refs: http://www.canada.campusfrance.org/en/faq/french-grading-system-same-canadian-system\n",
    "\n",
    "student$final_grade <- 'F'\n",
    "student[student$G3 >= 10 & student$G3 <= 11.9, 'final_grade'] <- 'C'\n",
    "student[student$G3 >= 12 & student$G3 <= 12.9, 'final_grade'] <- 'B'\n",
    "student[student$G3 >= 13 & student$G3 <= 13.9, 'final_grade'] <- 'B+'\n",
    "student[student$G3 >= 14 & student$G3 <= 15.9, 'final_grade'] <- 'A-'\n",
    "student[student$G3 >= 16 & student$G3 <= 20, 'final_grade'] <- 'A'\n",
    "\n",
    "table(student$final_grade)/nrow(student)\n",
    "\n",
    "options(repr.plot.width=4, repr.plot.height=4)\n",
    "barplot(table(student$final_grade))"
   ]
  },
  {
   "cell_type": "code",
   "execution_count": 123,
   "metadata": {},
   "outputs": [],
   "source": [
    "# Drop the numeric target variable\n",
    "student$G3 <- NULL"
   ]
  },
  {
   "cell_type": "markdown",
   "metadata": {},
   "source": [
    "**Test One-vs-All Logistic Regression (LogRes) model, 10-fold CV**"
   ]
  },
  {
   "cell_type": "code",
   "execution_count": 6,
   "metadata": {},
   "outputs": [
    {
     "name": "stderr",
     "output_type": "stream",
     "text": [
      "[Resample] cross-validation iter 1: "
     ]
    },
    {
     "name": "stdout",
     "output_type": "stream",
     "text": [
      "# weights:  264 (215 variable)\n",
      "initial  value 636.074612 \n",
      "iter  10 value 360.148374\n",
      "iter  20 value 266.802915\n",
      "iter  30 value 209.132754\n",
      "iter  40 value 156.488425\n",
      "iter  50 value 76.056937\n",
      "iter  60 value 18.125911\n",
      "iter  70 value 0.140126\n",
      "iter  80 value 0.000560\n",
      "final  value 0.000065 \n",
      "converged\n"
     ]
    },
    {
     "name": "stderr",
     "output_type": "stream",
     "text": [
      "acc.test.mean=0.65\n",
      "[Resample] cross-validation iter 2: "
     ]
    },
    {
     "name": "stdout",
     "output_type": "stream",
     "text": [
      "# weights:  264 (215 variable)\n",
      "initial  value 637.866371 \n",
      "iter  10 value 366.999491\n",
      "iter  20 value 288.710955\n",
      "iter  30 value 221.422375\n",
      "iter  40 value 170.741865\n",
      "iter  50 value 87.589253\n",
      "iter  60 value 25.890184\n",
      "iter  70 value 0.240333\n",
      "iter  80 value 0.001909\n",
      "iter  90 value 0.000155\n",
      "iter  90 value 0.000079\n",
      "iter  90 value 0.000058\n",
      "final  value 0.000058 \n",
      "converged\n"
     ]
    },
    {
     "name": "stderr",
     "output_type": "stream",
     "text": [
      "acc.test.mean=0.59\n",
      "[Resample] cross-validation iter 3: "
     ]
    },
    {
     "name": "stdout",
     "output_type": "stream",
     "text": [
      "# weights:  264 (215 variable)\n",
      "initial  value 636.074612 \n",
      "iter  10 value 369.709153\n",
      "iter  20 value 301.662566\n",
      "iter  30 value 224.370992\n",
      "iter  40 value 179.576441\n",
      "iter  50 value 91.951044\n",
      "iter  60 value 26.387186\n",
      "iter  70 value 0.738748\n",
      "iter  80 value 0.001680\n",
      "final  value 0.000079 \n",
      "converged\n"
     ]
    },
    {
     "name": "stderr",
     "output_type": "stream",
     "text": [
      "acc.test.mean= 0.8\n",
      "[Resample] cross-validation iter 4: "
     ]
    },
    {
     "name": "stdout",
     "output_type": "stream",
     "text": [
      "# weights:  264 (215 variable)\n",
      "initial  value 636.074612 \n",
      "iter  10 value 382.380691\n",
      "iter  20 value 302.569272\n",
      "iter  30 value 221.167601\n",
      "iter  40 value 168.809077\n",
      "iter  50 value 73.426937\n",
      "iter  60 value 16.742428\n",
      "iter  70 value 0.203750\n",
      "iter  80 value 0.004378\n",
      "iter  90 value 0.000267\n",
      "final  value 0.000058 \n",
      "converged\n"
     ]
    },
    {
     "name": "stderr",
     "output_type": "stream",
     "text": [
      "acc.test.mean=0.75\n",
      "[Resample] cross-validation iter 5: "
     ]
    },
    {
     "name": "stdout",
     "output_type": "stream",
     "text": [
      "# weights:  264 (215 variable)\n",
      "initial  value 637.866371 \n",
      "iter  10 value 379.124363\n",
      "iter  20 value 291.362766\n",
      "iter  30 value 219.094997\n",
      "iter  40 value 174.407526\n",
      "iter  50 value 93.521769\n",
      "iter  60 value 36.071654\n",
      "iter  70 value 0.734846\n",
      "iter  80 value 0.004873\n",
      "final  value 0.000051 \n",
      "converged\n"
     ]
    },
    {
     "name": "stderr",
     "output_type": "stream",
     "text": [
      "acc.test.mean=0.667\n",
      "[Resample] cross-validation iter 6: "
     ]
    },
    {
     "name": "stdout",
     "output_type": "stream",
     "text": [
      "# weights:  264 (215 variable)\n",
      "initial  value 636.074612 \n",
      "iter  10 value 343.948041\n",
      "iter  20 value 279.205560\n",
      "iter  30 value 209.744455\n",
      "iter  40 value 155.781971\n",
      "iter  50 value 62.844886\n",
      "iter  60 value 10.661585\n",
      "iter  70 value 0.077570\n",
      "iter  80 value 0.000266\n",
      "final  value 0.000068 \n",
      "converged\n"
     ]
    },
    {
     "name": "stderr",
     "output_type": "stream",
     "text": [
      "acc.test.mean= 0.7\n",
      "[Resample] cross-validation iter 7: "
     ]
    },
    {
     "name": "stdout",
     "output_type": "stream",
     "text": [
      "# weights:  264 (215 variable)\n",
      "initial  value 636.074612 \n",
      "iter  10 value 386.872777\n",
      "iter  20 value 282.736610\n",
      "iter  30 value 205.821178\n",
      "iter  40 value 154.093327\n",
      "iter  50 value 65.699362\n",
      "iter  60 value 7.382167\n",
      "iter  70 value 0.054350\n",
      "iter  80 value 0.000300\n",
      "final  value 0.000079 \n",
      "converged\n"
     ]
    },
    {
     "name": "stderr",
     "output_type": "stream",
     "text": [
      "acc.test.mean= 0.6\n",
      "[Resample] cross-validation iter 8: "
     ]
    },
    {
     "name": "stdout",
     "output_type": "stream",
     "text": [
      "# weights:  264 (215 variable)\n",
      "initial  value 637.866371 \n",
      "iter  10 value 365.571138\n",
      "iter  20 value 283.567340\n",
      "iter  30 value 220.132387\n",
      "iter  40 value 166.555510\n",
      "iter  50 value 87.827494\n",
      "iter  60 value 26.205855\n",
      "iter  70 value 0.211641\n",
      "iter  80 value 0.003192\n",
      "final  value 0.000050 \n",
      "converged\n"
     ]
    },
    {
     "name": "stderr",
     "output_type": "stream",
     "text": [
      "acc.test.mean=0.667\n",
      "[Resample] cross-validation iter 9: "
     ]
    },
    {
     "name": "stdout",
     "output_type": "stream",
     "text": [
      "# weights:  264 (215 variable)\n",
      "initial  value 637.866371 \n",
      "iter  10 value 353.072757\n",
      "iter  20 value 276.059962\n",
      "iter  30 value 208.934043\n",
      "iter  40 value 157.807834\n",
      "iter  50 value 71.797932\n",
      "iter  60 value 11.474516\n",
      "iter  70 value 0.260698\n",
      "iter  80 value 0.002094\n",
      "final  value 0.000065 \n",
      "converged\n"
     ]
    },
    {
     "name": "stderr",
     "output_type": "stream",
     "text": [
      "acc.test.mean=0.59\n",
      "[Resample] cross-validation iter 10: "
     ]
    },
    {
     "name": "stdout",
     "output_type": "stream",
     "text": [
      "# weights:  264 (215 variable)\n",
      "initial  value 637.866371 \n",
      "iter  10 value 390.203186\n",
      "iter  20 value 309.922523\n",
      "iter  30 value 217.539178\n",
      "iter  40 value 165.097490\n",
      "iter  50 value 82.766890\n",
      "iter  60 value 22.051684\n",
      "iter  70 value 0.115651\n",
      "iter  80 value 0.000527\n",
      "final  value 0.000073 \n",
      "converged\n"
     ]
    },
    {
     "name": "stderr",
     "output_type": "stream",
     "text": [
      "acc.test.mean=0.615\n",
      "[Resample] Aggr. Result: acc.test.mean=0.663\n"
     ]
    },
    {
     "data": {
      "text/plain": [
       "Resample Result\n",
       "Task: student\n",
       "Learner: classif.multinom\n",
       "Aggr perf: acc.test.mean=0.663\n",
       "Runtime: 2.7573"
      ]
     },
     "metadata": {},
     "output_type": "display_data"
    }
   ],
   "source": [
    "# Set up cross-validation\n",
    "rdesc = makeResampleDesc(\"CV\", iters=10)\n",
    "\n",
    "# Define the model\n",
    "lnr_logreg <- makeLearner(\"classif.multinom\", predict.type=\"prob\", fix.factors.prediction=T)\n",
    "\n",
    "# Define the model\n",
    "task_logreg <- makeClassifTask(id=\"student\", data=student, target=\"final_grade\")\n",
    "\n",
    "# Run the k-fold CV\n",
    "resample(lnr_logreg, task_logreg, rdesc, measures=list(acc))"
   ]
  },
  {
   "cell_type": "markdown",
   "metadata": {},
   "source": [
    "**Test Linear Discriminant Analysis (LDA) model, 10-fold CV**"
   ]
  },
  {
   "cell_type": "code",
   "execution_count": 7,
   "metadata": {},
   "outputs": [
    {
     "name": "stderr",
     "output_type": "stream",
     "text": [
      "[Resample] cross-validation iter 1: acc.test.mean=0.538\n",
      "[Resample] cross-validation iter 2: acc.test.mean=0.718\n",
      "[Resample] cross-validation iter 3: acc.test.mean=0.675\n",
      "[Resample] cross-validation iter 4: acc.test.mean=0.725\n",
      "[Resample] cross-validation iter 5: acc.test.mean=0.795\n",
      "[Resample] cross-validation iter 6: acc.test.mean= 0.5\n",
      "[Resample] cross-validation iter 7: acc.test.mean=0.875\n",
      "[Resample] cross-validation iter 8: acc.test.mean= 0.7\n",
      "[Resample] cross-validation iter 9: acc.test.mean=0.641\n",
      "[Resample] cross-validation iter 10: acc.test.mean=0.692\n",
      "[Resample] Aggr. Result: acc.test.mean=0.686\n"
     ]
    },
    {
     "data": {
      "text/plain": [
       "Resample Result\n",
       "Task: student\n",
       "Learner: classif.lda\n",
       "Aggr perf: acc.test.mean=0.686\n",
       "Runtime: 0.543502"
      ]
     },
     "metadata": {},
     "output_type": "display_data"
    }
   ],
   "source": [
    "# Set up cross-validation\n",
    "rdesc = makeResampleDesc(\"CV\", iters=10)\n",
    "\n",
    "# Define the model\n",
    "lnr_lda <- makeLearner(\"classif.lda\", predict.type=\"prob\", fix.factors.prediction=T)\n",
    "\n",
    "# Define the model\n",
    "task_logreg <- makeClassifTask(id=\"student\", data=student, target=\"final_grade\")\n",
    "\n",
    "# Run the k-fold CV\n",
    "resample(lnr_lda, task_logreg, rdesc, measures=list(acc))"
   ]
  },
  {
   "cell_type": "markdown",
   "metadata": {},
   "source": [
    "**Test Quadratic Discriminant Analysis (QDA) model, 10-fold CV**"
   ]
  },
  {
   "cell_type": "code",
   "execution_count": 12,
   "metadata": {},
   "outputs": [
    {
     "name": "stderr",
     "output_type": "stream",
     "text": [
      "[Resample] cross-validation iter 1: "
     ]
    },
    {
     "ename": "ERROR",
     "evalue": "Error in qda.default(x, grouping, ...): some group is too small for 'qda'\n",
     "output_type": "error",
     "traceback": [
      "Error in qda.default(x, grouping, ...): some group is too small for 'qda'\nTraceback:\n",
      "1. resample(lnr_qda, task_logreg, rdesc, measures = list(acc))",
      "2. parallelMap(doResampleIteration, seq_len(rin$desc$iters), level = \"mlr.resample\", \n .     more.args = more.args)",
      "3. mapply(fun2, ..., MoreArgs = more.args, SIMPLIFY = FALSE, USE.NAMES = FALSE)",
      "4. (function (learner, task, rin, i, measures, weights, model, extract, \n .     show.info) \n . {\n .     setSlaveOptions()\n .     if (show.info) \n .         messagef(\"[Resample] %s iter %i: \", rin$desc$id, i, .newline = FALSE)\n .     train.i = rin$train.inds[[i]]\n .     test.i = rin$test.inds[[i]]\n .     calculateResampleIterationResult(learner = learner, task = task, \n .         train.i = train.i, test.i = test.i, measures = measures, \n .         weights = weights, rdesc = rin$desc, model = model, extract = extract, \n .         show.info = show.info)\n . })(dots[[1L]][[1L]], learner = structure(list(id = \"classif.qda\", \n .     type = \"classif\", package = \"MASS\", properties = c(\"twoclass\", \n .     \"multiclass\", \"numerics\", \"factors\", \"prob\"), par.set = structure(list(\n .         pars = structure(list(method = structure(list(id = \"method\", \n .             type = \"discrete\", len = 1L, lower = NULL, upper = NULL, \n .             values = structure(list(moment = \"moment\", mle = \"mle\", \n .                 mve = \"mve\", t = \"t\"), .Names = c(\"moment\", \"mle\", \n .             \"mve\", \"t\")), cnames = NULL, allow.inf = FALSE, has.default = TRUE, \n .             default = \"moment\", trafo = NULL, requires = NULL, \n .             tunable = TRUE, special.vals = list(), when = \"train\"), .Names = c(\"id\", \n .         \"type\", \"len\", \"lower\", \"upper\", \"values\", \"cnames\", \n .         \"allow.inf\", \"has.default\", \"default\", \"trafo\", \"requires\", \n .         \"tunable\", \"special.vals\", \"when\"), class = c(\"LearnerParam\", \n .         \"Param\")), nu = structure(list(id = \"nu\", type = \"numeric\", \n .             len = 1L, lower = 2, upper = Inf, values = NULL, \n .             cnames = NULL, allow.inf = FALSE, has.default = TRUE, \n .             default = 5, trafo = NULL, requires = method == \"t\", \n .             tunable = TRUE, special.vals = list(), when = \"train\"), .Names = c(\"id\", \n .         \"type\", \"len\", \"lower\", \"upper\", \"values\", \"cnames\", \n .         \"allow.inf\", \"has.default\", \"default\", \"trafo\", \"requires\", \n .         \"tunable\", \"special.vals\", \"when\"), class = c(\"LearnerParam\", \n .         \"Param\")), predict.method = structure(list(id = \"predict.method\", \n .             type = \"discrete\", len = 1L, lower = NULL, upper = NULL, \n .             values = structure(list(`plug-in` = \"plug-in\", predictive = \"predictive\", \n .                 debiased = \"debiased\"), .Names = c(\"plug-in\", \n .             \"predictive\", \"debiased\")), cnames = NULL, allow.inf = FALSE, \n .             has.default = TRUE, default = \"plug-in\", trafo = NULL, \n .             requires = NULL, tunable = TRUE, special.vals = list(), \n .             when = \"predict\"), .Names = c(\"id\", \"type\", \"len\", \n .         \"lower\", \"upper\", \"values\", \"cnames\", \"allow.inf\", \"has.default\", \n .         \"default\", \"trafo\", \"requires\", \"tunable\", \"special.vals\", \n .         \"when\"), class = c(\"LearnerParam\", \"Param\"))), .Names = c(\"method\", \n .         \"nu\", \"predict.method\")), forbidden = NULL), .Names = c(\"pars\", \n .     \"forbidden\"), class = c(\"LearnerParamSet\", \"ParamSet\")), \n .     par.vals = structure(list(), .Names = character(0)), predict.type = \"prob\", \n .     name = \"Quadratic Discriminant Analysis\", short.name = \"qda\", \n .     note = \"Learner parameter `predict.method` maps to `method` in `predict.qda`.\", \n .     config = list(), fix.factors.prediction = TRUE), .Names = c(\"id\", \n . \"type\", \"package\", \"properties\", \"par.set\", \"par.vals\", \"predict.type\", \n . \"name\", \"short.name\", \"note\", \"config\", \"fix.factors.prediction\"\n . ), class = c(\"classif.qda\", \"RLearnerClassif\", \"RLearner\", \"Learner\"\n . )), task = structure(list(type = \"classif\", env = <environment>, \n .     weights = NULL, blocking = NULL, task.desc = structure(list(\n .         id = \"student\", type = \"classif\", target = \"final_grade\", \n .         size = 395L, n.feat = structure(c(16L, 17L, 0L), .Names = c(\"numerics\", \n .         \"factors\", \"ordered\")), has.missings = FALSE, has.weights = FALSE, \n .         has.blocking = FALSE, class.levels = c(\"A\", \"A-\", \"B\", \n .         \"B+\", \"C\", \"F\"), positive = NA_character_, negative = NA_character_), .Names = c(\"id\", \n .     \"type\", \"target\", \"size\", \"n.feat\", \"has.missings\", \"has.weights\", \n .     \"has.blocking\", \"class.levels\", \"positive\", \"negative\"), class = c(\"ClassifTaskDesc\", \n .     \"SupervisedTaskDesc\", \"TaskDesc\"))), .Names = c(\"type\", \"env\", \n . \"weights\", \"blocking\", \"task.desc\"), class = c(\"ClassifTask\", \n . \"SupervisedTask\", \"Task\")), rin = structure(list(desc = structure(list(\n .     id = \"cross-validation\", iters = 10L, predict = \"test\", stratify = FALSE), .Names = c(\"id\", \n . \"iters\", \"predict\", \"stratify\"), class = c(\"CVDesc\", \"ResampleDesc\"\n . )), size = 395L, train.inds = list(c(190L, 249L, 153L, 94L, 196L, \n . 390L, 92L, 156L, 58L, 22L, 328L, 118L, 385L, 346L, 229L, 201L, \n . 273L, 115L, 44L, 308L, 135L, 381L, 254L, 307L, 49L, 225L, 78L, \n . 360L, 209L, 243L, 90L, 31L, 15L, 104L, 96L, 121L, 71L, 279L, \n . 223L, 133L, 234L, 286L, 182L, 93L, 166L, 378L, 3L, 332L, 47L, \n . 344L, 265L, 63L, 376L, 238L, 373L, 32L, 24L, 324L, 84L, 287L, \n . 52L, 11L, 263L, 34L, 13L, 313L, 253L, 191L, 210L, 59L, 60L, 315L, \n . 144L, 240L, 298L, 42L, 161L, 45L, 352L, 197L, 316L, 167L, 43L, \n . 232L, 237L, 2L, 276L, 272L, 172L, 149L, 304L, 211L, 66L, 322L, \n . 131L, 17L, 283L, 362L, 159L, 8L, 242L, 255L, 245L, 199L, 1L, \n . 136L, 380L, 124L, 100L, 29L, 87L, 355L, 288L, 394L, 336L, 228L, \n . 5L, 35L, 127L, 200L, 334L, 69L, 145L, 231L, 113L, 350L, 80L, \n . 257L, 53L, 309L, 284L, 296L, 226L, 214L, 377L, 28L, 383L, 338L, \n . 155L, 318L, 379L, 365L, 285L, 235L, 295L, 129L, 213L, 107L, 274L, \n . 89L, 310L, 340L, 299L, 203L, 282L, 230L, 27L, 244L, 150L, 9L, \n . 25L, 188L, 10L, 250L, 275L, 33L, 14L, 111L, 335L, 119L, 205L, \n . 81L, 138L, 112L, 256L, 142L, 187L, 194L, 264L, 227L, 95L, 326L, \n . 289L, 345L, 382L, 189L, 56L, 98L, 97L, 341L, 88L, 179L, 55L, \n . 151L, 75L, 164L, 371L, 337L, 184L, 170L, 174L, 290L, 349L, 46L, \n . 117L, 270L, 125L, 19L, 4L, 82L, 120L, 333L, 162L, 267L, 177L, \n . 74L, 325L, 181L, 222L, 7L, 72L, 192L, 370L, 50L, 389L, 311L, \n . 384L, 269L, 241L, 12L, 356L, 314L, 158L, 85L, 351L, 116L, 103L, \n . 321L, 48L, 258L, 171L, 212L, 152L, 207L, 193L, 79L, 106L, 216L, \n . 236L, 233L, 6L, 57L, 392L, 368L, 388L, 217L, 83L, 391L, 395L, \n . 154L, 294L, 65L, 375L, 173L, 281L, 271L, 141L, 364L, 91L, 319L, \n . 386L, 251L, 122L, 169L, 343L, 68L, 359L, 73L, 64L, 327L, 221L, \n . 374L, 301L, 51L, 132L, 185L, 306L, 280L, 369L, 36L, 305L, 126L, \n . 140L, 39L, 41L, 123L, 268L, 20L, 165L, 329L, 317L, 302L, 357L, \n . 366L, 204L, 176L, 70L, 18L, 339L, 220L, 393L, 160L, 109L, 277L, \n . 148L, 168L, 105L, 180L, 110L, 297L, 208L, 99L, 186L, 175L, 38L, \n . 26L, 137L, 387L, 86L, 40L, 16L, 239L, 61L, 372L, 183L, 293L, \n . 37L, 146L, 54L, 342L, 134L, 67L, 354L, 246L, 348L, 21L, 358L, \n . 130L, 147L, 353L, 62L, 108L, 261L, 266L, 143L, 320L), c(190L, \n . 249L, 153L, 218L, 94L, 196L, 202L, 390L, 92L, 156L, 58L, 22L, \n . 328L, 118L, 331L, 385L, 346L, 229L, 201L, 273L, 115L, 44L, 308L, \n . 135L, 381L, 307L, 49L, 225L, 78L, 209L, 243L, 90L, 31L, 15L, \n . 104L, 96L, 224L, 121L, 71L, 279L, 223L, 234L, 286L, 182L, 93L, \n . 247L, 166L, 378L, 3L, 332L, 47L, 344L, 63L, 198L, 376L, 238L, \n . 32L, 24L, 324L, 287L, 11L, 263L, 13L, 313L, 253L, 206L, 191L, \n . 210L, 59L, 60L, 315L, 144L, 240L, 298L, 42L, 161L, 45L, 352L, \n . 197L, 316L, 167L, 232L, 237L, 262L, 2L, 276L, 272L, 172L, 304L, \n . 211L, 66L, 131L, 17L, 283L, 362L, 159L, 8L, 242L, 245L, 199L, \n . 219L, 1L, 291L, 136L, 380L, 124L, 100L, 29L, 30L, 87L, 355L, \n . 288L, 394L, 336L, 228L, 5L, 35L, 127L, 200L, 334L, 69L, 231L, \n . 248L, 350L, 80L, 257L, 53L, 309L, 284L, 296L, 214L, 377L, 383L, \n . 338L, 155L, 318L, 379L, 365L, 285L, 235L, 295L, 129L, 76L, 213L, \n . 107L, 260L, 274L, 89L, 340L, 203L, 230L, 244L, 150L, 188L, 10L, \n . 250L, 275L, 33L, 300L, 14L, 111L, 335L, 119L, 205L, 81L, 138L, \n . 112L, 303L, 256L, 142L, 187L, 194L, 264L, 227L, 95L, 326L, 289L, \n . 312L, 363L, 345L, 101L, 178L, 382L, 189L, 56L, 98L, 97L, 88L, \n . 179L, 55L, 151L, 75L, 164L, 371L, 163L, 337L, 170L, 174L, 290L, \n . 349L, 46L, 117L, 270L, 195L, 125L, 19L, 361L, 4L, 82L, 120L, \n . 162L, 267L, 177L, 74L, 325L, 181L, 222L, 7L, 192L, 370L, 50L, \n . 389L, 384L, 269L, 241L, 12L, 356L, 314L, 158L, 85L, 351L, 116L, \n . 139L, 103L, 321L, 48L, 258L, 171L, 212L, 152L, 207L, 323L, 193L, \n . 79L, 106L, 216L, 236L, 233L, 6L, 57L, 392L, 368L, 388L, 217L, \n . 83L, 278L, 395L, 154L, 294L, 102L, 65L, 375L, 173L, 281L, 141L, \n . 364L, 91L, 319L, 386L, 23L, 122L, 169L, 343L, 68L, 359L, 73L, \n . 64L, 327L, 114L, 347L, 374L, 301L, 51L, 132L, 306L, 369L, 36L, \n . 305L, 126L, 140L, 39L, 41L, 123L, 268L, 20L, 165L, 329L, 302L, \n . 128L, 357L, 366L, 330L, 204L, 77L, 215L, 176L, 70L, 18L, 339L, \n . 367L, 220L, 157L, 393L, 160L, 109L, 277L, 148L, 168L, 105L, 180L, \n . 110L, 297L, 99L, 186L, 175L, 38L, 26L, 137L, 387L, 252L, 292L, \n . 40L, 16L, 239L, 372L, 183L, 293L, 146L, 54L, 342L, 134L, 67L, \n . 246L, 348L, 21L, 358L, 130L, 147L, 353L, 62L, 108L, 261L, 143L, \n . 259L, 320L), c(249L, 153L, 218L, 94L, 202L, 390L, 92L, 58L, 22L, \n . 328L, 118L, 331L, 385L, 346L, 229L, 201L, 273L, 115L, 44L, 308L, \n . 135L, 381L, 254L, 307L, 49L, 225L, 78L, 360L, 209L, 90L, 31L, \n . 15L, 104L, 96L, 224L, 121L, 71L, 279L, 223L, 133L, 234L, 286L, \n . 182L, 93L, 247L, 166L, 378L, 3L, 332L, 47L, 344L, 265L, 63L, \n . 198L, 376L, 373L, 32L, 24L, 324L, 84L, 287L, 52L, 11L, 263L, \n . 34L, 13L, 313L, 253L, 206L, 191L, 210L, 59L, 60L, 315L, 144L, \n . 240L, 298L, 42L, 161L, 45L, 352L, 197L, 316L, 167L, 43L, 232L, \n . 237L, 262L, 2L, 276L, 272L, 149L, 304L, 211L, 66L, 322L, 131L, \n . 17L, 283L, 362L, 159L, 242L, 255L, 245L, 199L, 219L, 1L, 291L, \n . 136L, 380L, 124L, 100L, 29L, 30L, 288L, 394L, 5L, 35L, 127L, \n . 200L, 334L, 69L, 145L, 231L, 113L, 248L, 350L, 80L, 257L, 53L, \n . 309L, 284L, 296L, 226L, 214L, 28L, 383L, 338L, 155L, 318L, 379L, \n . 285L, 235L, 295L, 129L, 76L, 213L, 107L, 260L, 274L, 89L, 310L, \n . 340L, 299L, 203L, 282L, 230L, 27L, 150L, 9L, 25L, 188L, 10L, \n . 250L, 275L, 33L, 300L, 111L, 335L, 119L, 205L, 81L, 138L, 112L, \n . 303L, 256L, 194L, 264L, 227L, 95L, 289L, 312L, 363L, 101L, 178L, \n . 382L, 189L, 56L, 98L, 97L, 341L, 88L, 179L, 55L, 151L, 75L, 164L, \n . 371L, 163L, 337L, 184L, 170L, 174L, 290L, 46L, 270L, 195L, 125L, \n . 19L, 361L, 82L, 120L, 333L, 162L, 177L, 74L, 325L, 7L, 72L, 192L, \n . 370L, 50L, 389L, 311L, 384L, 269L, 12L, 356L, 314L, 158L, 85L, \n . 351L, 116L, 139L, 103L, 321L, 48L, 258L, 171L, 212L, 152L, 207L, \n . 323L, 193L, 79L, 106L, 216L, 236L, 233L, 6L, 57L, 392L, 368L, \n . 217L, 83L, 278L, 391L, 395L, 154L, 294L, 102L, 375L, 173L, 281L, \n . 271L, 141L, 364L, 91L, 319L, 386L, 251L, 23L, 169L, 343L, 68L, \n . 359L, 73L, 64L, 327L, 221L, 114L, 347L, 374L, 301L, 51L, 132L, \n . 185L, 306L, 280L, 369L, 36L, 305L, 126L, 140L, 39L, 41L, 123L, \n . 20L, 165L, 317L, 302L, 128L, 357L, 366L, 330L, 204L, 77L, 215L, \n . 176L, 70L, 18L, 339L, 367L, 220L, 157L, 393L, 160L, 109L, 277L, \n . 148L, 168L, 180L, 110L, 297L, 208L, 99L, 186L, 38L, 26L, 387L, \n . 86L, 252L, 292L, 40L, 16L, 61L, 372L, 293L, 37L, 146L, 54L, 342L, \n . 134L, 67L, 354L, 348L, 21L, 358L, 130L, 353L, 62L, 108L, 261L, \n . 266L, 259L, 320L), c(190L, 249L, 153L, 218L, 94L, 196L, 202L, \n . 390L, 92L, 156L, 58L, 328L, 118L, 331L, 385L, 346L, 229L, 201L, \n . 273L, 115L, 44L, 308L, 135L, 381L, 254L, 307L, 49L, 225L, 78L, \n . 360L, 209L, 243L, 90L, 31L, 15L, 104L, 96L, 224L, 121L, 71L, \n . 279L, 223L, 133L, 234L, 286L, 247L, 166L, 378L, 3L, 332L, 47L, \n . 344L, 265L, 198L, 376L, 238L, 373L, 84L, 52L, 34L, 13L, 206L, \n . 191L, 210L, 59L, 315L, 144L, 240L, 298L, 42L, 161L, 45L, 352L, \n . 197L, 316L, 167L, 43L, 237L, 262L, 276L, 272L, 172L, 149L, 304L, \n . 211L, 66L, 322L, 131L, 17L, 283L, 362L, 159L, 8L, 242L, 255L, \n . 245L, 219L, 1L, 291L, 136L, 380L, 100L, 29L, 30L, 87L, 355L, \n . 288L, 394L, 336L, 228L, 5L, 35L, 127L, 200L, 334L, 69L, 145L, \n . 113L, 248L, 350L, 80L, 53L, 309L, 284L, 296L, 226L, 214L, 377L, \n . 28L, 383L, 338L, 155L, 318L, 379L, 365L, 285L, 235L, 295L, 76L, \n . 213L, 107L, 260L, 274L, 89L, 310L, 340L, 299L, 203L, 282L, 230L, \n . 27L, 244L, 150L, 9L, 25L, 188L, 10L, 250L, 275L, 33L, 300L, 14L, \n . 111L, 119L, 205L, 81L, 112L, 303L, 256L, 142L, 187L, 194L, 264L, \n . 227L, 95L, 326L, 312L, 363L, 345L, 101L, 178L, 382L, 189L, 98L, \n . 341L, 88L, 179L, 55L, 75L, 164L, 371L, 163L, 337L, 184L, 170L, \n . 174L, 290L, 349L, 46L, 117L, 270L, 195L, 125L, 19L, 361L, 4L, \n . 82L, 333L, 162L, 267L, 177L, 74L, 325L, 181L, 222L, 72L, 192L, \n . 370L, 50L, 389L, 311L, 384L, 269L, 241L, 356L, 314L, 158L, 85L, \n . 351L, 116L, 139L, 103L, 321L, 48L, 258L, 171L, 212L, 152L, 207L, \n . 323L, 193L, 79L, 106L, 236L, 233L, 6L, 57L, 392L, 388L, 217L, \n . 83L, 278L, 391L, 395L, 154L, 294L, 102L, 65L, 375L, 173L, 281L, \n . 271L, 364L, 91L, 319L, 251L, 23L, 122L, 68L, 359L, 73L, 327L, \n . 221L, 114L, 347L, 374L, 301L, 51L, 132L, 185L, 306L, 280L, 369L, \n . 36L, 305L, 126L, 140L, 39L, 41L, 123L, 268L, 20L, 165L, 329L, \n . 317L, 302L, 128L, 357L, 366L, 330L, 204L, 77L, 215L, 176L, 70L, \n . 18L, 339L, 367L, 157L, 160L, 109L, 277L, 148L, 168L, 105L, 180L, \n . 110L, 297L, 208L, 99L, 186L, 175L, 38L, 26L, 137L, 387L, 86L, \n . 252L, 292L, 40L, 239L, 61L, 372L, 183L, 293L, 37L, 146L, 54L, \n . 134L, 67L, 354L, 246L, 348L, 21L, 358L, 130L, 147L, 353L, 62L, \n . 108L, 261L, 266L, 143L, 259L, 320L), c(190L, 153L, 218L, 94L, \n . 196L, 202L, 390L, 92L, 156L, 58L, 22L, 328L, 331L, 385L, 346L, \n . 229L, 201L, 44L, 308L, 135L, 381L, 254L, 307L, 49L, 78L, 360L, \n . 209L, 243L, 90L, 15L, 104L, 224L, 121L, 71L, 279L, 223L, 133L, \n . 234L, 286L, 182L, 93L, 247L, 166L, 378L, 332L, 344L, 265L, 63L, \n . 198L, 376L, 238L, 373L, 32L, 24L, 324L, 84L, 287L, 52L, 11L, \n . 263L, 34L, 13L, 313L, 253L, 206L, 59L, 60L, 315L, 144L, 298L, \n . 42L, 161L, 45L, 352L, 197L, 167L, 43L, 232L, 237L, 262L, 2L, \n . 276L, 272L, 172L, 149L, 304L, 66L, 322L, 131L, 17L, 283L, 362L, \n . 159L, 8L, 242L, 255L, 245L, 199L, 219L, 1L, 291L, 136L, 380L, \n . 124L, 100L, 29L, 30L, 87L, 355L, 288L, 336L, 228L, 5L, 35L, 127L, \n . 200L, 334L, 145L, 231L, 113L, 248L, 350L, 80L, 257L, 53L, 309L, \n . 296L, 226L, 214L, 377L, 28L, 383L, 338L, 155L, 318L, 379L, 365L, \n . 285L, 235L, 129L, 76L, 213L, 107L, 260L, 274L, 310L, 340L, 299L, \n . 203L, 282L, 230L, 27L, 244L, 150L, 9L, 25L, 188L, 250L, 275L, \n . 33L, 300L, 14L, 111L, 335L, 119L, 205L, 81L, 138L, 112L, 303L, \n . 256L, 142L, 187L, 194L, 227L, 95L, 326L, 289L, 312L, 363L, 345L, \n . 101L, 178L, 382L, 189L, 56L, 97L, 341L, 88L, 179L, 55L, 151L, \n . 75L, 164L, 371L, 163L, 337L, 184L, 170L, 174L, 290L, 349L, 117L, \n . 195L, 125L, 361L, 4L, 82L, 120L, 333L, 162L, 267L, 177L, 74L, \n . 325L, 181L, 222L, 7L, 72L, 370L, 389L, 311L, 269L, 241L, 12L, \n . 356L, 314L, 158L, 85L, 116L, 139L, 103L, 48L, 171L, 212L, 152L, \n . 323L, 193L, 106L, 216L, 236L, 233L, 6L, 57L, 392L, 368L, 388L, \n . 217L, 83L, 278L, 391L, 395L, 154L, 294L, 102L, 65L, 375L, 173L, \n . 281L, 271L, 141L, 364L, 91L, 319L, 386L, 251L, 23L, 122L, 169L, \n . 343L, 68L, 359L, 73L, 64L, 327L, 221L, 114L, 347L, 374L, 301L, \n . 51L, 132L, 185L, 280L, 369L, 36L, 305L, 126L, 140L, 39L, 41L, \n . 123L, 268L, 20L, 329L, 317L, 302L, 128L, 357L, 366L, 330L, 204L, \n . 77L, 215L, 70L, 18L, 339L, 367L, 220L, 157L, 393L, 160L, 109L, \n . 277L, 148L, 168L, 105L, 180L, 297L, 208L, 99L, 186L, 175L, 38L, \n . 26L, 137L, 387L, 86L, 252L, 292L, 40L, 16L, 239L, 61L, 372L, \n . 183L, 293L, 37L, 146L, 54L, 342L, 134L, 67L, 354L, 246L, 348L, \n . 21L, 358L, 130L, 147L, 353L, 261L, 266L, 143L, 259L), c(190L, \n . 249L, 218L, 196L, 202L, 390L, 156L, 22L, 328L, 118L, 331L, 385L, \n . 229L, 201L, 273L, 115L, 308L, 135L, 381L, 254L, 307L, 49L, 225L, \n . 78L, 360L, 243L, 90L, 31L, 15L, 104L, 96L, 224L, 121L, 71L, 279L, \n . 223L, 133L, 234L, 182L, 93L, 247L, 378L, 3L, 332L, 47L, 344L, \n . 265L, 63L, 198L, 238L, 373L, 32L, 24L, 324L, 84L, 287L, 52L, \n . 11L, 263L, 34L, 13L, 313L, 253L, 206L, 191L, 210L, 59L, 60L, \n . 315L, 144L, 240L, 42L, 161L, 45L, 352L, 316L, 43L, 232L, 237L, \n . 262L, 2L, 276L, 172L, 149L, 304L, 211L, 66L, 322L, 283L, 159L, \n . 8L, 242L, 255L, 199L, 219L, 1L, 291L, 136L, 380L, 124L, 29L, \n . 30L, 87L, 355L, 288L, 394L, 336L, 228L, 5L, 35L, 127L, 200L, \n . 69L, 145L, 231L, 113L, 248L, 350L, 257L, 53L, 309L, 284L, 296L, \n . 226L, 377L, 28L, 383L, 338L, 379L, 365L, 285L, 235L, 295L, 129L, \n . 76L, 213L, 107L, 260L, 274L, 89L, 310L, 340L, 299L, 203L, 282L, \n . 230L, 27L, 244L, 150L, 9L, 25L, 188L, 10L, 250L, 33L, 300L, 14L, \n . 111L, 335L, 205L, 81L, 138L, 112L, 303L, 256L, 142L, 187L, 194L, \n . 264L, 227L, 95L, 326L, 289L, 312L, 363L, 345L, 101L, 178L, 382L, \n . 189L, 56L, 98L, 97L, 341L, 88L, 179L, 55L, 151L, 164L, 371L, \n . 163L, 337L, 184L, 174L, 349L, 46L, 117L, 270L, 195L, 125L, 19L, \n . 361L, 4L, 82L, 120L, 333L, 162L, 267L, 177L, 74L, 181L, 222L, \n . 7L, 72L, 192L, 370L, 50L, 389L, 311L, 384L, 269L, 241L, 12L, \n . 314L, 158L, 85L, 351L, 116L, 139L, 103L, 321L, 48L, 258L, 171L, \n . 212L, 152L, 207L, 323L, 193L, 79L, 106L, 216L, 236L, 233L, 6L, \n . 57L, 392L, 368L, 388L, 217L, 83L, 278L, 391L, 395L, 154L, 294L, \n . 102L, 65L, 375L, 173L, 281L, 271L, 141L, 364L, 386L, 251L, 23L, \n . 122L, 169L, 343L, 68L, 359L, 73L, 64L, 327L, 221L, 114L, 347L, \n . 301L, 51L, 132L, 185L, 306L, 280L, 369L, 36L, 305L, 126L, 140L, \n . 39L, 41L, 123L, 268L, 20L, 165L, 329L, 317L, 128L, 357L, 366L, \n . 330L, 204L, 77L, 215L, 176L, 70L, 18L, 339L, 367L, 220L, 157L, \n . 393L, 160L, 109L, 277L, 168L, 105L, 180L, 110L, 208L, 99L, 186L, \n . 175L, 38L, 26L, 137L, 387L, 86L, 252L, 292L, 40L, 16L, 239L, \n . 61L, 372L, 183L, 293L, 37L, 146L, 54L, 342L, 134L, 67L, 354L, \n . 246L, 21L, 358L, 147L, 353L, 62L, 108L, 261L, 266L, 143L, 259L, \n . 320L), c(190L, 249L, 153L, 218L, 94L, 196L, 202L, 390L, 92L, \n . 156L, 58L, 22L, 328L, 118L, 331L, 385L, 346L, 229L, 201L, 273L, \n . 115L, 44L, 135L, 381L, 254L, 49L, 225L, 360L, 209L, 243L, 90L, \n . 31L, 15L, 104L, 96L, 224L, 121L, 71L, 279L, 223L, 133L, 234L, \n . 286L, 182L, 93L, 247L, 166L, 3L, 47L, 344L, 265L, 63L, 198L, \n . 376L, 238L, 373L, 32L, 24L, 324L, 84L, 287L, 52L, 11L, 263L, \n . 34L, 13L, 313L, 253L, 206L, 191L, 210L, 59L, 60L, 315L, 240L, \n . 298L, 161L, 45L, 352L, 197L, 316L, 167L, 43L, 232L, 237L, 262L, \n . 2L, 276L, 272L, 172L, 149L, 304L, 211L, 66L, 322L, 131L, 17L, \n . 362L, 159L, 8L, 255L, 245L, 199L, 219L, 1L, 291L, 136L, 380L, \n . 124L, 100L, 29L, 30L, 87L, 355L, 288L, 394L, 336L, 228L, 35L, \n . 127L, 334L, 69L, 145L, 231L, 113L, 248L, 350L, 80L, 257L, 53L, \n . 309L, 284L, 226L, 214L, 377L, 28L, 155L, 318L, 379L, 365L, 285L, \n . 235L, 295L, 129L, 76L, 107L, 260L, 274L, 89L, 310L, 340L, 299L, \n . 203L, 282L, 230L, 27L, 244L, 9L, 25L, 188L, 10L, 250L, 275L, \n . 300L, 14L, 111L, 335L, 119L, 138L, 112L, 303L, 142L, 187L, 194L, \n . 264L, 227L, 95L, 326L, 289L, 312L, 363L, 345L, 101L, 178L, 382L, \n . 189L, 56L, 98L, 97L, 341L, 179L, 151L, 75L, 164L, 371L, 163L, \n . 184L, 170L, 174L, 290L, 349L, 46L, 117L, 270L, 195L, 125L, 19L, \n . 361L, 4L, 82L, 120L, 333L, 162L, 267L, 177L, 325L, 181L, 222L, \n . 7L, 72L, 192L, 370L, 50L, 389L, 311L, 384L, 269L, 241L, 12L, \n . 356L, 314L, 158L, 85L, 351L, 139L, 103L, 321L, 48L, 258L, 171L, \n . 212L, 152L, 207L, 323L, 193L, 79L, 106L, 216L, 236L, 6L, 57L, \n . 392L, 368L, 388L, 217L, 278L, 391L, 395L, 154L, 102L, 65L, 281L, \n . 271L, 141L, 364L, 91L, 319L, 386L, 251L, 23L, 122L, 169L, 343L, \n . 68L, 359L, 64L, 327L, 221L, 114L, 347L, 374L, 132L, 185L, 306L, \n . 280L, 369L, 36L, 305L, 126L, 140L, 39L, 41L, 123L, 268L, 165L, \n . 329L, 317L, 302L, 128L, 357L, 366L, 330L, 204L, 77L, 215L, 176L, \n . 70L, 367L, 220L, 157L, 393L, 160L, 109L, 277L, 148L, 168L, 105L, \n . 180L, 110L, 297L, 208L, 99L, 186L, 175L, 26L, 137L, 387L, 86L, \n . 252L, 292L, 40L, 16L, 239L, 61L, 372L, 183L, 293L, 37L, 342L, \n . 134L, 67L, 354L, 246L, 348L, 21L, 358L, 130L, 147L, 353L, 62L, \n . 108L, 261L, 266L, 143L, 259L, 320L), c(190L, 249L, 153L, 218L, \n . 94L, 196L, 202L, 92L, 156L, 58L, 22L, 328L, 118L, 331L, 385L, \n . 346L, 229L, 273L, 115L, 44L, 308L, 381L, 254L, 307L, 49L, 225L, \n . 78L, 360L, 209L, 243L, 90L, 31L, 15L, 96L, 224L, 71L, 133L, 286L, \n . 182L, 93L, 247L, 166L, 378L, 3L, 332L, 47L, 265L, 63L, 198L, \n . 376L, 238L, 373L, 32L, 24L, 324L, 84L, 287L, 52L, 11L, 263L, \n . 34L, 13L, 313L, 253L, 206L, 191L, 210L, 59L, 60L, 144L, 240L, \n . 298L, 42L, 161L, 45L, 352L, 197L, 316L, 167L, 43L, 232L, 237L, \n . 262L, 2L, 276L, 272L, 172L, 149L, 211L, 66L, 322L, 131L, 17L, \n . 283L, 362L, 159L, 8L, 242L, 255L, 245L, 199L, 219L, 1L, 291L, \n . 136L, 124L, 100L, 29L, 30L, 87L, 355L, 288L, 394L, 336L, 228L, \n . 5L, 35L, 127L, 200L, 334L, 69L, 145L, 231L, 113L, 248L, 350L, \n . 80L, 257L, 309L, 284L, 296L, 226L, 214L, 377L, 28L, 383L, 338L, \n . 155L, 318L, 379L, 365L, 235L, 295L, 129L, 76L, 213L, 107L, 260L, \n . 274L, 89L, 310L, 340L, 299L, 282L, 230L, 27L, 244L, 150L, 9L, \n . 25L, 188L, 10L, 250L, 275L, 33L, 300L, 14L, 335L, 119L, 205L, \n . 81L, 138L, 303L, 256L, 142L, 187L, 194L, 264L, 95L, 326L, 289L, \n . 312L, 363L, 345L, 101L, 178L, 189L, 56L, 98L, 97L, 341L, 88L, \n . 55L, 151L, 75L, 164L, 371L, 163L, 337L, 184L, 170L, 174L, 290L, \n . 349L, 46L, 117L, 270L, 195L, 125L, 19L, 361L, 4L, 120L, 333L, \n . 162L, 267L, 74L, 325L, 181L, 222L, 7L, 72L, 192L, 370L, 50L, \n . 389L, 311L, 384L, 269L, 241L, 12L, 356L, 314L, 158L, 85L, 351L, \n . 116L, 139L, 321L, 48L, 258L, 171L, 212L, 207L, 323L, 193L, 79L, \n . 106L, 216L, 233L, 57L, 368L, 388L, 83L, 278L, 391L, 395L, 154L, \n . 294L, 102L, 65L, 375L, 173L, 281L, 271L, 141L, 91L, 319L, 386L, \n . 251L, 23L, 122L, 169L, 343L, 359L, 73L, 64L, 221L, 114L, 347L, \n . 374L, 301L, 51L, 132L, 185L, 306L, 280L, 369L, 36L, 305L, 126L, \n . 140L, 39L, 41L, 123L, 268L, 20L, 165L, 329L, 317L, 302L, 128L, \n . 330L, 204L, 77L, 215L, 176L, 18L, 339L, 367L, 220L, 157L, 393L, \n . 160L, 109L, 277L, 148L, 105L, 180L, 110L, 297L, 208L, 175L, 38L, \n . 26L, 137L, 86L, 252L, 292L, 16L, 239L, 61L, 372L, 183L, 37L, \n . 146L, 54L, 342L, 134L, 67L, 354L, 246L, 348L, 21L, 358L, 130L, \n . 147L, 353L, 62L, 108L, 261L, 266L, 143L, 259L, 320L), c(190L, \n . 249L, 153L, 218L, 94L, 196L, 202L, 390L, 92L, 156L, 58L, 22L, \n . 328L, 118L, 331L, 385L, 346L, 229L, 201L, 273L, 115L, 44L, 308L, \n . 135L, 381L, 254L, 307L, 49L, 225L, 78L, 360L, 209L, 243L, 31L, \n . 15L, 104L, 96L, 224L, 121L, 279L, 223L, 133L, 234L, 286L, 182L, \n . 93L, 247L, 166L, 378L, 3L, 332L, 47L, 344L, 265L, 63L, 198L, \n . 376L, 238L, 373L, 32L, 24L, 324L, 84L, 287L, 52L, 11L, 263L, \n . 34L, 313L, 253L, 206L, 191L, 210L, 60L, 315L, 144L, 240L, 298L, \n . 42L, 161L, 197L, 316L, 167L, 43L, 232L, 237L, 262L, 2L, 276L, \n . 272L, 172L, 149L, 304L, 211L, 66L, 322L, 131L, 17L, 283L, 362L, \n . 159L, 8L, 242L, 255L, 245L, 199L, 219L, 1L, 291L, 380L, 124L, \n . 100L, 29L, 30L, 87L, 355L, 394L, 336L, 228L, 5L, 35L, 127L, 200L, \n . 334L, 69L, 145L, 231L, 113L, 248L, 80L, 257L, 53L, 284L, 296L, \n . 226L, 214L, 377L, 28L, 383L, 338L, 155L, 318L, 365L, 285L, 235L, \n . 295L, 129L, 76L, 213L, 260L, 89L, 310L, 340L, 299L, 203L, 282L, \n . 230L, 27L, 244L, 150L, 9L, 25L, 10L, 275L, 33L, 300L, 14L, 111L, \n . 335L, 119L, 205L, 81L, 138L, 112L, 303L, 256L, 142L, 187L, 264L, \n . 227L, 326L, 289L, 312L, 363L, 345L, 101L, 178L, 382L, 56L, 98L, \n . 97L, 341L, 88L, 179L, 55L, 151L, 75L, 164L, 371L, 163L, 337L, \n . 184L, 170L, 174L, 290L, 349L, 46L, 117L, 270L, 195L, 125L, 19L, \n . 361L, 4L, 82L, 120L, 333L, 267L, 177L, 74L, 325L, 181L, 222L, \n . 7L, 72L, 192L, 50L, 389L, 311L, 384L, 241L, 12L, 356L, 314L, \n . 85L, 351L, 116L, 139L, 103L, 321L, 258L, 152L, 207L, 323L, 79L, \n . 216L, 236L, 233L, 6L, 57L, 392L, 368L, 388L, 217L, 83L, 278L, \n . 391L, 294L, 102L, 65L, 375L, 173L, 271L, 141L, 364L, 91L, 319L, \n . 386L, 251L, 23L, 122L, 169L, 343L, 68L, 73L, 64L, 327L, 221L, \n . 114L, 347L, 374L, 301L, 51L, 132L, 185L, 306L, 280L, 369L, 126L, \n . 140L, 39L, 41L, 123L, 268L, 20L, 165L, 329L, 317L, 302L, 128L, \n . 357L, 366L, 330L, 204L, 77L, 215L, 176L, 70L, 18L, 339L, 367L, \n . 220L, 157L, 393L, 109L, 277L, 148L, 168L, 105L, 180L, 110L, 297L, \n . 208L, 99L, 186L, 175L, 38L, 137L, 387L, 86L, 252L, 292L, 40L, \n . 16L, 239L, 61L, 183L, 293L, 37L, 146L, 54L, 342L, 134L, 354L, \n . 246L, 348L, 21L, 130L, 147L, 62L, 108L, 266L, 143L, 259L, 320L\n . ), c(190L, 249L, 153L, 218L, 94L, 196L, 202L, 390L, 92L, 156L, \n . 58L, 22L, 118L, 331L, 346L, 201L, 273L, 115L, 44L, 308L, 135L, \n . 254L, 307L, 225L, 78L, 360L, 209L, 243L, 90L, 31L, 104L, 96L, \n . 224L, 121L, 71L, 279L, 223L, 133L, 234L, 286L, 182L, 93L, 247L, \n . 166L, 378L, 3L, 332L, 47L, 344L, 265L, 63L, 198L, 376L, 238L, \n . 373L, 32L, 24L, 324L, 84L, 287L, 52L, 11L, 263L, 34L, 13L, 313L, \n . 253L, 206L, 191L, 210L, 59L, 60L, 315L, 144L, 240L, 298L, 42L, \n . 45L, 352L, 197L, 316L, 167L, 43L, 232L, 262L, 2L, 272L, 172L, \n . 149L, 304L, 211L, 322L, 131L, 17L, 283L, 362L, 8L, 242L, 255L, \n . 245L, 199L, 219L, 291L, 136L, 380L, 124L, 100L, 30L, 87L, 355L, \n . 288L, 394L, 336L, 228L, 5L, 200L, 334L, 69L, 145L, 231L, 113L, \n . 248L, 350L, 80L, 257L, 53L, 309L, 284L, 296L, 226L, 214L, 377L, \n . 28L, 383L, 338L, 155L, 318L, 379L, 365L, 285L, 295L, 129L, 76L, \n . 213L, 107L, 260L, 274L, 89L, 310L, 299L, 203L, 282L, 27L, 244L, \n . 150L, 9L, 25L, 188L, 10L, 250L, 275L, 33L, 300L, 14L, 111L, 335L, \n . 119L, 205L, 81L, 138L, 112L, 303L, 256L, 142L, 187L, 194L, 264L, \n . 227L, 95L, 326L, 289L, 312L, 363L, 345L, 101L, 178L, 382L, 189L, \n . 56L, 98L, 97L, 341L, 88L, 179L, 55L, 151L, 75L, 163L, 337L, 184L, \n . 170L, 290L, 349L, 46L, 117L, 270L, 195L, 19L, 361L, 4L, 82L, \n . 120L, 333L, 162L, 267L, 177L, 74L, 325L, 181L, 222L, 7L, 72L, \n . 192L, 370L, 50L, 311L, 384L, 269L, 241L, 12L, 356L, 158L, 351L, \n . 116L, 139L, 103L, 321L, 48L, 258L, 171L, 212L, 152L, 207L, 323L, \n . 193L, 79L, 106L, 216L, 236L, 233L, 6L, 392L, 368L, 388L, 217L, \n . 83L, 278L, 391L, 395L, 154L, 294L, 102L, 65L, 375L, 173L, 281L, \n . 271L, 141L, 364L, 91L, 319L, 386L, 251L, 23L, 122L, 169L, 343L, \n . 68L, 359L, 73L, 64L, 327L, 221L, 114L, 347L, 374L, 301L, 51L, \n . 185L, 306L, 280L, 36L, 305L, 268L, 20L, 165L, 329L, 317L, 302L, \n . 128L, 357L, 366L, 330L, 77L, 215L, 176L, 70L, 18L, 339L, 367L, \n . 220L, 157L, 393L, 160L, 148L, 168L, 105L, 110L, 297L, 208L, 99L, \n . 186L, 175L, 38L, 26L, 137L, 387L, 86L, 252L, 292L, 40L, 16L, \n . 239L, 61L, 372L, 183L, 293L, 37L, 146L, 54L, 342L, 67L, 354L, \n . 246L, 348L, 358L, 130L, 147L, 353L, 62L, 108L, 261L, 266L, 143L, \n . 259L, 320L)), test.inds = list(c(23L, 30L, 76L, 77L, 101L, 102L, \n . 114L, 128L, 139L, 157L, 163L, 178L, 195L, 198L, 202L, 206L, 215L, \n . 218L, 219L, 224L, 247L, 248L, 252L, 259L, 260L, 262L, 278L, 291L, \n . 292L, 300L, 303L, 312L, 323L, 330L, 331L, 347L, 361L, 363L, 367L\n . ), c(9L, 25L, 27L, 28L, 34L, 37L, 43L, 52L, 61L, 72L, 84L, 86L, \n . 113L, 133L, 145L, 149L, 184L, 185L, 208L, 221L, 226L, 251L, 254L, \n . 255L, 265L, 266L, 271L, 280L, 282L, 299L, 310L, 311L, 317L, 322L, \n . 333L, 341L, 354L, 360L, 373L, 391L), c(4L, 8L, 14L, 65L, 87L, \n . 105L, 117L, 122L, 137L, 142L, 143L, 147L, 156L, 172L, 175L, 181L, \n . 183L, 187L, 190L, 196L, 222L, 228L, 238L, 239L, 241L, 243L, 244L, \n . 246L, 267L, 268L, 326L, 329L, 336L, 345L, 349L, 355L, 365L, 377L, \n . 388L), c(2L, 7L, 11L, 12L, 16L, 22L, 24L, 32L, 56L, 60L, 63L, \n . 64L, 93L, 97L, 120L, 124L, 129L, 138L, 141L, 151L, 169L, 182L, \n . 199L, 216L, 220L, 231L, 232L, 253L, 257L, 263L, 287L, 289L, 313L, \n . 324L, 335L, 342L, 343L, 368L, 386L, 393L), c(3L, 10L, 19L, 31L, \n . 46L, 47L, 50L, 62L, 69L, 79L, 89L, 96L, 98L, 108L, 110L, 115L, \n . 118L, 165L, 176L, 191L, 192L, 207L, 210L, 211L, 225L, 240L, 249L, \n . 258L, 264L, 270L, 273L, 284L, 295L, 306L, 316L, 320L, 321L, 351L, \n . 384L, 394L), c(17L, 44L, 58L, 75L, 80L, 91L, 92L, 94L, 100L, \n . 119L, 130L, 131L, 148L, 153L, 155L, 166L, 167L, 170L, 197L, 209L, \n . 214L, 245L, 272L, 275L, 286L, 290L, 297L, 298L, 302L, 318L, 319L, \n . 325L, 334L, 346L, 348L, 356L, 362L, 374L, 376L), c(5L, 18L, 20L, \n . 33L, 38L, 42L, 51L, 54L, 55L, 73L, 74L, 78L, 81L, 83L, 88L, 116L, \n . 144L, 146L, 150L, 173L, 200L, 205L, 213L, 233L, 242L, 256L, 283L, \n . 294L, 296L, 301L, 307L, 308L, 332L, 337L, 338L, 339L, 375L, 378L, \n . 383L), c(6L, 40L, 53L, 68L, 70L, 82L, 99L, 103L, 104L, 111L, \n . 112L, 121L, 135L, 152L, 168L, 177L, 179L, 186L, 201L, 203L, 217L, \n . 223L, 227L, 234L, 236L, 279L, 285L, 293L, 304L, 315L, 327L, 344L, \n . 357L, 364L, 366L, 380L, 382L, 387L, 390L, 392L), c(13L, 26L, \n . 36L, 45L, 48L, 59L, 67L, 71L, 90L, 95L, 106L, 107L, 136L, 154L, \n . 158L, 160L, 162L, 171L, 188L, 189L, 193L, 194L, 212L, 250L, 261L, \n . 269L, 274L, 281L, 288L, 305L, 309L, 350L, 352L, 353L, 358L, 359L, \n . 370L, 372L, 379L, 395L), c(1L, 15L, 21L, 29L, 35L, 39L, 41L, \n . 49L, 57L, 66L, 85L, 109L, 123L, 125L, 126L, 127L, 132L, 134L, \n . 140L, 159L, 161L, 164L, 174L, 180L, 204L, 229L, 230L, 235L, 237L, \n . 276L, 277L, 314L, 328L, 340L, 369L, 371L, 381L, 385L, 389L)), \n .     group = structure(integer(0), .Label = character(0), class = \"factor\")), .Names = c(\"desc\", \n . \"size\", \"train.inds\", \"test.inds\", \"group\"), class = \"ResampleInstance\"), \n .     weights = NULL, measures = list(structure(list(id = \"acc\", \n .         minimize = FALSE, properties = c(\"classif\", \"classif.multi\", \n .         \"req.pred\", \"req.truth\"), fun = function (task, model, \n .             pred, feats, extra.args) \n .         {\n .             measureACC(pred$data$truth, pred$data$response)\n .         }, extra.args = list(), best = 1, worst = 0, name = \"Accuracy\", \n .         note = \"Defined as: mean(response == truth)\", aggr = structure(list(\n .             id = \"test.mean\", name = \"Test mean\", fun = function (task, \n .                 perf.test, perf.train, measure, group, pred) \n .             mean(perf.test), properties = \"req.test\"), .Names = c(\"id\", \n .         \"name\", \"fun\", \"properties\"), class = \"Aggregation\")), .Names = c(\"id\", \n .     \"minimize\", \"properties\", \"fun\", \"extra.args\", \"best\", \"worst\", \n .     \"name\", \"note\", \"aggr\"), class = \"Measure\")), model = FALSE, \n .     extract = function (model) \n .     {\n .     }, show.info = TRUE)",
      "5. calculateResampleIterationResult(learner = learner, task = task, \n .     train.i = train.i, test.i = test.i, measures = measures, \n .     weights = weights, rdesc = rin$desc, model = model, extract = extract, \n .     show.info = show.info)",
      "6. train(learner, task, subset = train.i, weights = weights[train.i])",
      "7. measureTime(fun1({\n .     learner.model = fun2(fun3(do.call(trainLearner, pars)))\n . }))",
      "8. force(expr)",
      "9. fun1({\n .     learner.model = fun2(fun3(do.call(trainLearner, pars)))\n . })",
      "10. fun2(fun3(do.call(trainLearner, pars)))",
      "11. fun3(do.call(trainLearner, pars))",
      "12. do.call(trainLearner, pars)",
      "13. (function (.learner, .task, .subset, .weights = NULL, ...) \n  . {\n  .     UseMethod(\"trainLearner\")\n  . })(.learner = structure(list(id = \"classif.qda\", type = \"classif\", \n  .     package = \"MASS\", properties = c(\"twoclass\", \"multiclass\", \n  .     \"numerics\", \"factors\", \"prob\"), par.set = structure(list(\n  .         pars = structure(list(method = structure(list(id = \"method\", \n  .             type = \"discrete\", len = 1L, lower = NULL, upper = NULL, \n  .             values = structure(list(moment = \"moment\", mle = \"mle\", \n  .                 mve = \"mve\", t = \"t\"), .Names = c(\"moment\", \"mle\", \n  .             \"mve\", \"t\")), cnames = NULL, allow.inf = FALSE, has.default = TRUE, \n  .             default = \"moment\", trafo = NULL, requires = NULL, \n  .             tunable = TRUE, special.vals = list(), when = \"train\"), .Names = c(\"id\", \n  .         \"type\", \"len\", \"lower\", \"upper\", \"values\", \"cnames\", \n  .         \"allow.inf\", \"has.default\", \"default\", \"trafo\", \"requires\", \n  .         \"tunable\", \"special.vals\", \"when\"), class = c(\"LearnerParam\", \n  .         \"Param\")), nu = structure(list(id = \"nu\", type = \"numeric\", \n  .             len = 1L, lower = 2, upper = Inf, values = NULL, \n  .             cnames = NULL, allow.inf = FALSE, has.default = TRUE, \n  .             default = 5, trafo = NULL, requires = method == \"t\", \n  .             tunable = TRUE, special.vals = list(), when = \"train\"), .Names = c(\"id\", \n  .         \"type\", \"len\", \"lower\", \"upper\", \"values\", \"cnames\", \n  .         \"allow.inf\", \"has.default\", \"default\", \"trafo\", \"requires\", \n  .         \"tunable\", \"special.vals\", \"when\"), class = c(\"LearnerParam\", \n  .         \"Param\")), predict.method = structure(list(id = \"predict.method\", \n  .             type = \"discrete\", len = 1L, lower = NULL, upper = NULL, \n  .             values = structure(list(`plug-in` = \"plug-in\", predictive = \"predictive\", \n  .                 debiased = \"debiased\"), .Names = c(\"plug-in\", \n  .             \"predictive\", \"debiased\")), cnames = NULL, allow.inf = FALSE, \n  .             has.default = TRUE, default = \"plug-in\", trafo = NULL, \n  .             requires = NULL, tunable = TRUE, special.vals = list(), \n  .             when = \"predict\"), .Names = c(\"id\", \"type\", \"len\", \n  .         \"lower\", \"upper\", \"values\", \"cnames\", \"allow.inf\", \"has.default\", \n  .         \"default\", \"trafo\", \"requires\", \"tunable\", \"special.vals\", \n  .         \"when\"), class = c(\"LearnerParam\", \"Param\"))), .Names = c(\"method\", \n  .         \"nu\", \"predict.method\")), forbidden = NULL), .Names = c(\"pars\", \n  .     \"forbidden\"), class = c(\"LearnerParamSet\", \"ParamSet\")), \n  .     par.vals = structure(list(), .Names = character(0)), predict.type = \"prob\", \n  .     name = \"Quadratic Discriminant Analysis\", short.name = \"qda\", \n  .     note = \"Learner parameter `predict.method` maps to `method` in `predict.qda`.\", \n  .     config = list(), fix.factors.prediction = TRUE), .Names = c(\"id\", \n  . \"type\", \"package\", \"properties\", \"par.set\", \"par.vals\", \"predict.type\", \n  . \"name\", \"short.name\", \"note\", \"config\", \"fix.factors.prediction\"\n  . ), class = c(\"classif.qda\", \"RLearnerClassif\", \"RLearner\", \"Learner\"\n  . )), .task = structure(list(type = \"classif\", env = <environment>, \n  .     weights = NULL, blocking = NULL, task.desc = structure(list(\n  .         id = \"student\", type = \"classif\", target = \"final_grade\", \n  .         size = 395L, n.feat = structure(c(16L, 17L, 0L), .Names = c(\"numerics\", \n  .         \"factors\", \"ordered\")), has.missings = FALSE, has.weights = FALSE, \n  .         has.blocking = FALSE, class.levels = c(\"A\", \"A-\", \"B\", \n  .         \"B+\", \"C\", \"F\"), positive = NA_character_, negative = NA_character_), .Names = c(\"id\", \n  .     \"type\", \"target\", \"size\", \"n.feat\", \"has.missings\", \"has.weights\", \n  .     \"has.blocking\", \"class.levels\", \"positive\", \"negative\"), class = c(\"ClassifTaskDesc\", \n  .     \"SupervisedTaskDesc\", \"TaskDesc\"))), .Names = c(\"type\", \"env\", \n  . \"weights\", \"blocking\", \"task.desc\"), class = c(\"ClassifTask\", \n  . \"SupervisedTask\", \"Task\")), .subset = c(190L, 249L, 153L, 94L, \n  . 196L, 390L, 92L, 156L, 58L, 22L, 328L, 118L, 385L, 346L, 229L, \n  . 201L, 273L, 115L, 44L, 308L, 135L, 381L, 254L, 307L, 49L, 225L, \n  . 78L, 360L, 209L, 243L, 90L, 31L, 15L, 104L, 96L, 121L, 71L, 279L, \n  . 223L, 133L, 234L, 286L, 182L, 93L, 166L, 378L, 3L, 332L, 47L, \n  . 344L, 265L, 63L, 376L, 238L, 373L, 32L, 24L, 324L, 84L, 287L, \n  . 52L, 11L, 263L, 34L, 13L, 313L, 253L, 191L, 210L, 59L, 60L, 315L, \n  . 144L, 240L, 298L, 42L, 161L, 45L, 352L, 197L, 316L, 167L, 43L, \n  . 232L, 237L, 2L, 276L, 272L, 172L, 149L, 304L, 211L, 66L, 322L, \n  . 131L, 17L, 283L, 362L, 159L, 8L, 242L, 255L, 245L, 199L, 1L, \n  . 136L, 380L, 124L, 100L, 29L, 87L, 355L, 288L, 394L, 336L, 228L, \n  . 5L, 35L, 127L, 200L, 334L, 69L, 145L, 231L, 113L, 350L, 80L, \n  . 257L, 53L, 309L, 284L, 296L, 226L, 214L, 377L, 28L, 383L, 338L, \n  . 155L, 318L, 379L, 365L, 285L, 235L, 295L, 129L, 213L, 107L, 274L, \n  . 89L, 310L, 340L, 299L, 203L, 282L, 230L, 27L, 244L, 150L, 9L, \n  . 25L, 188L, 10L, 250L, 275L, 33L, 14L, 111L, 335L, 119L, 205L, \n  . 81L, 138L, 112L, 256L, 142L, 187L, 194L, 264L, 227L, 95L, 326L, \n  . 289L, 345L, 382L, 189L, 56L, 98L, 97L, 341L, 88L, 179L, 55L, \n  . 151L, 75L, 164L, 371L, 337L, 184L, 170L, 174L, 290L, 349L, 46L, \n  . 117L, 270L, 125L, 19L, 4L, 82L, 120L, 333L, 162L, 267L, 177L, \n  . 74L, 325L, 181L, 222L, 7L, 72L, 192L, 370L, 50L, 389L, 311L, \n  . 384L, 269L, 241L, 12L, 356L, 314L, 158L, 85L, 351L, 116L, 103L, \n  . 321L, 48L, 258L, 171L, 212L, 152L, 207L, 193L, 79L, 106L, 216L, \n  . 236L, 233L, 6L, 57L, 392L, 368L, 388L, 217L, 83L, 391L, 395L, \n  . 154L, 294L, 65L, 375L, 173L, 281L, 271L, 141L, 364L, 91L, 319L, \n  . 386L, 251L, 122L, 169L, 343L, 68L, 359L, 73L, 64L, 327L, 221L, \n  . 374L, 301L, 51L, 132L, 185L, 306L, 280L, 369L, 36L, 305L, 126L, \n  . 140L, 39L, 41L, 123L, 268L, 20L, 165L, 329L, 317L, 302L, 357L, \n  . 366L, 204L, 176L, 70L, 18L, 339L, 220L, 393L, 160L, 109L, 277L, \n  . 148L, 168L, 105L, 180L, 110L, 297L, 208L, 99L, 186L, 175L, 38L, \n  . 26L, 137L, 387L, 86L, 40L, 16L, 239L, 61L, 372L, 183L, 293L, \n  . 37L, 146L, 54L, 342L, 134L, 67L, 354L, 246L, 348L, 21L, 358L, \n  . 130L, 147L, 353L, 62L, 108L, 261L, 266L, 143L, 320L))",
      "14. trainLearner.classif.qda(.learner = structure(list(id = \"classif.qda\", \n  .     type = \"classif\", package = \"MASS\", properties = c(\"twoclass\", \n  .     \"multiclass\", \"numerics\", \"factors\", \"prob\"), par.set = structure(list(\n  .         pars = structure(list(method = structure(list(id = \"method\", \n  .             type = \"discrete\", len = 1L, lower = NULL, upper = NULL, \n  .             values = structure(list(moment = \"moment\", mle = \"mle\", \n  .                 mve = \"mve\", t = \"t\"), .Names = c(\"moment\", \"mle\", \n  .             \"mve\", \"t\")), cnames = NULL, allow.inf = FALSE, has.default = TRUE, \n  .             default = \"moment\", trafo = NULL, requires = NULL, \n  .             tunable = TRUE, special.vals = list(), when = \"train\"), .Names = c(\"id\", \n  .         \"type\", \"len\", \"lower\", \"upper\", \"values\", \"cnames\", \n  .         \"allow.inf\", \"has.default\", \"default\", \"trafo\", \"requires\", \n  .         \"tunable\", \"special.vals\", \"when\"), class = c(\"LearnerParam\", \n  .         \"Param\")), nu = structure(list(id = \"nu\", type = \"numeric\", \n  .             len = 1L, lower = 2, upper = Inf, values = NULL, \n  .             cnames = NULL, allow.inf = FALSE, has.default = TRUE, \n  .             default = 5, trafo = NULL, requires = method == \"t\", \n  .             tunable = TRUE, special.vals = list(), when = \"train\"), .Names = c(\"id\", \n  .         \"type\", \"len\", \"lower\", \"upper\", \"values\", \"cnames\", \n  .         \"allow.inf\", \"has.default\", \"default\", \"trafo\", \"requires\", \n  .         \"tunable\", \"special.vals\", \"when\"), class = c(\"LearnerParam\", \n  .         \"Param\")), predict.method = structure(list(id = \"predict.method\", \n  .             type = \"discrete\", len = 1L, lower = NULL, upper = NULL, \n  .             values = structure(list(`plug-in` = \"plug-in\", predictive = \"predictive\", \n  .                 debiased = \"debiased\"), .Names = c(\"plug-in\", \n  .             \"predictive\", \"debiased\")), cnames = NULL, allow.inf = FALSE, \n  .             has.default = TRUE, default = \"plug-in\", trafo = NULL, \n  .             requires = NULL, tunable = TRUE, special.vals = list(), \n  .             when = \"predict\"), .Names = c(\"id\", \"type\", \"len\", \n  .         \"lower\", \"upper\", \"values\", \"cnames\", \"allow.inf\", \"has.default\", \n  .         \"default\", \"trafo\", \"requires\", \"tunable\", \"special.vals\", \n  .         \"when\"), class = c(\"LearnerParam\", \"Param\"))), .Names = c(\"method\", \n  .         \"nu\", \"predict.method\")), forbidden = NULL), .Names = c(\"pars\", \n  .     \"forbidden\"), class = c(\"LearnerParamSet\", \"ParamSet\")), \n  .     par.vals = structure(list(), .Names = character(0)), predict.type = \"prob\", \n  .     name = \"Quadratic Discriminant Analysis\", short.name = \"qda\", \n  .     note = \"Learner parameter `predict.method` maps to `method` in `predict.qda`.\", \n  .     config = list(), fix.factors.prediction = TRUE), .Names = c(\"id\", \n  . \"type\", \"package\", \"properties\", \"par.set\", \"par.vals\", \"predict.type\", \n  . \"name\", \"short.name\", \"note\", \"config\", \"fix.factors.prediction\"\n  . ), class = c(\"classif.qda\", \"RLearnerClassif\", \"RLearner\", \"Learner\"\n  . )), .task = structure(list(type = \"classif\", env = <environment>, \n  .     weights = NULL, blocking = NULL, task.desc = structure(list(\n  .         id = \"student\", type = \"classif\", target = \"final_grade\", \n  .         size = 395L, n.feat = structure(c(16L, 17L, 0L), .Names = c(\"numerics\", \n  .         \"factors\", \"ordered\")), has.missings = FALSE, has.weights = FALSE, \n  .         has.blocking = FALSE, class.levels = c(\"A\", \"A-\", \"B\", \n  .         \"B+\", \"C\", \"F\"), positive = NA_character_, negative = NA_character_), .Names = c(\"id\", \n  .     \"type\", \"target\", \"size\", \"n.feat\", \"has.missings\", \"has.weights\", \n  .     \"has.blocking\", \"class.levels\", \"positive\", \"negative\"), class = c(\"ClassifTaskDesc\", \n  .     \"SupervisedTaskDesc\", \"TaskDesc\"))), .Names = c(\"type\", \"env\", \n  . \"weights\", \"blocking\", \"task.desc\"), class = c(\"ClassifTask\", \n  . \"SupervisedTask\", \"Task\")), .subset = c(190L, 249L, 153L, 94L, \n  . 196L, 390L, 92L, 156L, 58L, 22L, 328L, 118L, 385L, 346L, 229L, \n  . 201L, 273L, 115L, 44L, 308L, 135L, 381L, 254L, 307L, 49L, 225L, \n  . 78L, 360L, 209L, 243L, 90L, 31L, 15L, 104L, 96L, 121L, 71L, 279L, \n  . 223L, 133L, 234L, 286L, 182L, 93L, 166L, 378L, 3L, 332L, 47L, \n  . 344L, 265L, 63L, 376L, 238L, 373L, 32L, 24L, 324L, 84L, 287L, \n  . 52L, 11L, 263L, 34L, 13L, 313L, 253L, 191L, 210L, 59L, 60L, 315L, \n  . 144L, 240L, 298L, 42L, 161L, 45L, 352L, 197L, 316L, 167L, 43L, \n  . 232L, 237L, 2L, 276L, 272L, 172L, 149L, 304L, 211L, 66L, 322L, \n  . 131L, 17L, 283L, 362L, 159L, 8L, 242L, 255L, 245L, 199L, 1L, \n  . 136L, 380L, 124L, 100L, 29L, 87L, 355L, 288L, 394L, 336L, 228L, \n  . 5L, 35L, 127L, 200L, 334L, 69L, 145L, 231L, 113L, 350L, 80L, \n  . 257L, 53L, 309L, 284L, 296L, 226L, 214L, 377L, 28L, 383L, 338L, \n  . 155L, 318L, 379L, 365L, 285L, 235L, 295L, 129L, 213L, 107L, 274L, \n  . 89L, 310L, 340L, 299L, 203L, 282L, 230L, 27L, 244L, 150L, 9L, \n  . 25L, 188L, 10L, 250L, 275L, 33L, 14L, 111L, 335L, 119L, 205L, \n  . 81L, 138L, 112L, 256L, 142L, 187L, 194L, 264L, 227L, 95L, 326L, \n  . 289L, 345L, 382L, 189L, 56L, 98L, 97L, 341L, 88L, 179L, 55L, \n  . 151L, 75L, 164L, 371L, 337L, 184L, 170L, 174L, 290L, 349L, 46L, \n  . 117L, 270L, 125L, 19L, 4L, 82L, 120L, 333L, 162L, 267L, 177L, \n  . 74L, 325L, 181L, 222L, 7L, 72L, 192L, 370L, 50L, 389L, 311L, \n  . 384L, 269L, 241L, 12L, 356L, 314L, 158L, 85L, 351L, 116L, 103L, \n  . 321L, 48L, 258L, 171L, 212L, 152L, 207L, 193L, 79L, 106L, 216L, \n  . 236L, 233L, 6L, 57L, 392L, 368L, 388L, 217L, 83L, 391L, 395L, \n  . 154L, 294L, 65L, 375L, 173L, 281L, 271L, 141L, 364L, 91L, 319L, \n  . 386L, 251L, 122L, 169L, 343L, 68L, 359L, 73L, 64L, 327L, 221L, \n  . 374L, 301L, 51L, 132L, 185L, 306L, 280L, 369L, 36L, 305L, 126L, \n  . 140L, 39L, 41L, 123L, 268L, 20L, 165L, 329L, 317L, 302L, 357L, \n  . 366L, 204L, 176L, 70L, 18L, 339L, 220L, 393L, 160L, 109L, 277L, \n  . 148L, 168L, 105L, 180L, 110L, 297L, 208L, 99L, 186L, 175L, 38L, \n  . 26L, 137L, 387L, 86L, 40L, 16L, 239L, 61L, 372L, 183L, 293L, \n  . 37L, 146L, 54L, 342L, 134L, 67L, 354L, 246L, 348L, 21L, 358L, \n  . 130L, 147L, 353L, 62L, 108L, 261L, 266L, 143L, 320L))",
      "15. MASS::qda(f, data = getTaskData(.task, .subset, recode.target = \"drop.levels\"), \n  .     ...)",
      "16. qda.formula(f, data = getTaskData(.task, .subset, recode.target = \"drop.levels\"), \n  .     ...)",
      "17. qda.default(x, grouping, ...)",
      "18. stop(\"some group is too small for 'qda'\")"
     ]
    }
   ],
   "source": [
    "# !!! Error caused by the low number of observations in class\n",
    "\n",
    "# Set up cross-validation\n",
    "rdesc = makeResampleDesc(\"CV\", iters=10)\n",
    "\n",
    "# Define the model\n",
    "lnr_qda <- makeLearner(\"classif.qda\", predict.type=\"prob\", fix.factors.prediction=T)\n",
    "\n",
    "# Define the model\n",
    "task_logreg <- makeClassifTask(id=\"student\", data=student, target=\"final_grade\")\n",
    "\n",
    "# Run the k-fold CV\n",
    "resample(lnr_qda, task_logreg, rdesc, measures=list(acc))"
   ]
  },
  {
   "cell_type": "markdown",
   "metadata": {},
   "source": [
    "**Test k-Nearest Neighbor (kNN) model, k=1, 10-fold CV**"
   ]
  },
  {
   "cell_type": "code",
   "execution_count": 130,
   "metadata": {},
   "outputs": [
    {
     "name": "stderr",
     "output_type": "stream",
     "text": [
      "[Resample] cross-validation iter 1: acc.test.mean=0.385\n",
      "[Resample] cross-validation iter 2: acc.test.mean=0.359\n",
      "[Resample] cross-validation iter 3: acc.test.mean=0.325\n",
      "[Resample] cross-validation iter 4: acc.test.mean=0.538\n",
      "[Resample] cross-validation iter 5: acc.test.mean=0.325\n",
      "[Resample] cross-validation iter 6: acc.test.mean=0.35\n",
      "[Resample] cross-validation iter 7: acc.test.mean=0.462\n",
      "[Resample] cross-validation iter 8: acc.test.mean=0.425\n",
      "[Resample] cross-validation iter 9: acc.test.mean=0.35\n",
      "[Resample] cross-validation iter 10: acc.test.mean=0.359\n",
      "[Resample] Aggr. Result: acc.test.mean=0.388\n"
     ]
    },
    {
     "data": {
      "text/plain": [
       "Resample Result\n",
       "Task: student\n",
       "Learner: classif.kknn\n",
       "Aggr perf: acc.test.mean=0.388\n",
       "Runtime: 0.905397"
      ]
     },
     "metadata": {},
     "output_type": "display_data"
    }
   ],
   "source": [
    "# Set up cross-validation\n",
    "rdesc = makeResampleDesc(\"CV\", iters=10)\n",
    "\n",
    "# Define the model\n",
    "lnr_knn <- makeLearner(\"classif.kknn\", predict.type=\"prob\", fix.factors.prediction=T, k=1)\n",
    "\n",
    "# Define the model\n",
    "task_logreg <- makeClassifTask(id=\"student\", data=student, target=\"final_grade\")\n",
    "\n",
    "# Run the k-fold CV\n",
    "resample(lnr_knn, task_logreg, rdesc, measures=list(acc))"
   ]
  },
  {
   "cell_type": "markdown",
   "metadata": {},
   "source": [
    "**Test k-Nearest Neighbor (kNN) model, k=100, 10-fold CV**"
   ]
  },
  {
   "cell_type": "code",
   "execution_count": 134,
   "metadata": {},
   "outputs": [
    {
     "name": "stderr",
     "output_type": "stream",
     "text": [
      "[Resample] cross-validation iter 1: acc.test.mean=0.425\n",
      "[Resample] cross-validation iter 2: acc.test.mean=0.525\n",
      "[Resample] cross-validation iter 3: acc.test.mean=0.564\n",
      "[Resample] cross-validation iter 4: acc.test.mean=0.564\n",
      "[Resample] cross-validation iter 5: acc.test.mean=0.675\n",
      "[Resample] cross-validation iter 6: acc.test.mean=0.615\n",
      "[Resample] cross-validation iter 7: acc.test.mean=0.667\n",
      "[Resample] cross-validation iter 8: acc.test.mean=0.375\n",
      "[Resample] cross-validation iter 9: acc.test.mean=0.575\n",
      "[Resample] cross-validation iter 10: acc.test.mean=0.538\n",
      "[Resample] Aggr. Result: acc.test.mean=0.552\n"
     ]
    },
    {
     "data": {
      "text/plain": [
       "Resample Result\n",
       "Task: student\n",
       "Learner: classif.kknn\n",
       "Aggr perf: acc.test.mean=0.552\n",
       "Runtime: 0.476773"
      ]
     },
     "metadata": {},
     "output_type": "display_data"
    }
   ],
   "source": [
    "# Set up cross-validation\n",
    "rdesc = makeResampleDesc(\"CV\", iters=10)\n",
    "\n",
    "# Define the model\n",
    "lnr_knn <- makeLearner(\"classif.kknn\", predict.type=\"prob\", fix.factors.prediction=T, k=100)\n",
    "\n",
    "# Define the model\n",
    "task_logreg <- makeClassifTask(id=\"student\", data=student, target=\"final_grade\")\n",
    "\n",
    "# Run the k-fold CV\n",
    "resample(lnr_knn, task_logreg, rdesc, measures=list(acc))"
   ]
  }
 ],
 "metadata": {
  "kernelspec": {
   "display_name": "R",
   "language": "R",
   "name": "ir"
  },
  "language_info": {
   "codemirror_mode": "r",
   "file_extension": ".r",
   "mimetype": "text/x-r-source",
   "name": "R",
   "pygments_lexer": "r",
   "version": "3.3.3"
  }
 },
 "nbformat": 4,
 "nbformat_minor": 2
}
